{
 "cells": [
  {
   "cell_type": "code",
   "execution_count": 1,
   "metadata": {
    "collapsed": true
   },
   "outputs": [],
   "source": [
    "import pandas as pd\n",
    "import numpy as np\n",
    "from scipy import stats, integrate\n",
    "import scipy.stats as stats\n",
    "import matplotlib.pyplot as plt\n",
    "import matplotlib.mlab as mlab\n",
    "%matplotlib inline"
   ]
  },
  {
   "cell_type": "code",
   "execution_count": 2,
   "metadata": {
    "collapsed": true
   },
   "outputs": [],
   "source": [
    "def read_loan(path,fn):\n",
    "    df=pd.DataFrame(pd.read_table(path+\"\\\\\"+fn+\".txt\"))\n",
    "    df.columns = ['loan_id','ory',\n",
    "    'orig_upb','loan_purp','prop_type','multi_unit','orig_chn','occ_stat',\n",
    "    'dti_new', 'FICO_new', 'ltv_new', 'fhb_flag', 'no_bor', 'prop_type_eligible', 'MI_chl', 'dr_time_default',\n",
    "    'Ever_Delinquent', 'current_status', 'claim_flag']\n",
    "    return df"
   ]
  },
  {
   "cell_type": "code",
   "execution_count": 3,
   "metadata": {
    "collapsed": true,
    "scrolled": true
   },
   "outputs": [],
   "source": [
    "df=read_loan(\"C:\\\\Users\\\\SunLix\\\\Data\\\\Project\\\\Default Classification\",\"Loan_Orig_2010_2013\")"
   ]
  },
  {
   "cell_type": "code",
   "execution_count": 4,
   "metadata": {
    "scrolled": true
   },
   "outputs": [
    {
     "data": {
      "text/html": [
       "<div>\n",
       "<style>\n",
       "    .dataframe thead tr:only-child th {\n",
       "        text-align: right;\n",
       "    }\n",
       "\n",
       "    .dataframe thead th {\n",
       "        text-align: left;\n",
       "    }\n",
       "\n",
       "    .dataframe tbody tr th {\n",
       "        vertical-align: top;\n",
       "    }\n",
       "</style>\n",
       "<table border=\"1\" class=\"dataframe\">\n",
       "  <thead>\n",
       "    <tr style=\"text-align: right;\">\n",
       "      <th></th>\n",
       "      <th>loan_id</th>\n",
       "      <th>ory</th>\n",
       "      <th>orig_upb</th>\n",
       "      <th>loan_purp</th>\n",
       "      <th>prop_type</th>\n",
       "      <th>multi_unit</th>\n",
       "      <th>orig_chn</th>\n",
       "      <th>occ_stat</th>\n",
       "      <th>dti_new</th>\n",
       "      <th>FICO_new</th>\n",
       "      <th>ltv_new</th>\n",
       "      <th>fhb_flag</th>\n",
       "      <th>no_bor</th>\n",
       "      <th>prop_type_eligible</th>\n",
       "      <th>MI_chl</th>\n",
       "      <th>dr_time_default</th>\n",
       "      <th>Ever_Delinquent</th>\n",
       "      <th>current_status</th>\n",
       "      <th>claim_flag</th>\n",
       "    </tr>\n",
       "  </thead>\n",
       "  <tbody>\n",
       "    <tr>\n",
       "      <th>0</th>\n",
       "      <td>8092146</td>\n",
       "      <td>2010</td>\n",
       "      <td>142200</td>\n",
       "      <td>P</td>\n",
       "      <td>SF</td>\n",
       "      <td>0</td>\n",
       "      <td>R</td>\n",
       "      <td>O</td>\n",
       "      <td>22.5</td>\n",
       "      <td>800</td>\n",
       "      <td>90</td>\n",
       "      <td>Y</td>\n",
       "      <td>2</td>\n",
       "      <td>1</td>\n",
       "      <td>Non-Delegated</td>\n",
       "      <td>NaN</td>\n",
       "      <td>0</td>\n",
       "      <td>17.Cancel</td>\n",
       "      <td>0</td>\n",
       "    </tr>\n",
       "    <tr>\n",
       "      <th>1</th>\n",
       "      <td>8092147</td>\n",
       "      <td>2010</td>\n",
       "      <td>160550</td>\n",
       "      <td>P</td>\n",
       "      <td>SF</td>\n",
       "      <td>0</td>\n",
       "      <td>R</td>\n",
       "      <td>O</td>\n",
       "      <td>32.5</td>\n",
       "      <td>730</td>\n",
       "      <td>95</td>\n",
       "      <td>Y</td>\n",
       "      <td>1</td>\n",
       "      <td>1</td>\n",
       "      <td>Non-Delegated</td>\n",
       "      <td>NaN</td>\n",
       "      <td>0</td>\n",
       "      <td>17.Cancel</td>\n",
       "      <td>0</td>\n",
       "    </tr>\n",
       "    <tr>\n",
       "      <th>2</th>\n",
       "      <td>8092148</td>\n",
       "      <td>2010</td>\n",
       "      <td>224639</td>\n",
       "      <td>P</td>\n",
       "      <td>SF</td>\n",
       "      <td>0</td>\n",
       "      <td>R</td>\n",
       "      <td>O</td>\n",
       "      <td>27.5</td>\n",
       "      <td>800</td>\n",
       "      <td>97</td>\n",
       "      <td>Y</td>\n",
       "      <td>2</td>\n",
       "      <td>1</td>\n",
       "      <td>Non-Delegated</td>\n",
       "      <td>NaN</td>\n",
       "      <td>0</td>\n",
       "      <td>01.Current</td>\n",
       "      <td>0</td>\n",
       "    </tr>\n",
       "    <tr>\n",
       "      <th>3</th>\n",
       "      <td>8092150</td>\n",
       "      <td>2010</td>\n",
       "      <td>340425</td>\n",
       "      <td>P</td>\n",
       "      <td>SF</td>\n",
       "      <td>0</td>\n",
       "      <td>R</td>\n",
       "      <td>O</td>\n",
       "      <td>22.5</td>\n",
       "      <td>730</td>\n",
       "      <td>90</td>\n",
       "      <td>Y</td>\n",
       "      <td>2</td>\n",
       "      <td>1</td>\n",
       "      <td>Non-Delegated</td>\n",
       "      <td>NaN</td>\n",
       "      <td>0</td>\n",
       "      <td>17.Cancel</td>\n",
       "      <td>0</td>\n",
       "    </tr>\n",
       "    <tr>\n",
       "      <th>4</th>\n",
       "      <td>8092152</td>\n",
       "      <td>2010</td>\n",
       "      <td>270750</td>\n",
       "      <td>P</td>\n",
       "      <td>SF</td>\n",
       "      <td>0</td>\n",
       "      <td>R</td>\n",
       "      <td>O</td>\n",
       "      <td>32.5</td>\n",
       "      <td>730</td>\n",
       "      <td>95</td>\n",
       "      <td>Y</td>\n",
       "      <td>2</td>\n",
       "      <td>1</td>\n",
       "      <td>Non-Delegated</td>\n",
       "      <td>NaN</td>\n",
       "      <td>0</td>\n",
       "      <td>17.Cancel</td>\n",
       "      <td>0</td>\n",
       "    </tr>\n",
       "  </tbody>\n",
       "</table>\n",
       "</div>"
      ],
      "text/plain": [
       "   loan_id   ory  orig_upb loan_purp prop_type  multi_unit orig_chn occ_stat  \\\n",
       "0  8092146  2010    142200         P        SF           0        R        O   \n",
       "1  8092147  2010    160550         P        SF           0        R        O   \n",
       "2  8092148  2010    224639         P        SF           0        R        O   \n",
       "3  8092150  2010    340425         P        SF           0        R        O   \n",
       "4  8092152  2010    270750         P        SF           0        R        O   \n",
       "\n",
       "   dti_new  FICO_new  ltv_new fhb_flag  no_bor  prop_type_eligible  \\\n",
       "0     22.5       800       90        Y       2                   1   \n",
       "1     32.5       730       95        Y       1                   1   \n",
       "2     27.5       800       97        Y       2                   1   \n",
       "3     22.5       730       90        Y       2                   1   \n",
       "4     32.5       730       95        Y       2                   1   \n",
       "\n",
       "          MI_chl  dr_time_default  Ever_Delinquent current_status  claim_flag  \n",
       "0  Non-Delegated              NaN                0      17.Cancel           0  \n",
       "1  Non-Delegated              NaN                0      17.Cancel           0  \n",
       "2  Non-Delegated              NaN                0     01.Current           0  \n",
       "3  Non-Delegated              NaN                0      17.Cancel           0  \n",
       "4  Non-Delegated              NaN                0      17.Cancel           0  "
      ]
     },
     "execution_count": 4,
     "metadata": {},
     "output_type": "execute_result"
    }
   ],
   "source": [
    "df.head()"
   ]
  },
  {
   "cell_type": "code",
   "execution_count": 5,
   "metadata": {
    "scrolled": true
   },
   "outputs": [
    {
     "data": {
      "text/plain": [
       "(481218, 19)"
      ]
     },
     "execution_count": 5,
     "metadata": {},
     "output_type": "execute_result"
    }
   ],
   "source": [
    "# Get size of data\n",
    "df.shape"
   ]
  },
  {
   "cell_type": "code",
   "execution_count": 6,
   "metadata": {},
   "outputs": [
    {
     "data": {
      "text/plain": [
       "481218"
      ]
     },
     "execution_count": 6,
     "metadata": {},
     "output_type": "execute_result"
    }
   ],
   "source": [
    "# unique number of loans\n",
    "df.loan_id.nunique()"
   ]
  },
  {
   "cell_type": "code",
   "execution_count": 7,
   "metadata": {},
   "outputs": [
    {
     "data": {
      "text/plain": [
       "loan_id                 int64\n",
       "ory                     int64\n",
       "orig_upb                int64\n",
       "loan_purp              object\n",
       "prop_type              object\n",
       "multi_unit              int64\n",
       "orig_chn               object\n",
       "occ_stat               object\n",
       "dti_new               float64\n",
       "FICO_new                int64\n",
       "ltv_new                 int64\n",
       "fhb_flag               object\n",
       "no_bor                  int64\n",
       "prop_type_eligible      int64\n",
       "MI_chl                 object\n",
       "dr_time_default       float64\n",
       "Ever_Delinquent         int64\n",
       "current_status         object\n",
       "claim_flag              int64\n",
       "dtype: object"
      ]
     },
     "execution_count": 7,
     "metadata": {},
     "output_type": "execute_result"
    }
   ],
   "source": [
    "# Get the list of columns along with dtypes\n",
    "df.dtypes"
   ]
  },
  {
   "cell_type": "markdown",
   "metadata": {},
   "source": [
    "### Exploratory Data Analysis "
   ]
  },
  {
   "cell_type": "code",
   "execution_count": 8,
   "metadata": {},
   "outputs": [
    {
     "data": {
      "text/plain": [
       "loan_id               False\n",
       "ory                   False\n",
       "orig_upb              False\n",
       "loan_purp             False\n",
       "prop_type             False\n",
       "multi_unit            False\n",
       "orig_chn              False\n",
       "occ_stat              False\n",
       "dti_new               False\n",
       "FICO_new              False\n",
       "ltv_new               False\n",
       "fhb_flag              False\n",
       "no_bor                False\n",
       "prop_type_eligible    False\n",
       "MI_chl                False\n",
       "dr_time_default        True\n",
       "Ever_Delinquent       False\n",
       "current_status        False\n",
       "claim_flag            False\n",
       "dtype: bool"
      ]
     },
     "execution_count": 8,
     "metadata": {},
     "output_type": "execute_result"
    }
   ],
   "source": [
    "#check any column with NAN value\n",
    "df.isnull().any()"
   ]
  },
  {
   "cell_type": "markdown",
   "metadata": {},
   "source": [
    "**Count by Origination Year**\n",
    "- % Claim by Origination Year"
   ]
  },
  {
   "cell_type": "code",
   "execution_count": 9,
   "metadata": {},
   "outputs": [
    {
     "data": {
      "text/plain": [
       "ory\n",
       "2010    10.6%\n",
       "2011    15.0%\n",
       "2012    34.5%\n",
       "2013    40.0%\n",
       "Name: loan_id, dtype: object"
      ]
     },
     "execution_count": 9,
     "metadata": {},
     "output_type": "execute_result"
    }
   ],
   "source": [
    "(df.groupby('ory').loan_id.nunique()/df.loan_id.nunique())\\\n",
    ".mul(100).round(1).astype(str) + '%'"
   ]
  },
  {
   "cell_type": "code",
   "execution_count": 10,
   "metadata": {},
   "outputs": [
    {
     "data": {
      "text/plain": [
       "ory\n",
       "2010    0.6%\n",
       "2011    0.3%\n",
       "2012    0.1%\n",
       "2013    0.1%\n",
       "Name: loan_id, dtype: object"
      ]
     },
     "execution_count": 10,
     "metadata": {},
     "output_type": "execute_result"
    }
   ],
   "source": [
    "((df[df['claim_flag']==1].groupby('ory').loan_id.nunique())/df.groupby('ory').loan_id.nunique())\\\n",
    ".mul(100).round(1).astype(str) + '%'"
   ]
  },
  {
   "cell_type": "markdown",
   "metadata": {},
   "source": [
    "**Loan Purpose**: Purchase(P), Refinance with Cash-Out(C), Refinance Pay-off Existing Lien(N) "
   ]
  },
  {
   "cell_type": "code",
   "execution_count": 11,
   "metadata": {},
   "outputs": [
    {
     "data": {
      "text/plain": [
       "loan_purp\n",
       "C     2.6%\n",
       "N    32.4%\n",
       "P    65.1%\n",
       "Name: loan_id, dtype: object"
      ]
     },
     "execution_count": 11,
     "metadata": {},
     "output_type": "execute_result"
    }
   ],
   "source": [
    "(df.groupby('loan_purp').loan_id.nunique()/df.loan_id.nunique())\\\n",
    ".mul(100).round(1).astype(str) + '%'"
   ]
  },
  {
   "cell_type": "markdown",
   "metadata": {},
   "source": [
    "**Property Type**: Single-Family and PUD(SF), Condo and Co-Op(CO), Manufactured Housing(MH)"
   ]
  },
  {
   "cell_type": "code",
   "execution_count": 12,
   "metadata": {},
   "outputs": [
    {
     "data": {
      "text/plain": [
       "prop_type\n",
       "CO     9.8%\n",
       "MH     0.3%\n",
       "SF    89.9%\n",
       "Name: loan_id, dtype: object"
      ]
     },
     "execution_count": 12,
     "metadata": {},
     "output_type": "execute_result"
    }
   ],
   "source": [
    "(df.groupby('prop_type').loan_id.nunique()/df.loan_id.nunique())\\\n",
    ".mul(100).round(1).astype(str) + '%'"
   ]
  },
  {
   "cell_type": "markdown",
   "metadata": {},
   "source": [
    "**Number of Units** "
   ]
  },
  {
   "cell_type": "code",
   "execution_count": 13,
   "metadata": {},
   "outputs": [
    {
     "data": {
      "text/plain": [
       "multi_unit\n",
       "0    99.9%\n",
       "1     0.1%\n",
       "Name: loan_id, dtype: object"
      ]
     },
     "execution_count": 13,
     "metadata": {},
     "output_type": "execute_result"
    }
   ],
   "source": [
    "(df.groupby('multi_unit').loan_id.nunique()/df.loan_id.nunique())\\\n",
    ".mul(100).round(1).astype(str) + '%'"
   ]
  },
  {
   "cell_type": "markdown",
   "metadata": {},
   "source": [
    "**Origination Channel:** Retail(R), Broker(B), Correspondent(C)"
   ]
  },
  {
   "cell_type": "code",
   "execution_count": 14,
   "metadata": {},
   "outputs": [
    {
     "data": {
      "text/plain": [
       "orig_chn\n",
       "R    100.0%\n",
       "Name: loan_id, dtype: object"
      ]
     },
     "execution_count": 14,
     "metadata": {},
     "output_type": "execute_result"
    }
   ],
   "source": [
    "(df.groupby('orig_chn').loan_id.nunique()/df.loan_id.nunique())\\\n",
    ".mul(100).round(1).astype(str) + '%'"
   ]
  },
  {
   "cell_type": "markdown",
   "metadata": {},
   "source": [
    "**Occupancy Status:** Prim Resident or Unknown(O), Second(S), Investor(I)"
   ]
  },
  {
   "cell_type": "code",
   "execution_count": 15,
   "metadata": {},
   "outputs": [
    {
     "data": {
      "text/plain": [
       "occ_stat\n",
       "I     0.0%\n",
       "O    96.5%\n",
       "S     3.5%\n",
       "Name: loan_id, dtype: object"
      ]
     },
     "execution_count": 15,
     "metadata": {},
     "output_type": "execute_result"
    }
   ],
   "source": [
    "(df.groupby('occ_stat').loan_id.nunique()/df.loan_id.nunique())\\\n",
    ".mul(100).round(1).astype(str) + '%'"
   ]
  },
  {
   "cell_type": "markdown",
   "metadata": {},
   "source": [
    "\n",
    "**DTI**"
   ]
  },
  {
   "cell_type": "code",
   "execution_count": 16,
   "metadata": {},
   "outputs": [
    {
     "data": {
      "text/plain": [
       "dti_new\n",
       "5.0      0.2%\n",
       "12.5     1.2%\n",
       "17.5     4.6%\n",
       "22.5    10.2%\n",
       "27.5    15.5%\n",
       "32.5    18.9%\n",
       "37.5    21.4%\n",
       "42.5    25.3%\n",
       "47.5     2.5%\n",
       "50.0     0.2%\n",
       "Name: loan_id, dtype: object"
      ]
     },
     "execution_count": 16,
     "metadata": {},
     "output_type": "execute_result"
    }
   ],
   "source": [
    "((df.groupby('dti_new').loan_id.nunique().sort_index())/df.loan_id.nunique())\\\n",
    ".mul(100).round(1).astype(str) + '%'"
   ]
  },
  {
   "cell_type": "code",
   "execution_count": 17,
   "metadata": {
    "scrolled": true
   },
   "outputs": [
    {
     "data": {
      "image/png": "[encoded data removed]",
      "text/plain": [
       "<matplotlib.figure.Figure at 0x2d0aa3e27f0>"
      ]
     },
     "metadata": {},
     "output_type": "display_data"
    }
   ],
   "source": [
    "dti_distri = (df.groupby('dti_new').loan_id.nunique().sort_index())/df.loan_id.nunique()\n",
    "dti_distri.plot(kind = 'line', title = 'DTI').set(xlabel = 'DTI', ylabel = '% to Total')\n",
    "plt.show()"
   ]
  },
  {
   "cell_type": "markdown",
   "metadata": {},
   "source": [
    "**FICO**"
   ]
  },
  {
   "cell_type": "code",
   "execution_count": 18,
   "metadata": {},
   "outputs": [
    {
     "data": {
      "text/plain": [
       "FICO_new\n",
       "630     0.5%\n",
       "650     1.2%\n",
       "670     2.2%\n",
       "690     6.1%\n",
       "710     8.3%\n",
       "730    13.0%\n",
       "750    17.2%\n",
       "770    20.6%\n",
       "790    20.9%\n",
       "800     9.9%\n",
       "Name: loan_id, dtype: object"
      ]
     },
     "execution_count": 18,
     "metadata": {},
     "output_type": "execute_result"
    }
   ],
   "source": [
    "((df.groupby('FICO_new').loan_id.nunique().sort_index())/df.loan_id.nunique())\\\n",
    ".mul(100).round(1).astype(str) + '%'"
   ]
  },
  {
   "cell_type": "code",
   "execution_count": 19,
   "metadata": {},
   "outputs": [
    {
     "data": {
      "image/png": "[encoded data removed]",
      "text/plain": [
       "<matplotlib.figure.Figure at 0x2d0aaa62860>"
      ]
     },
     "metadata": {},
     "output_type": "display_data"
    }
   ],
   "source": [
    "dti_distri2 = (df.groupby('FICO_new').loan_id.nunique().sort_index())/df.loan_id.nunique()\n",
    "dti_distri2.plot(kind = 'line', title = 'FICO').set(xlabel = 'FICO', ylabel = '% to Total')\n",
    "plt.show()"
   ]
  },
  {
   "cell_type": "markdown",
   "metadata": {},
   "source": [
    "**LTV**"
   ]
  },
  {
   "cell_type": "code",
   "execution_count": 20,
   "metadata": {},
   "outputs": [
    {
     "data": {
      "text/plain": [
       "ltv_new\n",
       "85    15.6%\n",
       "90    38.7%\n",
       "95    43.5%\n",
       "97     2.3%\n",
       "Name: loan_id, dtype: object"
      ]
     },
     "execution_count": 20,
     "metadata": {},
     "output_type": "execute_result"
    }
   ],
   "source": [
    "((df.groupby('ltv_new').loan_id.nunique().sort_index())/df.loan_id.nunique())\\\n",
    ".mul(100).round(1).astype(str) + '%'"
   ]
  },
  {
   "cell_type": "code",
   "execution_count": 21,
   "metadata": {},
   "outputs": [
    {
     "data": {
      "image/png": "[encoded data removed]",
      "text/plain": [
       "<matplotlib.figure.Figure at 0x2d0a8028780>"
      ]
     },
     "metadata": {},
     "output_type": "display_data"
    }
   ],
   "source": [
    "dti_distri2 = (df.groupby('ltv_new').loan_id.nunique().sort_index())/df.loan_id.nunique()\n",
    "dti_distri2.plot(kind = 'line', title = 'LTV').set(xlabel = 'LTV', ylabel = '% to Total')\n",
    "plt.show()"
   ]
  },
  {
   "cell_type": "markdown",
   "metadata": {},
   "source": [
    "**First Time Home-Buyer**"
   ]
  },
  {
   "cell_type": "code",
   "execution_count": 22,
   "metadata": {},
   "outputs": [
    {
     "data": {
      "text/plain": [
       "fhb_flag\n",
       "N    68.3%\n",
       "Y    31.7%\n",
       "Name: loan_id, dtype: object"
      ]
     },
     "execution_count": 22,
     "metadata": {},
     "output_type": "execute_result"
    }
   ],
   "source": [
    "(df.groupby('fhb_flag').loan_id.nunique()/df.loan_id.nunique())\\\n",
    ".mul(100).round(1).astype(str) + '%'"
   ]
  },
  {
   "cell_type": "markdown",
   "metadata": {},
   "source": [
    "**Number of Borrowers**"
   ]
  },
  {
   "cell_type": "code",
   "execution_count": 23,
   "metadata": {},
   "outputs": [
    {
     "data": {
      "text/plain": [
       "no_bor\n",
       "1    50.8%\n",
       "2    49.2%\n",
       "Name: loan_id, dtype: object"
      ]
     },
     "execution_count": 23,
     "metadata": {},
     "output_type": "execute_result"
    }
   ],
   "source": [
    "(df.groupby('no_bor').loan_id.nunique()/df.loan_id.nunique())\\\n",
    ".mul(100).round(1).astype(str) + '%'"
   ]
  },
  {
   "cell_type": "markdown",
   "metadata": {},
   "source": [
    "**Property Type Eligibility**"
   ]
  },
  {
   "cell_type": "code",
   "execution_count": 24,
   "metadata": {},
   "outputs": [
    {
     "data": {
      "text/plain": [
       "prop_type_eligible\n",
       "0     0.3%\n",
       "1    99.7%\n",
       "Name: loan_id, dtype: object"
      ]
     },
     "execution_count": 24,
     "metadata": {},
     "output_type": "execute_result"
    }
   ],
   "source": [
    "(df.groupby('prop_type_eligible').loan_id.nunique()/df.loan_id.nunique())\\\n",
    ".mul(100).round(1).astype(str) + '%'"
   ]
  },
  {
   "cell_type": "markdown",
   "metadata": {},
   "source": [
    "**MI Channel**"
   ]
  },
  {
   "cell_type": "code",
   "execution_count": 25,
   "metadata": {},
   "outputs": [
    {
     "data": {
      "text/plain": [
       "MI_chl\n",
       "Delegated        66.7%\n",
       "Non-Delegated    33.3%\n",
       "Name: loan_id, dtype: object"
      ]
     },
     "execution_count": 25,
     "metadata": {},
     "output_type": "execute_result"
    }
   ],
   "source": [
    "(df.groupby('MI_chl').loan_id.nunique()/df.loan_id.nunique())\\\n",
    ".mul(100).round(1).astype(str) + '%'"
   ]
  },
  {
   "cell_type": "markdown",
   "metadata": {},
   "source": [
    "**Ever Delinquent**"
   ]
  },
  {
   "cell_type": "code",
   "execution_count": 26,
   "metadata": {},
   "outputs": [
    {
     "data": {
      "text/plain": [
       "Ever_Delinquent\n",
       "0    97.5%\n",
       "1     2.5%\n",
       "Name: loan_id, dtype: object"
      ]
     },
     "execution_count": 26,
     "metadata": {},
     "output_type": "execute_result"
    }
   ],
   "source": [
    "(df.groupby('Ever_Delinquent').loan_id.nunique()/df.loan_id.nunique())\\\n",
    ".mul(100).round(1).astype(str) + '%'"
   ]
  },
  {
   "cell_type": "code",
   "execution_count": 27,
   "metadata": {},
   "outputs": [
    {
     "data": {
      "text/plain": [
       "Ever_Delinquent\n",
       "0    469208\n",
       "1     12010\n",
       "Name: loan_id, dtype: int64"
      ]
     },
     "execution_count": 27,
     "metadata": {},
     "output_type": "execute_result"
    }
   ],
   "source": [
    "df.groupby('Ever_Delinquent').loan_id.nunique()"
   ]
  },
  {
   "cell_type": "markdown",
   "metadata": {},
   "source": [
    "** Claim Flag**"
   ]
  },
  {
   "cell_type": "code",
   "execution_count": 28,
   "metadata": {},
   "outputs": [
    {
     "data": {
      "text/plain": [
       "claim_flag\n",
       "0    99.8%\n",
       "1     0.2%\n",
       "Name: loan_id, dtype: object"
      ]
     },
     "execution_count": 28,
     "metadata": {},
     "output_type": "execute_result"
    }
   ],
   "source": [
    "(df.groupby('claim_flag').loan_id.nunique()/df.loan_id.nunique())\\\n",
    ".mul(100).round(1).astype(str) + '%'"
   ]
  },
  {
   "cell_type": "markdown",
   "metadata": {},
   "source": [
    "**Due to unbalanced data, we will need to upsample or downsample one of the class. Here I chose to downsample never deliquent loans** \n",
    " - Select 10,000 per group (Ever Delinquent)"
   ]
  },
  {
   "cell_type": "code",
   "execution_count": 29,
   "metadata": {
    "collapsed": true
   },
   "outputs": [],
   "source": [
    "df_new =df.groupby(\"Ever_Delinquent\",as_index=False).apply(lambda x: x.sample(10000)).reset_index()"
   ]
  },
  {
   "cell_type": "code",
   "execution_count": 30,
   "metadata": {},
   "outputs": [
    {
     "data": {
      "text/plain": [
       "Ever_Delinquent\n",
       "0    10000\n",
       "1    10000\n",
       "Name: loan_id, dtype: int64"
      ]
     },
     "execution_count": 30,
     "metadata": {},
     "output_type": "execute_result"
    }
   ],
   "source": [
    "df_new.groupby('Ever_Delinquent').loan_id.nunique()"
   ]
  },
  {
   "cell_type": "code",
   "execution_count": 31,
   "metadata": {},
   "outputs": [
    {
     "data": {
      "text/html": [
       "<div>\n",
       "<style>\n",
       "    .dataframe thead tr:only-child th {\n",
       "        text-align: right;\n",
       "    }\n",
       "\n",
       "    .dataframe thead th {\n",
       "        text-align: left;\n",
       "    }\n",
       "\n",
       "    .dataframe tbody tr th {\n",
       "        vertical-align: top;\n",
       "    }\n",
       "</style>\n",
       "<table border=\"1\" class=\"dataframe\">\n",
       "  <thead>\n",
       "    <tr style=\"text-align: right;\">\n",
       "      <th></th>\n",
       "      <th>level_0</th>\n",
       "      <th>level_1</th>\n",
       "      <th>loan_id</th>\n",
       "      <th>ory</th>\n",
       "      <th>orig_upb</th>\n",
       "      <th>loan_purp</th>\n",
       "      <th>prop_type</th>\n",
       "      <th>multi_unit</th>\n",
       "      <th>orig_chn</th>\n",
       "      <th>occ_stat</th>\n",
       "      <th>...</th>\n",
       "      <th>FICO_new</th>\n",
       "      <th>ltv_new</th>\n",
       "      <th>fhb_flag</th>\n",
       "      <th>no_bor</th>\n",
       "      <th>prop_type_eligible</th>\n",
       "      <th>MI_chl</th>\n",
       "      <th>dr_time_default</th>\n",
       "      <th>Ever_Delinquent</th>\n",
       "      <th>current_status</th>\n",
       "      <th>claim_flag</th>\n",
       "    </tr>\n",
       "  </thead>\n",
       "  <tbody>\n",
       "    <tr>\n",
       "      <th>0</th>\n",
       "      <td>0</td>\n",
       "      <td>200213</td>\n",
       "      <td>83057002</td>\n",
       "      <td>2012</td>\n",
       "      <td>168300</td>\n",
       "      <td>P</td>\n",
       "      <td>SF</td>\n",
       "      <td>0</td>\n",
       "      <td>R</td>\n",
       "      <td>O</td>\n",
       "      <td>...</td>\n",
       "      <td>750</td>\n",
       "      <td>90</td>\n",
       "      <td>N</td>\n",
       "      <td>2</td>\n",
       "      <td>1</td>\n",
       "      <td>Delegated</td>\n",
       "      <td>NaN</td>\n",
       "      <td>0</td>\n",
       "      <td>17.Cancel</td>\n",
       "      <td>0</td>\n",
       "    </tr>\n",
       "    <tr>\n",
       "      <th>1</th>\n",
       "      <td>0</td>\n",
       "      <td>305133</td>\n",
       "      <td>83177641</td>\n",
       "      <td>2013</td>\n",
       "      <td>102000</td>\n",
       "      <td>P</td>\n",
       "      <td>SF</td>\n",
       "      <td>0</td>\n",
       "      <td>R</td>\n",
       "      <td>O</td>\n",
       "      <td>...</td>\n",
       "      <td>690</td>\n",
       "      <td>97</td>\n",
       "      <td>Y</td>\n",
       "      <td>1</td>\n",
       "      <td>1</td>\n",
       "      <td>Delegated</td>\n",
       "      <td>NaN</td>\n",
       "      <td>0</td>\n",
       "      <td>01.Current</td>\n",
       "      <td>0</td>\n",
       "    </tr>\n",
       "    <tr>\n",
       "      <th>2</th>\n",
       "      <td>0</td>\n",
       "      <td>354170</td>\n",
       "      <td>83233724</td>\n",
       "      <td>2013</td>\n",
       "      <td>153000</td>\n",
       "      <td>P</td>\n",
       "      <td>SF</td>\n",
       "      <td>0</td>\n",
       "      <td>R</td>\n",
       "      <td>O</td>\n",
       "      <td>...</td>\n",
       "      <td>710</td>\n",
       "      <td>90</td>\n",
       "      <td>N</td>\n",
       "      <td>2</td>\n",
       "      <td>1</td>\n",
       "      <td>Delegated</td>\n",
       "      <td>NaN</td>\n",
       "      <td>0</td>\n",
       "      <td>17.Cancel</td>\n",
       "      <td>0</td>\n",
       "    </tr>\n",
       "    <tr>\n",
       "      <th>3</th>\n",
       "      <td>0</td>\n",
       "      <td>461847</td>\n",
       "      <td>83356608</td>\n",
       "      <td>2013</td>\n",
       "      <td>171000</td>\n",
       "      <td>P</td>\n",
       "      <td>SF</td>\n",
       "      <td>0</td>\n",
       "      <td>R</td>\n",
       "      <td>O</td>\n",
       "      <td>...</td>\n",
       "      <td>770</td>\n",
       "      <td>95</td>\n",
       "      <td>N</td>\n",
       "      <td>2</td>\n",
       "      <td>1</td>\n",
       "      <td>Delegated</td>\n",
       "      <td>NaN</td>\n",
       "      <td>0</td>\n",
       "      <td>01.Current</td>\n",
       "      <td>0</td>\n",
       "    </tr>\n",
       "    <tr>\n",
       "      <th>4</th>\n",
       "      <td>0</td>\n",
       "      <td>245859</td>\n",
       "      <td>83109352</td>\n",
       "      <td>2012</td>\n",
       "      <td>288000</td>\n",
       "      <td>P</td>\n",
       "      <td>SF</td>\n",
       "      <td>0</td>\n",
       "      <td>R</td>\n",
       "      <td>O</td>\n",
       "      <td>...</td>\n",
       "      <td>730</td>\n",
       "      <td>90</td>\n",
       "      <td>N</td>\n",
       "      <td>2</td>\n",
       "      <td>1</td>\n",
       "      <td>Delegated</td>\n",
       "      <td>NaN</td>\n",
       "      <td>0</td>\n",
       "      <td>01.Current</td>\n",
       "      <td>0</td>\n",
       "    </tr>\n",
       "  </tbody>\n",
       "</table>\n",
       "<p>5 rows × 21 columns</p>\n",
       "</div>"
      ],
      "text/plain": [
       "   level_0  level_1   loan_id   ory  orig_upb loan_purp prop_type  multi_unit  \\\n",
       "0        0   200213  83057002  2012    168300         P        SF           0   \n",
       "1        0   305133  83177641  2013    102000         P        SF           0   \n",
       "2        0   354170  83233724  2013    153000         P        SF           0   \n",
       "3        0   461847  83356608  2013    171000         P        SF           0   \n",
       "4        0   245859  83109352  2012    288000         P        SF           0   \n",
       "\n",
       "  orig_chn occ_stat    ...      FICO_new  ltv_new  fhb_flag no_bor  \\\n",
       "0        R        O    ...           750       90         N      2   \n",
       "1        R        O    ...           690       97         Y      1   \n",
       "2        R        O    ...           710       90         N      2   \n",
       "3        R        O    ...           770       95         N      2   \n",
       "4        R        O    ...           730       90         N      2   \n",
       "\n",
       "   prop_type_eligible     MI_chl dr_time_default  Ever_Delinquent  \\\n",
       "0                   1  Delegated             NaN                0   \n",
       "1                   1  Delegated             NaN                0   \n",
       "2                   1  Delegated             NaN                0   \n",
       "3                   1  Delegated             NaN                0   \n",
       "4                   1  Delegated             NaN                0   \n",
       "\n",
       "   current_status claim_flag  \n",
       "0       17.Cancel          0  \n",
       "1      01.Current          0  \n",
       "2       17.Cancel          0  \n",
       "3      01.Current          0  \n",
       "4      01.Current          0  \n",
       "\n",
       "[5 rows x 21 columns]"
      ]
     },
     "execution_count": 31,
     "metadata": {},
     "output_type": "execute_result"
    }
   ],
   "source": [
    "df_new.head()"
   ]
  },
  {
   "cell_type": "markdown",
   "metadata": {},
   "source": [
    "### Selected Features\n",
    "- **Loan Purpose**: loan_purp \n",
    "- **Property Type**: prop_type\n",
    "- **Occupancy Status**: occ_stat\n",
    "- **DTI**: dti_new\n",
    "- **FICO**: FICO_new\n",
    "- **LTV**: ltv_new\n",
    "- **First Time Home Buyer Indicator**: fhb_flag\n",
    "- **MI Channel**: MI_chl\n",
    "- **Number of Borrower**: no_bor\n",
    "- **Origination Year**: ory\n",
    "\n",
    "### Target : Ever Delinquent (1/0)"
   ]
  },
  {
   "cell_type": "code",
   "execution_count": 32,
   "metadata": {
    "collapsed": true
   },
   "outputs": [],
   "source": [
    "#Create a new DataFrame to just include the independent variable and dependent variables\n",
    "df1 = df_new[['loan_purp', 'prop_type', 'occ_stat', 'dti_new', 'FICO_new', 'ltv_new', 'fhb_flag', 'MI_chl',\n",
    "              'no_bor','ory','Ever_Delinquent']]"
   ]
  },
  {
   "cell_type": "code",
   "execution_count": 33,
   "metadata": {},
   "outputs": [
    {
     "data": {
      "text/plain": [
       "pandas.core.frame.DataFrame"
      ]
     },
     "execution_count": 33,
     "metadata": {},
     "output_type": "execute_result"
    }
   ],
   "source": [
    "type(df1)"
   ]
  },
  {
   "cell_type": "code",
   "execution_count": 34,
   "metadata": {
    "scrolled": true
   },
   "outputs": [
    {
     "data": {
      "text/html": [
       "<div>\n",
       "<style>\n",
       "    .dataframe thead tr:only-child th {\n",
       "        text-align: right;\n",
       "    }\n",
       "\n",
       "    .dataframe thead th {\n",
       "        text-align: left;\n",
       "    }\n",
       "\n",
       "    .dataframe tbody tr th {\n",
       "        vertical-align: top;\n",
       "    }\n",
       "</style>\n",
       "<table border=\"1\" class=\"dataframe\">\n",
       "  <thead>\n",
       "    <tr style=\"text-align: right;\">\n",
       "      <th></th>\n",
       "      <th>index</th>\n",
       "      <th>loan_purp</th>\n",
       "      <th>prop_type</th>\n",
       "      <th>occ_stat</th>\n",
       "      <th>dti_new</th>\n",
       "      <th>FICO_new</th>\n",
       "      <th>ltv_new</th>\n",
       "      <th>fhb_flag</th>\n",
       "      <th>MI_chl</th>\n",
       "      <th>no_bor</th>\n",
       "      <th>ory</th>\n",
       "      <th>Ever_Delinquent</th>\n",
       "    </tr>\n",
       "  </thead>\n",
       "  <tbody>\n",
       "    <tr>\n",
       "      <th>0</th>\n",
       "      <td>0</td>\n",
       "      <td>P</td>\n",
       "      <td>SF</td>\n",
       "      <td>O</td>\n",
       "      <td>22.5</td>\n",
       "      <td>750</td>\n",
       "      <td>90</td>\n",
       "      <td>N</td>\n",
       "      <td>Delegated</td>\n",
       "      <td>2</td>\n",
       "      <td>2012</td>\n",
       "      <td>0</td>\n",
       "    </tr>\n",
       "    <tr>\n",
       "      <th>1</th>\n",
       "      <td>1</td>\n",
       "      <td>P</td>\n",
       "      <td>SF</td>\n",
       "      <td>O</td>\n",
       "      <td>42.5</td>\n",
       "      <td>690</td>\n",
       "      <td>97</td>\n",
       "      <td>Y</td>\n",
       "      <td>Delegated</td>\n",
       "      <td>1</td>\n",
       "      <td>2013</td>\n",
       "      <td>0</td>\n",
       "    </tr>\n",
       "    <tr>\n",
       "      <th>2</th>\n",
       "      <td>2</td>\n",
       "      <td>P</td>\n",
       "      <td>SF</td>\n",
       "      <td>O</td>\n",
       "      <td>17.5</td>\n",
       "      <td>710</td>\n",
       "      <td>90</td>\n",
       "      <td>N</td>\n",
       "      <td>Delegated</td>\n",
       "      <td>2</td>\n",
       "      <td>2013</td>\n",
       "      <td>0</td>\n",
       "    </tr>\n",
       "    <tr>\n",
       "      <th>3</th>\n",
       "      <td>3</td>\n",
       "      <td>P</td>\n",
       "      <td>SF</td>\n",
       "      <td>O</td>\n",
       "      <td>42.5</td>\n",
       "      <td>770</td>\n",
       "      <td>95</td>\n",
       "      <td>N</td>\n",
       "      <td>Delegated</td>\n",
       "      <td>2</td>\n",
       "      <td>2013</td>\n",
       "      <td>0</td>\n",
       "    </tr>\n",
       "    <tr>\n",
       "      <th>4</th>\n",
       "      <td>4</td>\n",
       "      <td>P</td>\n",
       "      <td>SF</td>\n",
       "      <td>O</td>\n",
       "      <td>37.5</td>\n",
       "      <td>730</td>\n",
       "      <td>90</td>\n",
       "      <td>N</td>\n",
       "      <td>Delegated</td>\n",
       "      <td>2</td>\n",
       "      <td>2012</td>\n",
       "      <td>0</td>\n",
       "    </tr>\n",
       "  </tbody>\n",
       "</table>\n",
       "</div>"
      ],
      "text/plain": [
       "   index loan_purp prop_type occ_stat  dti_new  FICO_new  ltv_new fhb_flag  \\\n",
       "0      0         P        SF        O     22.5       750       90        N   \n",
       "1      1         P        SF        O     42.5       690       97        Y   \n",
       "2      2         P        SF        O     17.5       710       90        N   \n",
       "3      3         P        SF        O     42.5       770       95        N   \n",
       "4      4         P        SF        O     37.5       730       90        N   \n",
       "\n",
       "      MI_chl  no_bor   ory  Ever_Delinquent  \n",
       "0  Delegated       2  2012                0  \n",
       "1  Delegated       1  2013                0  \n",
       "2  Delegated       2  2013                0  \n",
       "3  Delegated       2  2013                0  \n",
       "4  Delegated       2  2012                0  "
      ]
     },
     "execution_count": 34,
     "metadata": {},
     "output_type": "execute_result"
    }
   ],
   "source": [
    "df1.reset_index().head()"
   ]
  },
  {
   "cell_type": "markdown",
   "metadata": {},
   "source": [
    "Split table into \"target\" vs. \"features\""
   ]
  },
  {
   "cell_type": "code",
   "execution_count": 35,
   "metadata": {
    "collapsed": true
   },
   "outputs": [],
   "source": [
    "X = df1.iloc[:,0:10].values\n",
    "y = df1.iloc[:,-1].values"
   ]
  },
  {
   "cell_type": "markdown",
   "metadata": {},
   "source": [
    "**Encode Categorical Columns**\n",
    "- Use LabelEncoder to transform categorical columns to numeric value, and then use OneHotEncoder to get dummy variable\n",
    "- Create dummy variables for fields which have more than 2 values"
   ]
  },
  {
   "cell_type": "code",
   "execution_count": 36,
   "metadata": {},
   "outputs": [
    {
     "data": {
      "text/plain": [
       "array([['P', 'SF', 'O', ..., 'Delegated', 2, 2012],\n",
       "       ['P', 'SF', 'O', ..., 'Delegated', 1, 2013],\n",
       "       ['P', 'SF', 'O', ..., 'Delegated', 2, 2013],\n",
       "       ..., \n",
       "       ['P', 'SF', 'O', ..., 'Non-Delegated', 2, 2011],\n",
       "       ['P', 'SF', 'O', ..., 'Delegated', 2, 2012],\n",
       "       ['N', 'SF', 'O', ..., 'Delegated', 2, 2010]], dtype=object)"
      ]
     },
     "execution_count": 36,
     "metadata": {},
     "output_type": "execute_result"
    }
   ],
   "source": [
    "X"
   ]
  },
  {
   "cell_type": "code",
   "execution_count": 37,
   "metadata": {
    "collapsed": true
   },
   "outputs": [],
   "source": [
    "df_X = pd.DataFrame(X, columns =['loan_purp', 'prop_type', 'occ_stat', 'dti_new', 'FICO_new', 'ltv_new', 'fhb_flag', 'MI_chl', \n",
    "             'no_bor','ory'])"
   ]
  },
  {
   "cell_type": "code",
   "execution_count": 38,
   "metadata": {
    "collapsed": true
   },
   "outputs": [],
   "source": [
    "# Create a set of dummy variables from the categorical variables\n",
    "df_X_dummy = pd.get_dummies(df_X[['loan_purp', 'prop_type', 'occ_stat', 'dti_new', 'FICO_new', 'ltv_new', 'fhb_flag', 'MI_chl', \n",
    "             'no_bor','ory']]).astype(np.int64)"
   ]
  },
  {
   "cell_type": "code",
   "execution_count": 39,
   "metadata": {},
   "outputs": [
    {
     "data": {
      "text/plain": [
       "(20000, 43)"
      ]
     },
     "execution_count": 39,
     "metadata": {},
     "output_type": "execute_result"
    }
   ],
   "source": [
    "df_X_dummy.shape"
   ]
  },
  {
   "cell_type": "code",
   "execution_count": 40,
   "metadata": {},
   "outputs": [
    {
     "data": {
      "text/html": [
       "<div>\n",
       "<style>\n",
       "    .dataframe thead tr:only-child th {\n",
       "        text-align: right;\n",
       "    }\n",
       "\n",
       "    .dataframe thead th {\n",
       "        text-align: left;\n",
       "    }\n",
       "\n",
       "    .dataframe tbody tr th {\n",
       "        vertical-align: top;\n",
       "    }\n",
       "</style>\n",
       "<table border=\"1\" class=\"dataframe\">\n",
       "  <thead>\n",
       "    <tr style=\"text-align: right;\">\n",
       "      <th></th>\n",
       "      <th>loan_purp</th>\n",
       "      <th>prop_type</th>\n",
       "      <th>occ_stat</th>\n",
       "      <th>dti_new</th>\n",
       "      <th>FICO_new</th>\n",
       "      <th>ltv_new</th>\n",
       "      <th>fhb_flag</th>\n",
       "      <th>MI_chl</th>\n",
       "      <th>no_bor</th>\n",
       "      <th>ory</th>\n",
       "      <th>...</th>\n",
       "      <th>fhb_flag_N</th>\n",
       "      <th>fhb_flag_Y</th>\n",
       "      <th>MI_chl_Delegated</th>\n",
       "      <th>MI_chl_Non-Delegated</th>\n",
       "      <th>no_bor_1</th>\n",
       "      <th>no_bor_2</th>\n",
       "      <th>ory_2010</th>\n",
       "      <th>ory_2011</th>\n",
       "      <th>ory_2012</th>\n",
       "      <th>ory_2013</th>\n",
       "    </tr>\n",
       "  </thead>\n",
       "  <tbody>\n",
       "    <tr>\n",
       "      <th>0</th>\n",
       "      <td>P</td>\n",
       "      <td>SF</td>\n",
       "      <td>O</td>\n",
       "      <td>22.5</td>\n",
       "      <td>750</td>\n",
       "      <td>90</td>\n",
       "      <td>N</td>\n",
       "      <td>Delegated</td>\n",
       "      <td>2</td>\n",
       "      <td>2012</td>\n",
       "      <td>...</td>\n",
       "      <td>1</td>\n",
       "      <td>0</td>\n",
       "      <td>1</td>\n",
       "      <td>0</td>\n",
       "      <td>0</td>\n",
       "      <td>1</td>\n",
       "      <td>0</td>\n",
       "      <td>0</td>\n",
       "      <td>1</td>\n",
       "      <td>0</td>\n",
       "    </tr>\n",
       "    <tr>\n",
       "      <th>1</th>\n",
       "      <td>P</td>\n",
       "      <td>SF</td>\n",
       "      <td>O</td>\n",
       "      <td>42.5</td>\n",
       "      <td>690</td>\n",
       "      <td>97</td>\n",
       "      <td>Y</td>\n",
       "      <td>Delegated</td>\n",
       "      <td>1</td>\n",
       "      <td>2013</td>\n",
       "      <td>...</td>\n",
       "      <td>0</td>\n",
       "      <td>1</td>\n",
       "      <td>1</td>\n",
       "      <td>0</td>\n",
       "      <td>1</td>\n",
       "      <td>0</td>\n",
       "      <td>0</td>\n",
       "      <td>0</td>\n",
       "      <td>0</td>\n",
       "      <td>1</td>\n",
       "    </tr>\n",
       "    <tr>\n",
       "      <th>2</th>\n",
       "      <td>P</td>\n",
       "      <td>SF</td>\n",
       "      <td>O</td>\n",
       "      <td>17.5</td>\n",
       "      <td>710</td>\n",
       "      <td>90</td>\n",
       "      <td>N</td>\n",
       "      <td>Delegated</td>\n",
       "      <td>2</td>\n",
       "      <td>2013</td>\n",
       "      <td>...</td>\n",
       "      <td>1</td>\n",
       "      <td>0</td>\n",
       "      <td>1</td>\n",
       "      <td>0</td>\n",
       "      <td>0</td>\n",
       "      <td>1</td>\n",
       "      <td>0</td>\n",
       "      <td>0</td>\n",
       "      <td>0</td>\n",
       "      <td>1</td>\n",
       "    </tr>\n",
       "    <tr>\n",
       "      <th>3</th>\n",
       "      <td>P</td>\n",
       "      <td>SF</td>\n",
       "      <td>O</td>\n",
       "      <td>42.5</td>\n",
       "      <td>770</td>\n",
       "      <td>95</td>\n",
       "      <td>N</td>\n",
       "      <td>Delegated</td>\n",
       "      <td>2</td>\n",
       "      <td>2013</td>\n",
       "      <td>...</td>\n",
       "      <td>1</td>\n",
       "      <td>0</td>\n",
       "      <td>1</td>\n",
       "      <td>0</td>\n",
       "      <td>0</td>\n",
       "      <td>1</td>\n",
       "      <td>0</td>\n",
       "      <td>0</td>\n",
       "      <td>0</td>\n",
       "      <td>1</td>\n",
       "    </tr>\n",
       "    <tr>\n",
       "      <th>4</th>\n",
       "      <td>P</td>\n",
       "      <td>SF</td>\n",
       "      <td>O</td>\n",
       "      <td>37.5</td>\n",
       "      <td>730</td>\n",
       "      <td>90</td>\n",
       "      <td>N</td>\n",
       "      <td>Delegated</td>\n",
       "      <td>2</td>\n",
       "      <td>2012</td>\n",
       "      <td>...</td>\n",
       "      <td>1</td>\n",
       "      <td>0</td>\n",
       "      <td>1</td>\n",
       "      <td>0</td>\n",
       "      <td>0</td>\n",
       "      <td>1</td>\n",
       "      <td>0</td>\n",
       "      <td>0</td>\n",
       "      <td>1</td>\n",
       "      <td>0</td>\n",
       "    </tr>\n",
       "  </tbody>\n",
       "</table>\n",
       "<p>5 rows × 53 columns</p>\n",
       "</div>"
      ],
      "text/plain": [
       "  loan_purp prop_type occ_stat dti_new FICO_new ltv_new fhb_flag     MI_chl  \\\n",
       "0         P        SF        O    22.5      750      90        N  Delegated   \n",
       "1         P        SF        O    42.5      690      97        Y  Delegated   \n",
       "2         P        SF        O    17.5      710      90        N  Delegated   \n",
       "3         P        SF        O    42.5      770      95        N  Delegated   \n",
       "4         P        SF        O    37.5      730      90        N  Delegated   \n",
       "\n",
       "  no_bor   ory    ...     fhb_flag_N  fhb_flag_Y  MI_chl_Delegated  \\\n",
       "0      2  2012    ...              1           0                 1   \n",
       "1      1  2013    ...              0           1                 1   \n",
       "2      2  2013    ...              1           0                 1   \n",
       "3      2  2013    ...              1           0                 1   \n",
       "4      2  2012    ...              1           0                 1   \n",
       "\n",
       "   MI_chl_Non-Delegated  no_bor_1  no_bor_2  ory_2010  ory_2011  ory_2012  \\\n",
       "0                     0         0         1         0         0         1   \n",
       "1                     0         1         0         0         0         0   \n",
       "2                     0         0         1         0         0         0   \n",
       "3                     0         0         1         0         0         0   \n",
       "4                     0         0         1         0         0         1   \n",
       "\n",
       "   ory_2013  \n",
       "0         0  \n",
       "1         1  \n",
       "2         1  \n",
       "3         1  \n",
       "4         0  \n",
       "\n",
       "[5 rows x 53 columns]"
      ]
     },
     "execution_count": 40,
     "metadata": {},
     "output_type": "execute_result"
    }
   ],
   "source": [
    "# Join the dummy variables to the main dataframe\n",
    "df_X_new = pd.concat([df_X, df_X_dummy], axis=1)\n",
    "df_X_new.head()"
   ]
  },
  {
   "cell_type": "code",
   "execution_count": 41,
   "metadata": {},
   "outputs": [
    {
     "data": {
      "text/plain": [
       "(20000, 53)"
      ]
     },
     "execution_count": 41,
     "metadata": {},
     "output_type": "execute_result"
    }
   ],
   "source": [
    "df_X_new.shape"
   ]
  },
  {
   "cell_type": "code",
   "execution_count": 42,
   "metadata": {
    "collapsed": true
   },
   "outputs": [],
   "source": [
    "#Drop non original categorical columns\n",
    "df_X_new = df_X_new.drop(df_X_new.columns[[0, 1,2,3,4,5,6,7,8,9]], axis=1)  "
   ]
  },
  {
   "cell_type": "code",
   "execution_count": 43,
   "metadata": {},
   "outputs": [
    {
     "data": {
      "text/html": [
       "<div>\n",
       "<style>\n",
       "    .dataframe thead tr:only-child th {\n",
       "        text-align: right;\n",
       "    }\n",
       "\n",
       "    .dataframe thead th {\n",
       "        text-align: left;\n",
       "    }\n",
       "\n",
       "    .dataframe tbody tr th {\n",
       "        vertical-align: top;\n",
       "    }\n",
       "</style>\n",
       "<table border=\"1\" class=\"dataframe\">\n",
       "  <thead>\n",
       "    <tr style=\"text-align: right;\">\n",
       "      <th></th>\n",
       "      <th>loan_purp_C</th>\n",
       "      <th>loan_purp_N</th>\n",
       "      <th>loan_purp_P</th>\n",
       "      <th>prop_type_CO</th>\n",
       "      <th>prop_type_MH</th>\n",
       "      <th>prop_type_SF</th>\n",
       "      <th>occ_stat_I</th>\n",
       "      <th>occ_stat_O</th>\n",
       "      <th>occ_stat_S</th>\n",
       "      <th>dti_new_5.0</th>\n",
       "      <th>...</th>\n",
       "      <th>fhb_flag_N</th>\n",
       "      <th>fhb_flag_Y</th>\n",
       "      <th>MI_chl_Delegated</th>\n",
       "      <th>MI_chl_Non-Delegated</th>\n",
       "      <th>no_bor_1</th>\n",
       "      <th>no_bor_2</th>\n",
       "      <th>ory_2010</th>\n",
       "      <th>ory_2011</th>\n",
       "      <th>ory_2012</th>\n",
       "      <th>ory_2013</th>\n",
       "    </tr>\n",
       "  </thead>\n",
       "  <tbody>\n",
       "    <tr>\n",
       "      <th>0</th>\n",
       "      <td>0</td>\n",
       "      <td>0</td>\n",
       "      <td>1</td>\n",
       "      <td>0</td>\n",
       "      <td>0</td>\n",
       "      <td>1</td>\n",
       "      <td>0</td>\n",
       "      <td>1</td>\n",
       "      <td>0</td>\n",
       "      <td>0</td>\n",
       "      <td>...</td>\n",
       "      <td>1</td>\n",
       "      <td>0</td>\n",
       "      <td>1</td>\n",
       "      <td>0</td>\n",
       "      <td>0</td>\n",
       "      <td>1</td>\n",
       "      <td>0</td>\n",
       "      <td>0</td>\n",
       "      <td>1</td>\n",
       "      <td>0</td>\n",
       "    </tr>\n",
       "    <tr>\n",
       "      <th>1</th>\n",
       "      <td>0</td>\n",
       "      <td>0</td>\n",
       "      <td>1</td>\n",
       "      <td>0</td>\n",
       "      <td>0</td>\n",
       "      <td>1</td>\n",
       "      <td>0</td>\n",
       "      <td>1</td>\n",
       "      <td>0</td>\n",
       "      <td>0</td>\n",
       "      <td>...</td>\n",
       "      <td>0</td>\n",
       "      <td>1</td>\n",
       "      <td>1</td>\n",
       "      <td>0</td>\n",
       "      <td>1</td>\n",
       "      <td>0</td>\n",
       "      <td>0</td>\n",
       "      <td>0</td>\n",
       "      <td>0</td>\n",
       "      <td>1</td>\n",
       "    </tr>\n",
       "    <tr>\n",
       "      <th>2</th>\n",
       "      <td>0</td>\n",
       "      <td>0</td>\n",
       "      <td>1</td>\n",
       "      <td>0</td>\n",
       "      <td>0</td>\n",
       "      <td>1</td>\n",
       "      <td>0</td>\n",
       "      <td>1</td>\n",
       "      <td>0</td>\n",
       "      <td>0</td>\n",
       "      <td>...</td>\n",
       "      <td>1</td>\n",
       "      <td>0</td>\n",
       "      <td>1</td>\n",
       "      <td>0</td>\n",
       "      <td>0</td>\n",
       "      <td>1</td>\n",
       "      <td>0</td>\n",
       "      <td>0</td>\n",
       "      <td>0</td>\n",
       "      <td>1</td>\n",
       "    </tr>\n",
       "    <tr>\n",
       "      <th>3</th>\n",
       "      <td>0</td>\n",
       "      <td>0</td>\n",
       "      <td>1</td>\n",
       "      <td>0</td>\n",
       "      <td>0</td>\n",
       "      <td>1</td>\n",
       "      <td>0</td>\n",
       "      <td>1</td>\n",
       "      <td>0</td>\n",
       "      <td>0</td>\n",
       "      <td>...</td>\n",
       "      <td>1</td>\n",
       "      <td>0</td>\n",
       "      <td>1</td>\n",
       "      <td>0</td>\n",
       "      <td>0</td>\n",
       "      <td>1</td>\n",
       "      <td>0</td>\n",
       "      <td>0</td>\n",
       "      <td>0</td>\n",
       "      <td>1</td>\n",
       "    </tr>\n",
       "    <tr>\n",
       "      <th>4</th>\n",
       "      <td>0</td>\n",
       "      <td>0</td>\n",
       "      <td>1</td>\n",
       "      <td>0</td>\n",
       "      <td>0</td>\n",
       "      <td>1</td>\n",
       "      <td>0</td>\n",
       "      <td>1</td>\n",
       "      <td>0</td>\n",
       "      <td>0</td>\n",
       "      <td>...</td>\n",
       "      <td>1</td>\n",
       "      <td>0</td>\n",
       "      <td>1</td>\n",
       "      <td>0</td>\n",
       "      <td>0</td>\n",
       "      <td>1</td>\n",
       "      <td>0</td>\n",
       "      <td>0</td>\n",
       "      <td>1</td>\n",
       "      <td>0</td>\n",
       "    </tr>\n",
       "  </tbody>\n",
       "</table>\n",
       "<p>5 rows × 43 columns</p>\n",
       "</div>"
      ],
      "text/plain": [
       "   loan_purp_C  loan_purp_N  loan_purp_P  prop_type_CO  prop_type_MH  \\\n",
       "0            0            0            1             0             0   \n",
       "1            0            0            1             0             0   \n",
       "2            0            0            1             0             0   \n",
       "3            0            0            1             0             0   \n",
       "4            0            0            1             0             0   \n",
       "\n",
       "   prop_type_SF  occ_stat_I  occ_stat_O  occ_stat_S  dti_new_5.0    ...     \\\n",
       "0             1           0           1           0            0    ...      \n",
       "1             1           0           1           0            0    ...      \n",
       "2             1           0           1           0            0    ...      \n",
       "3             1           0           1           0            0    ...      \n",
       "4             1           0           1           0            0    ...      \n",
       "\n",
       "   fhb_flag_N  fhb_flag_Y  MI_chl_Delegated  MI_chl_Non-Delegated  no_bor_1  \\\n",
       "0           1           0                 1                     0         0   \n",
       "1           0           1                 1                     0         1   \n",
       "2           1           0                 1                     0         0   \n",
       "3           1           0                 1                     0         0   \n",
       "4           1           0                 1                     0         0   \n",
       "\n",
       "   no_bor_2  ory_2010  ory_2011  ory_2012  ory_2013  \n",
       "0         1         0         0         1         0  \n",
       "1         0         0         0         0         1  \n",
       "2         1         0         0         0         1  \n",
       "3         1         0         0         0         1  \n",
       "4         1         0         0         1         0  \n",
       "\n",
       "[5 rows x 43 columns]"
      ]
     },
     "execution_count": 43,
     "metadata": {},
     "output_type": "execute_result"
    }
   ],
   "source": [
    "df_X_new.head()"
   ]
  },
  {
   "cell_type": "code",
   "execution_count": 44,
   "metadata": {},
   "outputs": [
    {
     "data": {
      "text/plain": [
       "loan_purp_C             int64\n",
       "loan_purp_N             int64\n",
       "loan_purp_P             int64\n",
       "prop_type_CO            int64\n",
       "prop_type_MH            int64\n",
       "prop_type_SF            int64\n",
       "occ_stat_I              int64\n",
       "occ_stat_O              int64\n",
       "occ_stat_S              int64\n",
       "dti_new_5.0             int64\n",
       "dti_new_12.5            int64\n",
       "dti_new_17.5            int64\n",
       "dti_new_22.5            int64\n",
       "dti_new_27.5            int64\n",
       "dti_new_32.5            int64\n",
       "dti_new_37.5            int64\n",
       "dti_new_42.5            int64\n",
       "dti_new_47.5            int64\n",
       "dti_new_50.0            int64\n",
       "FICO_new_630            int64\n",
       "FICO_new_650            int64\n",
       "FICO_new_670            int64\n",
       "FICO_new_690            int64\n",
       "FICO_new_710            int64\n",
       "FICO_new_730            int64\n",
       "FICO_new_750            int64\n",
       "FICO_new_770            int64\n",
       "FICO_new_790            int64\n",
       "FICO_new_800            int64\n",
       "ltv_new_85              int64\n",
       "ltv_new_90              int64\n",
       "ltv_new_95              int64\n",
       "ltv_new_97              int64\n",
       "fhb_flag_N              int64\n",
       "fhb_flag_Y              int64\n",
       "MI_chl_Delegated        int64\n",
       "MI_chl_Non-Delegated    int64\n",
       "no_bor_1                int64\n",
       "no_bor_2                int64\n",
       "ory_2010                int64\n",
       "ory_2011                int64\n",
       "ory_2012                int64\n",
       "ory_2013                int64\n",
       "dtype: object"
      ]
     },
     "execution_count": 44,
     "metadata": {},
     "output_type": "execute_result"
    }
   ],
   "source": [
    "df_X_new.dtypes"
   ]
  },
  {
   "cell_type": "code",
   "execution_count": 45,
   "metadata": {
    "collapsed": true
   },
   "outputs": [],
   "source": [
    "# Drop redudant dummy variables\n",
    "df_X_new = df_X_new.drop(df_X_new.columns[[0,4,6,9,19,29,33,35,37,39]], axis=1)"
   ]
  },
  {
   "cell_type": "code",
   "execution_count": 46,
   "metadata": {
    "collapsed": true
   },
   "outputs": [],
   "source": [
    "# Change the transformed dataframe to array\n",
    "X = df_X_new.as_matrix()"
   ]
  },
  {
   "cell_type": "code",
   "execution_count": 47,
   "metadata": {
    "collapsed": true
   },
   "outputs": [],
   "source": [
    "# Splitting the dataset into the Training set and Test set\n",
    "from sklearn.model_selection import train_test_split\n",
    "X_train, X_test, y_train, y_test = train_test_split(X, y, test_size = 0.2, random_state = 0)"
   ]
  },
  {
   "cell_type": "code",
   "execution_count": 48,
   "metadata": {},
   "outputs": [
    {
     "data": {
      "text/plain": [
       "numpy.ndarray"
      ]
     },
     "execution_count": 48,
     "metadata": {},
     "output_type": "execute_result"
    }
   ],
   "source": [
    "type(X_train)"
   ]
  },
  {
   "cell_type": "markdown",
   "metadata": {},
   "source": [
    "** Algorithm 1 - Logistic Regression **"
   ]
  },
  {
   "cell_type": "code",
   "execution_count": 49,
   "metadata": {},
   "outputs": [
    {
     "data": {
      "text/plain": [
       "LogisticRegression(C=1.0, class_weight=None, dual=False, fit_intercept=True,\n",
       "          intercept_scaling=1, max_iter=100, multi_class='ovr', n_jobs=1,\n",
       "          penalty='l2', random_state=0, solver='liblinear', tol=0.0001,\n",
       "          verbose=0, warm_start=False)"
      ]
     },
     "execution_count": 49,
     "metadata": {},
     "output_type": "execute_result"
    }
   ],
   "source": [
    "# Fitting Logistic Regression to the Training Set\n",
    "from sklearn.linear_model import LogisticRegression\n",
    "classifier = LogisticRegression(random_state = 0)\n",
    "classifier.fit(X_train, y_train)"
   ]
  },
  {
   "cell_type": "code",
   "execution_count": 50,
   "metadata": {},
   "outputs": [
    {
     "data": {
      "text/plain": [
       "array([[-0.37830247, -0.42118904, -0.60419217, -0.38210939,  0.9864442 ,\n",
       "         1.47454648,  0.01427938, -0.12698747,  0.04415844,  0.08441722,\n",
       "         0.30047283,  0.48087235,  0.73635673,  0.84295272, -0.30597221,\n",
       "         0.05979201, -0.2084888 , -0.9329735 , -1.22969181, -1.67025854,\n",
       "        -1.98211808, -2.40129527, -2.75751685, -2.89273132,  0.1603125 ,\n",
       "         0.45529655,  0.67354453, -0.14016723,  0.06569301, -0.83765259,\n",
       "        -0.37412385, -0.76690889, -0.85204119]])"
      ]
     },
     "execution_count": 50,
     "metadata": {},
     "output_type": "execute_result"
    }
   ],
   "source": [
    "classifier.coef_ "
   ]
  },
  {
   "cell_type": "code",
   "execution_count": 51,
   "metadata": {},
   "outputs": [
    {
     "data": {
      "text/plain": [
       "array([ 1.9006102])"
      ]
     },
     "execution_count": 51,
     "metadata": {},
     "output_type": "execute_result"
    }
   ],
   "source": [
    "classifier.intercept_ "
   ]
  },
  {
   "cell_type": "code",
   "execution_count": 52,
   "metadata": {},
   "outputs": [
    {
     "data": {
      "text/plain": [
       "array([6], dtype=int32)"
      ]
     },
     "execution_count": 52,
     "metadata": {},
     "output_type": "execute_result"
    }
   ],
   "source": [
    "classifier.n_iter_"
   ]
  },
  {
   "cell_type": "code",
   "execution_count": 53,
   "metadata": {},
   "outputs": [
    {
     "data": {
      "text/plain": [
       "array([1, 0, 1, ..., 0, 0, 0], dtype=int64)"
      ]
     },
     "execution_count": 53,
     "metadata": {},
     "output_type": "execute_result"
    }
   ],
   "source": [
    "# Predicting the Test set results\n",
    "y_pred = classifier.predict(X_test)\n",
    "y_pred"
   ]
  },
  {
   "cell_type": "code",
   "execution_count": 54,
   "metadata": {},
   "outputs": [
    {
     "data": {
      "text/plain": [
       "array([[1396,  598],\n",
       "       [ 678, 1328]])"
      ]
     },
     "execution_count": 54,
     "metadata": {},
     "output_type": "execute_result"
    }
   ],
   "source": [
    "# Evaluate Prediction Results by using Confusion Metrics\n",
    "from sklearn.metrics import confusion_matrix\n",
    "cm = confusion_matrix(y_test, y_pred)\n",
    "cm"
   ]
  },
  {
   "cell_type": "code",
   "execution_count": 55,
   "metadata": {},
   "outputs": [
    {
     "name": "stderr",
     "output_type": "stream",
     "text": [
      "C:\\Users\\SunLix\\Anaconda3\\lib\\site-packages\\ggplot\\utils.py:81: FutureWarning: pandas.tslib is deprecated and will be removed in a future version.\n",
      "You can access Timestamp as pandas.Timestamp\n",
      "  pd.tslib.Timestamp,\n",
      "C:\\Users\\SunLix\\Anaconda3\\lib\\site-packages\\ggplot\\stats\\smoothers.py:4: FutureWarning: The pandas.lib module is deprecated and will be removed in a future version. These are private functions and can be accessed from pandas._libs.lib instead\n",
      "  from pandas.lib import Timestamp\n",
      "C:\\Users\\SunLix\\Anaconda3\\lib\\site-packages\\statsmodels\\compat\\pandas.py:56: FutureWarning: The pandas.core.datetools module is deprecated and will be removed in a future version. Please use the pandas.tseries module instead.\n",
      "  from pandas.core import datetools\n"
     ]
    },
    {
     "data": {
      "image/png": "[encoded data removed]",
      "text/plain": [
       "<matplotlib.figure.Figure at 0x2d0b3283fd0>"
      ]
     },
     "metadata": {},
     "output_type": "display_data"
    },
    {
     "data": {
      "text/plain": [
       "<ggplot: (193460937455)>"
      ]
     },
     "execution_count": 55,
     "metadata": {},
     "output_type": "execute_result"
    }
   ],
   "source": [
    "from sklearn.metrics import roc_curve\n",
    "from sklearn.metrics import auc\n",
    "from sklearn.metrics import roc_auc_score\n",
    "from ggplot import *\n",
    "fpr, tpr, thresholds = roc_curve(y_test, y_pred)\n",
    "df_eval = pd.DataFrame(dict(fpr=fpr, tpr=tpr))\n",
    "ggplot(df_eval, aes(x='fpr', y='tpr')) +\\\n",
    "      geom_line() +\\\n",
    "      geom_abline(linetype='dashed')"
   ]
  },
  {
   "cell_type": "code",
   "execution_count": 56,
   "metadata": {
    "scrolled": true
   },
   "outputs": [
    {
     "name": "stdout",
     "output_type": "stream",
     "text": [
      "0.681057129514\n",
      "0.681057129514\n"
     ]
    }
   ],
   "source": [
    "# Calculate AUC\n",
    "print(auc(fpr, tpr))\n",
    "print(roc_auc_score(y_test, y_pred))\n"
   ]
  },
  {
   "cell_type": "code",
   "execution_count": 57,
   "metadata": {},
   "outputs": [
    {
     "data": {
      "text/plain": [
       "0.68612388710894023"
      ]
     },
     "execution_count": 57,
     "metadata": {},
     "output_type": "execute_result"
    }
   ],
   "source": [
    "# Applying K-Fold Cross Validation\n",
    "from sklearn.model_selection import cross_val_score\n",
    "accuracies1 = cross_val_score(estimator = classifier, X = X_train, y = y_train, cv = 10)\n",
    "accuracies1.mean()"
   ]
  },
  {
   "cell_type": "code",
   "execution_count": 58,
   "metadata": {},
   "outputs": [
    {
     "data": {
      "text/plain": [
       "0.013107884669360552"
      ]
     },
     "execution_count": 58,
     "metadata": {},
     "output_type": "execute_result"
    }
   ],
   "source": [
    "#variance\n",
    "accuracies1.std()"
   ]
  },
  {
   "cell_type": "markdown",
   "metadata": {},
   "source": [
    "**Regularization using Lasso, Ridge or ElasticNet**"
   ]
  },
  {
   "cell_type": "code",
   "execution_count": 59,
   "metadata": {},
   "outputs": [
    {
     "data": {
      "text/plain": [
       "array(['loan_purp_N', 'loan_purp_P', 'prop_type_CO', 'prop_type_SF',\n",
       "       'occ_stat_O', 'occ_stat_S', 'dti_new_12.5', 'dti_new_17.5',\n",
       "       'dti_new_22.5', 'dti_new_27.5', 'dti_new_32.5', 'dti_new_37.5',\n",
       "       'dti_new_42.5', 'dti_new_47.5', 'dti_new_50.0', 'FICO_new_650',\n",
       "       'FICO_new_670', 'FICO_new_690', 'FICO_new_710', 'FICO_new_730',\n",
       "       'FICO_new_750', 'FICO_new_770', 'FICO_new_790', 'FICO_new_800',\n",
       "       'ltv_new_90', 'ltv_new_95', 'ltv_new_97', 'fhb_flag_Y',\n",
       "       'MI_chl_Non-Delegated', 'no_bor_2', 'ory_2011', 'ory_2012',\n",
       "       'ory_2013'], dtype=object)"
      ]
     },
     "execution_count": 59,
     "metadata": {},
     "output_type": "execute_result"
    }
   ],
   "source": [
    "# get list of freature names\n",
    "names = df_X_new.columns.values\n",
    "names"
   ]
  },
  {
   "cell_type": "code",
   "execution_count": 60,
   "metadata": {
    "collapsed": true
   },
   "outputs": [],
   "source": [
    "# Lasso Regression Regularization\n",
    "from sklearn.linear_model import Lasso\n",
    "# Create a function called lasso,\n",
    "def lasso(alphas):\n",
    "    '''\n",
    "    Takes in a list of alphas. Outputs a dataframe containing the coefficients of lasso regressions from each alpha.\n",
    "    '''\n",
    "    # Create an empty data frame\n",
    "    df_reg = pd.DataFrame()\n",
    "\n",
    "    # Create a column of feature names\n",
    "    df_reg['Feature Name'] = names\n",
    "\n",
    "    # For each alpha value in the list of alpha values,\n",
    "    for alpha in alphas:\n",
    "        # Create a lasso regression with that alpha value,\n",
    "        lasso = Lasso(alpha=alpha)\n",
    "\n",
    "        # Fit the lasso regression\n",
    "        lasso.fit(X_train, y_train)\n",
    "\n",
    "        # Create a column name for that alpha value\n",
    "        column_name = 'Alpha = %f' % alpha\n",
    "\n",
    "        # Create a column of coefficient values\n",
    "        df_reg[column_name] = lasso.coef_\n",
    "\n",
    "    # Return the datafram    \n",
    "    return df_reg\n",
    "\n"
   ]
  },
  {
   "cell_type": "code",
   "execution_count": 61,
   "metadata": {},
   "outputs": [
    {
     "name": "stderr",
     "output_type": "stream",
     "text": [
      "C:\\Users\\SunLix\\Anaconda3\\lib\\site-packages\\sklearn\\linear_model\\coordinate_descent.py:484: ConvergenceWarning: Objective did not converge. You might want to increase the number of iterations. Fitting data with very small alpha may cause precision problems.\n",
      "  ConvergenceWarning)\n"
     ]
    },
    {
     "data": {
      "text/html": [
       "<div>\n",
       "<style>\n",
       "    .dataframe thead tr:only-child th {\n",
       "        text-align: right;\n",
       "    }\n",
       "\n",
       "    .dataframe thead th {\n",
       "        text-align: left;\n",
       "    }\n",
       "\n",
       "    .dataframe tbody tr th {\n",
       "        vertical-align: top;\n",
       "    }\n",
       "</style>\n",
       "<table border=\"1\" class=\"dataframe\">\n",
       "  <thead>\n",
       "    <tr style=\"text-align: right;\">\n",
       "      <th></th>\n",
       "      <th>Feature Name</th>\n",
       "      <th>Alpha = 0.000000</th>\n",
       "      <th>Alpha = 0.000100</th>\n",
       "      <th>Alpha = 0.001000</th>\n",
       "      <th>Alpha = 0.010000</th>\n",
       "      <th>Alpha = 1.000000</th>\n",
       "      <th>Alpha = 5.000000</th>\n",
       "      <th>Alpha = 10.000000</th>\n",
       "      <th>Alpha = 20.000000</th>\n",
       "    </tr>\n",
       "  </thead>\n",
       "  <tbody>\n",
       "    <tr>\n",
       "      <th>0</th>\n",
       "      <td>loan_purp_N</td>\n",
       "      <td>-0.085336</td>\n",
       "      <td>-0.072768</td>\n",
       "      <td>-0.001067</td>\n",
       "      <td>-0.000000</td>\n",
       "      <td>-0.0</td>\n",
       "      <td>-0.0</td>\n",
       "      <td>-0.0</td>\n",
       "      <td>-0.0</td>\n",
       "    </tr>\n",
       "    <tr>\n",
       "      <th>1</th>\n",
       "      <td>loan_purp_P</td>\n",
       "      <td>-0.095358</td>\n",
       "      <td>-0.080908</td>\n",
       "      <td>-0.000000</td>\n",
       "      <td>0.000000</td>\n",
       "      <td>0.0</td>\n",
       "      <td>0.0</td>\n",
       "      <td>0.0</td>\n",
       "      <td>0.0</td>\n",
       "    </tr>\n",
       "    <tr>\n",
       "      <th>2</th>\n",
       "      <td>prop_type_CO</td>\n",
       "      <td>-0.176007</td>\n",
       "      <td>-0.114888</td>\n",
       "      <td>-0.036486</td>\n",
       "      <td>-0.000000</td>\n",
       "      <td>-0.0</td>\n",
       "      <td>-0.0</td>\n",
       "      <td>-0.0</td>\n",
       "      <td>-0.0</td>\n",
       "    </tr>\n",
       "    <tr>\n",
       "      <th>3</th>\n",
       "      <td>prop_type_SF</td>\n",
       "      <td>-0.130302</td>\n",
       "      <td>-0.069912</td>\n",
       "      <td>0.000000</td>\n",
       "      <td>0.000000</td>\n",
       "      <td>0.0</td>\n",
       "      <td>0.0</td>\n",
       "      <td>0.0</td>\n",
       "      <td>0.0</td>\n",
       "    </tr>\n",
       "    <tr>\n",
       "      <th>4</th>\n",
       "      <td>occ_stat_O</td>\n",
       "      <td>0.594688</td>\n",
       "      <td>-0.000000</td>\n",
       "      <td>-0.000000</td>\n",
       "      <td>-0.000000</td>\n",
       "      <td>-0.0</td>\n",
       "      <td>-0.0</td>\n",
       "      <td>-0.0</td>\n",
       "      <td>-0.0</td>\n",
       "    </tr>\n",
       "    <tr>\n",
       "      <th>5</th>\n",
       "      <td>occ_stat_S</td>\n",
       "      <td>0.696226</td>\n",
       "      <td>0.097410</td>\n",
       "      <td>0.064594</td>\n",
       "      <td>0.000000</td>\n",
       "      <td>0.0</td>\n",
       "      <td>0.0</td>\n",
       "      <td>0.0</td>\n",
       "      <td>0.0</td>\n",
       "    </tr>\n",
       "    <tr>\n",
       "      <th>6</th>\n",
       "      <td>dti_new_12.5</td>\n",
       "      <td>0.008450</td>\n",
       "      <td>-0.000000</td>\n",
       "      <td>-0.000000</td>\n",
       "      <td>-0.000000</td>\n",
       "      <td>-0.0</td>\n",
       "      <td>-0.0</td>\n",
       "      <td>-0.0</td>\n",
       "      <td>-0.0</td>\n",
       "    </tr>\n",
       "    <tr>\n",
       "      <th>7</th>\n",
       "      <td>dti_new_17.5</td>\n",
       "      <td>-0.016796</td>\n",
       "      <td>-0.031727</td>\n",
       "      <td>-0.047783</td>\n",
       "      <td>-0.000000</td>\n",
       "      <td>-0.0</td>\n",
       "      <td>-0.0</td>\n",
       "      <td>-0.0</td>\n",
       "      <td>-0.0</td>\n",
       "    </tr>\n",
       "    <tr>\n",
       "      <th>8</th>\n",
       "      <td>dti_new_22.5</td>\n",
       "      <td>0.012272</td>\n",
       "      <td>-0.005196</td>\n",
       "      <td>-0.038425</td>\n",
       "      <td>-0.000000</td>\n",
       "      <td>-0.0</td>\n",
       "      <td>-0.0</td>\n",
       "      <td>-0.0</td>\n",
       "      <td>-0.0</td>\n",
       "    </tr>\n",
       "    <tr>\n",
       "      <th>9</th>\n",
       "      <td>dti_new_27.5</td>\n",
       "      <td>0.018783</td>\n",
       "      <td>0.000000</td>\n",
       "      <td>-0.035831</td>\n",
       "      <td>-0.000000</td>\n",
       "      <td>-0.0</td>\n",
       "      <td>-0.0</td>\n",
       "      <td>-0.0</td>\n",
       "      <td>-0.0</td>\n",
       "    </tr>\n",
       "    <tr>\n",
       "      <th>10</th>\n",
       "      <td>dti_new_32.5</td>\n",
       "      <td>0.062565</td>\n",
       "      <td>0.043905</td>\n",
       "      <td>0.000000</td>\n",
       "      <td>-0.000000</td>\n",
       "      <td>-0.0</td>\n",
       "      <td>-0.0</td>\n",
       "      <td>-0.0</td>\n",
       "      <td>-0.0</td>\n",
       "    </tr>\n",
       "    <tr>\n",
       "      <th>11</th>\n",
       "      <td>dti_new_37.5</td>\n",
       "      <td>0.101248</td>\n",
       "      <td>0.082800</td>\n",
       "      <td>0.038871</td>\n",
       "      <td>0.000000</td>\n",
       "      <td>0.0</td>\n",
       "      <td>0.0</td>\n",
       "      <td>0.0</td>\n",
       "      <td>0.0</td>\n",
       "    </tr>\n",
       "    <tr>\n",
       "      <th>12</th>\n",
       "      <td>dti_new_42.5</td>\n",
       "      <td>0.155407</td>\n",
       "      <td>0.136790</td>\n",
       "      <td>0.093362</td>\n",
       "      <td>0.068916</td>\n",
       "      <td>0.0</td>\n",
       "      <td>0.0</td>\n",
       "      <td>0.0</td>\n",
       "      <td>0.0</td>\n",
       "    </tr>\n",
       "    <tr>\n",
       "      <th>13</th>\n",
       "      <td>dti_new_47.5</td>\n",
       "      <td>0.178038</td>\n",
       "      <td>0.155239</td>\n",
       "      <td>0.077571</td>\n",
       "      <td>0.000000</td>\n",
       "      <td>0.0</td>\n",
       "      <td>0.0</td>\n",
       "      <td>0.0</td>\n",
       "      <td>0.0</td>\n",
       "    </tr>\n",
       "    <tr>\n",
       "      <th>14</th>\n",
       "      <td>dti_new_50.0</td>\n",
       "      <td>-0.073522</td>\n",
       "      <td>-0.024482</td>\n",
       "      <td>-0.000000</td>\n",
       "      <td>-0.000000</td>\n",
       "      <td>-0.0</td>\n",
       "      <td>-0.0</td>\n",
       "      <td>-0.0</td>\n",
       "      <td>-0.0</td>\n",
       "    </tr>\n",
       "    <tr>\n",
       "      <th>15</th>\n",
       "      <td>FICO_new_650</td>\n",
       "      <td>-0.044793</td>\n",
       "      <td>-0.000000</td>\n",
       "      <td>0.141487</td>\n",
       "      <td>0.000000</td>\n",
       "      <td>0.0</td>\n",
       "      <td>0.0</td>\n",
       "      <td>0.0</td>\n",
       "      <td>0.0</td>\n",
       "    </tr>\n",
       "    <tr>\n",
       "      <th>16</th>\n",
       "      <td>FICO_new_670</td>\n",
       "      <td>-0.091514</td>\n",
       "      <td>-0.044940</td>\n",
       "      <td>0.104090</td>\n",
       "      <td>0.024348</td>\n",
       "      <td>0.0</td>\n",
       "      <td>0.0</td>\n",
       "      <td>0.0</td>\n",
       "      <td>0.0</td>\n",
       "    </tr>\n",
       "    <tr>\n",
       "      <th>17</th>\n",
       "      <td>FICO_new_690</td>\n",
       "      <td>-0.223593</td>\n",
       "      <td>-0.177560</td>\n",
       "      <td>-0.000000</td>\n",
       "      <td>0.032793</td>\n",
       "      <td>0.0</td>\n",
       "      <td>0.0</td>\n",
       "      <td>0.0</td>\n",
       "      <td>0.0</td>\n",
       "    </tr>\n",
       "    <tr>\n",
       "      <th>18</th>\n",
       "      <td>FICO_new_710</td>\n",
       "      <td>-0.284878</td>\n",
       "      <td>-0.238605</td>\n",
       "      <td>-0.051694</td>\n",
       "      <td>0.000000</td>\n",
       "      <td>0.0</td>\n",
       "      <td>0.0</td>\n",
       "      <td>0.0</td>\n",
       "      <td>0.0</td>\n",
       "    </tr>\n",
       "    <tr>\n",
       "      <th>19</th>\n",
       "      <td>FICO_new_730</td>\n",
       "      <td>-0.384400</td>\n",
       "      <td>-0.338201</td>\n",
       "      <td>-0.152250</td>\n",
       "      <td>-0.000000</td>\n",
       "      <td>0.0</td>\n",
       "      <td>0.0</td>\n",
       "      <td>0.0</td>\n",
       "      <td>0.0</td>\n",
       "    </tr>\n",
       "    <tr>\n",
       "      <th>20</th>\n",
       "      <td>FICO_new_750</td>\n",
       "      <td>-0.456498</td>\n",
       "      <td>-0.410789</td>\n",
       "      <td>-0.226326</td>\n",
       "      <td>-0.040507</td>\n",
       "      <td>-0.0</td>\n",
       "      <td>-0.0</td>\n",
       "      <td>-0.0</td>\n",
       "      <td>-0.0</td>\n",
       "    </tr>\n",
       "    <tr>\n",
       "      <th>21</th>\n",
       "      <td>FICO_new_770</td>\n",
       "      <td>-0.550402</td>\n",
       "      <td>-0.504730</td>\n",
       "      <td>-0.321167</td>\n",
       "      <td>-0.138764</td>\n",
       "      <td>-0.0</td>\n",
       "      <td>-0.0</td>\n",
       "      <td>-0.0</td>\n",
       "      <td>-0.0</td>\n",
       "    </tr>\n",
       "    <tr>\n",
       "      <th>22</th>\n",
       "      <td>FICO_new_790</td>\n",
       "      <td>-0.621807</td>\n",
       "      <td>-0.576182</td>\n",
       "      <td>-0.393295</td>\n",
       "      <td>-0.206503</td>\n",
       "      <td>-0.0</td>\n",
       "      <td>-0.0</td>\n",
       "      <td>-0.0</td>\n",
       "      <td>-0.0</td>\n",
       "    </tr>\n",
       "    <tr>\n",
       "      <th>23</th>\n",
       "      <td>FICO_new_800</td>\n",
       "      <td>-0.651713</td>\n",
       "      <td>-0.605376</td>\n",
       "      <td>-0.415568</td>\n",
       "      <td>-0.155702</td>\n",
       "      <td>-0.0</td>\n",
       "      <td>-0.0</td>\n",
       "      <td>-0.0</td>\n",
       "      <td>-0.0</td>\n",
       "    </tr>\n",
       "    <tr>\n",
       "      <th>24</th>\n",
       "      <td>ltv_new_90</td>\n",
       "      <td>0.033742</td>\n",
       "      <td>0.028352</td>\n",
       "      <td>0.000000</td>\n",
       "      <td>-0.000000</td>\n",
       "      <td>-0.0</td>\n",
       "      <td>-0.0</td>\n",
       "      <td>-0.0</td>\n",
       "      <td>-0.0</td>\n",
       "    </tr>\n",
       "    <tr>\n",
       "      <th>25</th>\n",
       "      <td>ltv_new_95</td>\n",
       "      <td>0.094758</td>\n",
       "      <td>0.088511</td>\n",
       "      <td>0.053023</td>\n",
       "      <td>0.011572</td>\n",
       "      <td>0.0</td>\n",
       "      <td>0.0</td>\n",
       "      <td>0.0</td>\n",
       "      <td>0.0</td>\n",
       "    </tr>\n",
       "    <tr>\n",
       "      <th>26</th>\n",
       "      <td>ltv_new_97</td>\n",
       "      <td>0.147859</td>\n",
       "      <td>0.134965</td>\n",
       "      <td>0.057315</td>\n",
       "      <td>0.000000</td>\n",
       "      <td>0.0</td>\n",
       "      <td>0.0</td>\n",
       "      <td>0.0</td>\n",
       "      <td>0.0</td>\n",
       "    </tr>\n",
       "    <tr>\n",
       "      <th>27</th>\n",
       "      <td>fhb_flag_Y</td>\n",
       "      <td>-0.028760</td>\n",
       "      <td>-0.028294</td>\n",
       "      <td>-0.025602</td>\n",
       "      <td>-0.000000</td>\n",
       "      <td>-0.0</td>\n",
       "      <td>-0.0</td>\n",
       "      <td>-0.0</td>\n",
       "      <td>-0.0</td>\n",
       "    </tr>\n",
       "    <tr>\n",
       "      <th>28</th>\n",
       "      <td>MI_chl_Non-Delegated</td>\n",
       "      <td>0.013224</td>\n",
       "      <td>0.012667</td>\n",
       "      <td>0.008039</td>\n",
       "      <td>0.000000</td>\n",
       "      <td>0.0</td>\n",
       "      <td>0.0</td>\n",
       "      <td>0.0</td>\n",
       "      <td>0.0</td>\n",
       "    </tr>\n",
       "    <tr>\n",
       "      <th>29</th>\n",
       "      <td>no_bor_2</td>\n",
       "      <td>-0.174257</td>\n",
       "      <td>-0.173055</td>\n",
       "      <td>-0.165305</td>\n",
       "      <td>-0.118495</td>\n",
       "      <td>-0.0</td>\n",
       "      <td>-0.0</td>\n",
       "      <td>-0.0</td>\n",
       "      <td>-0.0</td>\n",
       "    </tr>\n",
       "    <tr>\n",
       "      <th>30</th>\n",
       "      <td>ory_2011</td>\n",
       "      <td>-0.083702</td>\n",
       "      <td>-0.079740</td>\n",
       "      <td>-0.042136</td>\n",
       "      <td>0.000000</td>\n",
       "      <td>0.0</td>\n",
       "      <td>0.0</td>\n",
       "      <td>0.0</td>\n",
       "      <td>0.0</td>\n",
       "    </tr>\n",
       "    <tr>\n",
       "      <th>31</th>\n",
       "      <td>ory_2012</td>\n",
       "      <td>-0.165198</td>\n",
       "      <td>-0.161105</td>\n",
       "      <td>-0.125420</td>\n",
       "      <td>-0.005773</td>\n",
       "      <td>-0.0</td>\n",
       "      <td>-0.0</td>\n",
       "      <td>-0.0</td>\n",
       "      <td>-0.0</td>\n",
       "    </tr>\n",
       "    <tr>\n",
       "      <th>32</th>\n",
       "      <td>ory_2013</td>\n",
       "      <td>-0.183369</td>\n",
       "      <td>-0.178279</td>\n",
       "      <td>-0.136941</td>\n",
       "      <td>-0.000000</td>\n",
       "      <td>0.0</td>\n",
       "      <td>0.0</td>\n",
       "      <td>0.0</td>\n",
       "      <td>0.0</td>\n",
       "    </tr>\n",
       "  </tbody>\n",
       "</table>\n",
       "</div>"
      ],
      "text/plain": [
       "            Feature Name  Alpha = 0.000000  Alpha = 0.000100  \\\n",
       "0            loan_purp_N         -0.085336         -0.072768   \n",
       "1            loan_purp_P         -0.095358         -0.080908   \n",
       "2           prop_type_CO         -0.176007         -0.114888   \n",
       "3           prop_type_SF         -0.130302         -0.069912   \n",
       "4             occ_stat_O          0.594688         -0.000000   \n",
       "5             occ_stat_S          0.696226          0.097410   \n",
       "6           dti_new_12.5          0.008450         -0.000000   \n",
       "7           dti_new_17.5         -0.016796         -0.031727   \n",
       "8           dti_new_22.5          0.012272         -0.005196   \n",
       "9           dti_new_27.5          0.018783          0.000000   \n",
       "10          dti_new_32.5          0.062565          0.043905   \n",
       "11          dti_new_37.5          0.101248          0.082800   \n",
       "12          dti_new_42.5          0.155407          0.136790   \n",
       "13          dti_new_47.5          0.178038          0.155239   \n",
       "14          dti_new_50.0         -0.073522         -0.024482   \n",
       "15          FICO_new_650         -0.044793         -0.000000   \n",
       "16          FICO_new_670         -0.091514         -0.044940   \n",
       "17          FICO_new_690         -0.223593         -0.177560   \n",
       "18          FICO_new_710         -0.284878         -0.238605   \n",
       "19          FICO_new_730         -0.384400         -0.338201   \n",
       "20          FICO_new_750         -0.456498         -0.410789   \n",
       "21          FICO_new_770         -0.550402         -0.504730   \n",
       "22          FICO_new_790         -0.621807         -0.576182   \n",
       "23          FICO_new_800         -0.651713         -0.605376   \n",
       "24            ltv_new_90          0.033742          0.028352   \n",
       "25            ltv_new_95          0.094758          0.088511   \n",
       "26            ltv_new_97          0.147859          0.134965   \n",
       "27            fhb_flag_Y         -0.028760         -0.028294   \n",
       "28  MI_chl_Non-Delegated          0.013224          0.012667   \n",
       "29              no_bor_2         -0.174257         -0.173055   \n",
       "30              ory_2011         -0.083702         -0.079740   \n",
       "31              ory_2012         -0.165198         -0.161105   \n",
       "32              ory_2013         -0.183369         -0.178279   \n",
       "\n",
       "    Alpha = 0.001000  Alpha = 0.010000  Alpha = 1.000000  Alpha = 5.000000  \\\n",
       "0          -0.001067         -0.000000              -0.0              -0.0   \n",
       "1          -0.000000          0.000000               0.0               0.0   \n",
       "2          -0.036486         -0.000000              -0.0              -0.0   \n",
       "3           0.000000          0.000000               0.0               0.0   \n",
       "4          -0.000000         -0.000000              -0.0              -0.0   \n",
       "5           0.064594          0.000000               0.0               0.0   \n",
       "6          -0.000000         -0.000000              -0.0              -0.0   \n",
       "7          -0.047783         -0.000000              -0.0              -0.0   \n",
       "8          -0.038425         -0.000000              -0.0              -0.0   \n",
       "9          -0.035831         -0.000000              -0.0              -0.0   \n",
       "10          0.000000         -0.000000              -0.0              -0.0   \n",
       "11          0.038871          0.000000               0.0               0.0   \n",
       "12          0.093362          0.068916               0.0               0.0   \n",
       "13          0.077571          0.000000               0.0               0.0   \n",
       "14         -0.000000         -0.000000              -0.0              -0.0   \n",
       "15          0.141487          0.000000               0.0               0.0   \n",
       "16          0.104090          0.024348               0.0               0.0   \n",
       "17         -0.000000          0.032793               0.0               0.0   \n",
       "18         -0.051694          0.000000               0.0               0.0   \n",
       "19         -0.152250         -0.000000               0.0               0.0   \n",
       "20         -0.226326         -0.040507              -0.0              -0.0   \n",
       "21         -0.321167         -0.138764              -0.0              -0.0   \n",
       "22         -0.393295         -0.206503              -0.0              -0.0   \n",
       "23         -0.415568         -0.155702              -0.0              -0.0   \n",
       "24          0.000000         -0.000000              -0.0              -0.0   \n",
       "25          0.053023          0.011572               0.0               0.0   \n",
       "26          0.057315          0.000000               0.0               0.0   \n",
       "27         -0.025602         -0.000000              -0.0              -0.0   \n",
       "28          0.008039          0.000000               0.0               0.0   \n",
       "29         -0.165305         -0.118495              -0.0              -0.0   \n",
       "30         -0.042136          0.000000               0.0               0.0   \n",
       "31         -0.125420         -0.005773              -0.0              -0.0   \n",
       "32         -0.136941         -0.000000               0.0               0.0   \n",
       "\n",
       "    Alpha = 10.000000  Alpha = 20.000000  \n",
       "0                -0.0               -0.0  \n",
       "1                 0.0                0.0  \n",
       "2                -0.0               -0.0  \n",
       "3                 0.0                0.0  \n",
       "4                -0.0               -0.0  \n",
       "5                 0.0                0.0  \n",
       "6                -0.0               -0.0  \n",
       "7                -0.0               -0.0  \n",
       "8                -0.0               -0.0  \n",
       "9                -0.0               -0.0  \n",
       "10               -0.0               -0.0  \n",
       "11                0.0                0.0  \n",
       "12                0.0                0.0  \n",
       "13                0.0                0.0  \n",
       "14               -0.0               -0.0  \n",
       "15                0.0                0.0  \n",
       "16                0.0                0.0  \n",
       "17                0.0                0.0  \n",
       "18                0.0                0.0  \n",
       "19                0.0                0.0  \n",
       "20               -0.0               -0.0  \n",
       "21               -0.0               -0.0  \n",
       "22               -0.0               -0.0  \n",
       "23               -0.0               -0.0  \n",
       "24               -0.0               -0.0  \n",
       "25                0.0                0.0  \n",
       "26                0.0                0.0  \n",
       "27               -0.0               -0.0  \n",
       "28                0.0                0.0  \n",
       "29               -0.0               -0.0  \n",
       "30                0.0                0.0  \n",
       "31               -0.0               -0.0  \n",
       "32                0.0                0.0  "
      ]
     },
     "execution_count": 61,
     "metadata": {},
     "output_type": "execute_result"
    }
   ],
   "source": [
    "# Run the function called, Lasso\n",
    "lasso([1e-15, 1e-10, 1e-8, 1e-4, 1e-3,1e-2, 1, 5, 10, 20])"
   ]
  },
  {
   "cell_type": "code",
   "execution_count": 62,
   "metadata": {
    "collapsed": true
   },
   "outputs": [],
   "source": [
    "# Ridge Regression Regularization\n",
    "from sklearn.linear_model import Ridge\n",
    "# Create a function called ridge,\n",
    "def ridge(alphas):\n",
    "    '''\n",
    "    Takes in a list of alphas. Outputs a dataframe containing the coefficients of lasso regressions from each alpha.\n",
    "    '''\n",
    "    # Create an empty data frame\n",
    "    df_reg2 = pd.DataFrame()\n",
    "\n",
    "    # Create a column of feature names\n",
    "    df_reg2['Feature Name'] = names\n",
    "\n",
    "    # For each alpha value in the list of alpha values,\n",
    "    for alpha in alphas:\n",
    "        # Create a lasso regression with that alpha value,\n",
    "        ridge = Ridge(alpha=alpha)\n",
    "\n",
    "        # Fit the lasso regression\n",
    "        ridge.fit(X_train, y_train)\n",
    "\n",
    "        # Create a column name for that alpha value\n",
    "        column_name = 'Alpha = %f' % alpha\n",
    "\n",
    "        # Create a column of coefficient values\n",
    "        df_reg2[column_name] = ridge.coef_\n",
    "\n",
    "    # Return the datafram    \n",
    "    return df_reg2\n",
    "\n"
   ]
  },
  {
   "cell_type": "code",
   "execution_count": 63,
   "metadata": {},
   "outputs": [
    {
     "data": {
      "text/html": [
       "<div>\n",
       "<style>\n",
       "    .dataframe thead tr:only-child th {\n",
       "        text-align: right;\n",
       "    }\n",
       "\n",
       "    .dataframe thead th {\n",
       "        text-align: left;\n",
       "    }\n",
       "\n",
       "    .dataframe tbody tr th {\n",
       "        vertical-align: top;\n",
       "    }\n",
       "</style>\n",
       "<table border=\"1\" class=\"dataframe\">\n",
       "  <thead>\n",
       "    <tr style=\"text-align: right;\">\n",
       "      <th></th>\n",
       "      <th>Feature Name</th>\n",
       "      <th>Alpha = 0.000100</th>\n",
       "      <th>Alpha = 0.001000</th>\n",
       "      <th>Alpha = 0.010000</th>\n",
       "      <th>Alpha = 1.000000</th>\n",
       "      <th>Alpha = 5.000000</th>\n",
       "      <th>Alpha = 10.000000</th>\n",
       "      <th>Alpha = 20.000000</th>\n",
       "      <th>Alpha = 40.000000</th>\n",
       "      <th>Alpha = 80.000000</th>\n",
       "      <th>Alpha = 100.000000</th>\n",
       "    </tr>\n",
       "  </thead>\n",
       "  <tbody>\n",
       "    <tr>\n",
       "      <th>0</th>\n",
       "      <td>loan_purp_N</td>\n",
       "      <td>-0.085317</td>\n",
       "      <td>-0.085316</td>\n",
       "      <td>-0.085311</td>\n",
       "      <td>-0.084595</td>\n",
       "      <td>-0.081682</td>\n",
       "      <td>-0.078368</td>\n",
       "      <td>-0.072614</td>\n",
       "      <td>-0.063523</td>\n",
       "      <td>-0.051093</td>\n",
       "      <td>-0.046654</td>\n",
       "    </tr>\n",
       "    <tr>\n",
       "      <th>1</th>\n",
       "      <td>loan_purp_P</td>\n",
       "      <td>-0.095386</td>\n",
       "      <td>-0.095384</td>\n",
       "      <td>-0.095372</td>\n",
       "      <td>-0.094237</td>\n",
       "      <td>-0.090380</td>\n",
       "      <td>-0.086118</td>\n",
       "      <td>-0.078818</td>\n",
       "      <td>-0.067385</td>\n",
       "      <td>-0.051618</td>\n",
       "      <td>-0.045856</td>\n",
       "    </tr>\n",
       "    <tr>\n",
       "      <th>2</th>\n",
       "      <td>prop_type_CO</td>\n",
       "      <td>-0.176026</td>\n",
       "      <td>-0.176021</td>\n",
       "      <td>-0.175968</td>\n",
       "      <td>-0.170530</td>\n",
       "      <td>-0.152074</td>\n",
       "      <td>-0.134561</td>\n",
       "      <td>-0.110626</td>\n",
       "      <td>-0.084074</td>\n",
       "      <td>-0.060638</td>\n",
       "      <td>-0.054428</td>\n",
       "    </tr>\n",
       "    <tr>\n",
       "      <th>3</th>\n",
       "      <td>prop_type_SF</td>\n",
       "      <td>-0.130314</td>\n",
       "      <td>-0.130309</td>\n",
       "      <td>-0.130257</td>\n",
       "      <td>-0.124854</td>\n",
       "      <td>-0.106463</td>\n",
       "      <td>-0.089010</td>\n",
       "      <td>-0.065159</td>\n",
       "      <td>-0.038725</td>\n",
       "      <td>-0.015523</td>\n",
       "      <td>-0.009447</td>\n",
       "    </tr>\n",
       "    <tr>\n",
       "      <th>4</th>\n",
       "      <td>occ_stat_O</td>\n",
       "      <td>0.763213</td>\n",
       "      <td>0.761745</td>\n",
       "      <td>0.747347</td>\n",
       "      <td>0.219953</td>\n",
       "      <td>0.023612</td>\n",
       "      <td>-0.010881</td>\n",
       "      <td>-0.028648</td>\n",
       "      <td>-0.036673</td>\n",
       "      <td>-0.038926</td>\n",
       "      <td>-0.038776</td>\n",
       "    </tr>\n",
       "    <tr>\n",
       "      <th>5</th>\n",
       "      <td>occ_stat_S</td>\n",
       "      <td>0.864761</td>\n",
       "      <td>0.863291</td>\n",
       "      <td>0.848876</td>\n",
       "      <td>0.320685</td>\n",
       "      <td>0.123063</td>\n",
       "      <td>0.087335</td>\n",
       "      <td>0.067485</td>\n",
       "      <td>0.056073</td>\n",
       "      <td>0.048492</td>\n",
       "      <td>0.046377</td>\n",
       "    </tr>\n",
       "    <tr>\n",
       "      <th>6</th>\n",
       "      <td>dti_new_12.5</td>\n",
       "      <td>0.009154</td>\n",
       "      <td>0.009142</td>\n",
       "      <td>0.009020</td>\n",
       "      <td>-0.001571</td>\n",
       "      <td>-0.020189</td>\n",
       "      <td>-0.028470</td>\n",
       "      <td>-0.034339</td>\n",
       "      <td>-0.036394</td>\n",
       "      <td>-0.033863</td>\n",
       "      <td>-0.032145</td>\n",
       "    </tr>\n",
       "    <tr>\n",
       "      <th>7</th>\n",
       "      <td>dti_new_17.5</td>\n",
       "      <td>-0.016086</td>\n",
       "      <td>-0.016099</td>\n",
       "      <td>-0.016220</td>\n",
       "      <td>-0.026762</td>\n",
       "      <td>-0.045567</td>\n",
       "      <td>-0.054431</td>\n",
       "      <td>-0.061725</td>\n",
       "      <td>-0.066545</td>\n",
       "      <td>-0.068015</td>\n",
       "      <td>-0.067622</td>\n",
       "    </tr>\n",
       "    <tr>\n",
       "      <th>8</th>\n",
       "      <td>dti_new_22.5</td>\n",
       "      <td>0.012974</td>\n",
       "      <td>0.012962</td>\n",
       "      <td>0.012840</td>\n",
       "      <td>0.002175</td>\n",
       "      <td>-0.017279</td>\n",
       "      <td>-0.026922</td>\n",
       "      <td>-0.035597</td>\n",
       "      <td>-0.042727</td>\n",
       "      <td>-0.047928</td>\n",
       "      <td>-0.049143</td>\n",
       "    </tr>\n",
       "    <tr>\n",
       "      <th>9</th>\n",
       "      <td>dti_new_27.5</td>\n",
       "      <td>0.019483</td>\n",
       "      <td>0.019471</td>\n",
       "      <td>0.019350</td>\n",
       "      <td>0.008732</td>\n",
       "      <td>-0.010577</td>\n",
       "      <td>-0.020096</td>\n",
       "      <td>-0.028628</td>\n",
       "      <td>-0.035670</td>\n",
       "      <td>-0.040998</td>\n",
       "      <td>-0.042334</td>\n",
       "    </tr>\n",
       "    <tr>\n",
       "      <th>10</th>\n",
       "      <td>dti_new_32.5</td>\n",
       "      <td>0.063261</td>\n",
       "      <td>0.063249</td>\n",
       "      <td>0.063128</td>\n",
       "      <td>0.052598</td>\n",
       "      <td>0.033544</td>\n",
       "      <td>0.024281</td>\n",
       "      <td>0.016144</td>\n",
       "      <td>0.009635</td>\n",
       "      <td>0.004924</td>\n",
       "      <td>0.003779</td>\n",
       "    </tr>\n",
       "    <tr>\n",
       "      <th>11</th>\n",
       "      <td>dti_new_37.5</td>\n",
       "      <td>0.101945</td>\n",
       "      <td>0.101933</td>\n",
       "      <td>0.101813</td>\n",
       "      <td>0.091295</td>\n",
       "      <td>0.072294</td>\n",
       "      <td>0.063073</td>\n",
       "      <td>0.054972</td>\n",
       "      <td>0.048440</td>\n",
       "      <td>0.043547</td>\n",
       "      <td>0.042288</td>\n",
       "    </tr>\n",
       "    <tr>\n",
       "      <th>12</th>\n",
       "      <td>dti_new_42.5</td>\n",
       "      <td>0.156139</td>\n",
       "      <td>0.156126</td>\n",
       "      <td>0.156003</td>\n",
       "      <td>0.145363</td>\n",
       "      <td>0.126281</td>\n",
       "      <td>0.117009</td>\n",
       "      <td>0.108832</td>\n",
       "      <td>0.102195</td>\n",
       "      <td>0.097166</td>\n",
       "      <td>0.095857</td>\n",
       "    </tr>\n",
       "    <tr>\n",
       "      <th>13</th>\n",
       "      <td>dti_new_47.5</td>\n",
       "      <td>0.178745</td>\n",
       "      <td>0.178733</td>\n",
       "      <td>0.178607</td>\n",
       "      <td>0.167566</td>\n",
       "      <td>0.146860</td>\n",
       "      <td>0.135794</td>\n",
       "      <td>0.124469</td>\n",
       "      <td>0.112511</td>\n",
       "      <td>0.098912</td>\n",
       "      <td>0.093982</td>\n",
       "    </tr>\n",
       "    <tr>\n",
       "      <th>14</th>\n",
       "      <td>dti_new_50.0</td>\n",
       "      <td>-0.072859</td>\n",
       "      <td>-0.072868</td>\n",
       "      <td>-0.072953</td>\n",
       "      <td>-0.079546</td>\n",
       "      <td>-0.082665</td>\n",
       "      <td>-0.075621</td>\n",
       "      <td>-0.061195</td>\n",
       "      <td>-0.042965</td>\n",
       "      <td>-0.026375</td>\n",
       "      <td>-0.021994</td>\n",
       "    </tr>\n",
       "    <tr>\n",
       "      <th>15</th>\n",
       "      <td>FICO_new_650</td>\n",
       "      <td>-0.044801</td>\n",
       "      <td>-0.044791</td>\n",
       "      <td>-0.044692</td>\n",
       "      <td>-0.034213</td>\n",
       "      <td>0.002199</td>\n",
       "      <td>0.037574</td>\n",
       "      <td>0.086742</td>\n",
       "      <td>0.140508</td>\n",
       "      <td>0.181553</td>\n",
       "      <td>0.189343</td>\n",
       "    </tr>\n",
       "    <tr>\n",
       "      <th>16</th>\n",
       "      <td>FICO_new_670</td>\n",
       "      <td>-0.091526</td>\n",
       "      <td>-0.091516</td>\n",
       "      <td>-0.091416</td>\n",
       "      <td>-0.080817</td>\n",
       "      <td>-0.043906</td>\n",
       "      <td>-0.007820</td>\n",
       "      <td>0.042915</td>\n",
       "      <td>0.099977</td>\n",
       "      <td>0.147289</td>\n",
       "      <td>0.157911</td>\n",
       "    </tr>\n",
       "    <tr>\n",
       "      <th>17</th>\n",
       "      <td>FICO_new_690</td>\n",
       "      <td>-0.223628</td>\n",
       "      <td>-0.223618</td>\n",
       "      <td>-0.223515</td>\n",
       "      <td>-0.212726</td>\n",
       "      <td>-0.175212</td>\n",
       "      <td>-0.138225</td>\n",
       "      <td>-0.085333</td>\n",
       "      <td>-0.023357</td>\n",
       "      <td>0.034018</td>\n",
       "      <td>0.049436</td>\n",
       "    </tr>\n",
       "    <tr>\n",
       "      <th>18</th>\n",
       "      <td>FICO_new_710</td>\n",
       "      <td>-0.284910</td>\n",
       "      <td>-0.284900</td>\n",
       "      <td>-0.284796</td>\n",
       "      <td>-0.273964</td>\n",
       "      <td>-0.236240</td>\n",
       "      <td>-0.198992</td>\n",
       "      <td>-0.145594</td>\n",
       "      <td>-0.082649</td>\n",
       "      <td>-0.023454</td>\n",
       "      <td>-0.007174</td>\n",
       "    </tr>\n",
       "    <tr>\n",
       "      <th>19</th>\n",
       "      <td>FICO_new_730</td>\n",
       "      <td>-0.384434</td>\n",
       "      <td>-0.384423</td>\n",
       "      <td>-0.384320</td>\n",
       "      <td>-0.373464</td>\n",
       "      <td>-0.335616</td>\n",
       "      <td>-0.298161</td>\n",
       "      <td>-0.244283</td>\n",
       "      <td>-0.180280</td>\n",
       "      <td>-0.118896</td>\n",
       "      <td>-0.101535</td>\n",
       "    </tr>\n",
       "    <tr>\n",
       "      <th>20</th>\n",
       "      <td>FICO_new_750</td>\n",
       "      <td>-0.456462</td>\n",
       "      <td>-0.456452</td>\n",
       "      <td>-0.456354</td>\n",
       "      <td>-0.445708</td>\n",
       "      <td>-0.407908</td>\n",
       "      <td>-0.370419</td>\n",
       "      <td>-0.316418</td>\n",
       "      <td>-0.252076</td>\n",
       "      <td>-0.189879</td>\n",
       "      <td>-0.172084</td>\n",
       "    </tr>\n",
       "    <tr>\n",
       "      <th>21</th>\n",
       "      <td>FICO_new_770</td>\n",
       "      <td>-0.550429</td>\n",
       "      <td>-0.550419</td>\n",
       "      <td>-0.550316</td>\n",
       "      <td>-0.539443</td>\n",
       "      <td>-0.501453</td>\n",
       "      <td>-0.463794</td>\n",
       "      <td>-0.409455</td>\n",
       "      <td>-0.344417</td>\n",
       "      <td>-0.280813</td>\n",
       "      <td>-0.262323</td>\n",
       "    </tr>\n",
       "    <tr>\n",
       "      <th>22</th>\n",
       "      <td>FICO_new_790</td>\n",
       "      <td>-0.621830</td>\n",
       "      <td>-0.621820</td>\n",
       "      <td>-0.621716</td>\n",
       "      <td>-0.610813</td>\n",
       "      <td>-0.572641</td>\n",
       "      <td>-0.534749</td>\n",
       "      <td>-0.479976</td>\n",
       "      <td>-0.414159</td>\n",
       "      <td>-0.349143</td>\n",
       "      <td>-0.329983</td>\n",
       "    </tr>\n",
       "    <tr>\n",
       "      <th>23</th>\n",
       "      <td>FICO_new_800</td>\n",
       "      <td>-0.651742</td>\n",
       "      <td>-0.651731</td>\n",
       "      <td>-0.651624</td>\n",
       "      <td>-0.640308</td>\n",
       "      <td>-0.600735</td>\n",
       "      <td>-0.561365</td>\n",
       "      <td>-0.504109</td>\n",
       "      <td>-0.434306</td>\n",
       "      <td>-0.363034</td>\n",
       "      <td>-0.341202</td>\n",
       "    </tr>\n",
       "    <tr>\n",
       "      <th>24</th>\n",
       "      <td>ltv_new_90</td>\n",
       "      <td>0.033761</td>\n",
       "      <td>0.033760</td>\n",
       "      <td>0.033756</td>\n",
       "      <td>0.033322</td>\n",
       "      <td>0.031828</td>\n",
       "      <td>0.030183</td>\n",
       "      <td>0.027372</td>\n",
       "      <td>0.022953</td>\n",
       "      <td>0.016739</td>\n",
       "      <td>0.014410</td>\n",
       "    </tr>\n",
       "    <tr>\n",
       "      <th>25</th>\n",
       "      <td>ltv_new_95</td>\n",
       "      <td>0.094784</td>\n",
       "      <td>0.094783</td>\n",
       "      <td>0.094776</td>\n",
       "      <td>0.094189</td>\n",
       "      <td>0.092374</td>\n",
       "      <td>0.090405</td>\n",
       "      <td>0.087052</td>\n",
       "      <td>0.081768</td>\n",
       "      <td>0.074223</td>\n",
       "      <td>0.071337</td>\n",
       "    </tr>\n",
       "    <tr>\n",
       "      <th>26</th>\n",
       "      <td>ltv_new_97</td>\n",
       "      <td>0.148305</td>\n",
       "      <td>0.148300</td>\n",
       "      <td>0.148251</td>\n",
       "      <td>0.145724</td>\n",
       "      <td>0.141058</td>\n",
       "      <td>0.136364</td>\n",
       "      <td>0.128447</td>\n",
       "      <td>0.115978</td>\n",
       "      <td>0.098087</td>\n",
       "      <td>0.091224</td>\n",
       "    </tr>\n",
       "    <tr>\n",
       "      <th>27</th>\n",
       "      <td>fhb_flag_Y</td>\n",
       "      <td>-0.028782</td>\n",
       "      <td>-0.028781</td>\n",
       "      <td>-0.028780</td>\n",
       "      <td>-0.028725</td>\n",
       "      <td>-0.028697</td>\n",
       "      <td>-0.028682</td>\n",
       "      <td>-0.028656</td>\n",
       "      <td>-0.028601</td>\n",
       "      <td>-0.028435</td>\n",
       "      <td>-0.028327</td>\n",
       "    </tr>\n",
       "    <tr>\n",
       "      <th>28</th>\n",
       "      <td>MI_chl_Non-Delegated</td>\n",
       "      <td>0.013246</td>\n",
       "      <td>0.013246</td>\n",
       "      <td>0.013244</td>\n",
       "      <td>0.013215</td>\n",
       "      <td>0.013273</td>\n",
       "      <td>0.013316</td>\n",
       "      <td>0.013342</td>\n",
       "      <td>0.013292</td>\n",
       "      <td>0.013067</td>\n",
       "      <td>0.012939</td>\n",
       "    </tr>\n",
       "    <tr>\n",
       "      <th>29</th>\n",
       "      <td>no_bor_2</td>\n",
       "      <td>-0.174274</td>\n",
       "      <td>-0.174273</td>\n",
       "      <td>-0.174270</td>\n",
       "      <td>-0.174012</td>\n",
       "      <td>-0.173246</td>\n",
       "      <td>-0.172431</td>\n",
       "      <td>-0.171078</td>\n",
       "      <td>-0.168965</td>\n",
       "      <td>-0.165704</td>\n",
       "      <td>-0.164296</td>\n",
       "    </tr>\n",
       "    <tr>\n",
       "      <th>30</th>\n",
       "      <td>ory_2011</td>\n",
       "      <td>-0.083643</td>\n",
       "      <td>-0.083643</td>\n",
       "      <td>-0.083644</td>\n",
       "      <td>-0.083411</td>\n",
       "      <td>-0.081905</td>\n",
       "      <td>-0.080069</td>\n",
       "      <td>-0.076652</td>\n",
       "      <td>-0.070569</td>\n",
       "      <td>-0.060385</td>\n",
       "      <td>-0.056017</td>\n",
       "    </tr>\n",
       "    <tr>\n",
       "      <th>31</th>\n",
       "      <td>ory_2012</td>\n",
       "      <td>-0.165201</td>\n",
       "      <td>-0.165201</td>\n",
       "      <td>-0.165196</td>\n",
       "      <td>-0.164712</td>\n",
       "      <td>-0.162895</td>\n",
       "      <td>-0.160774</td>\n",
       "      <td>-0.156914</td>\n",
       "      <td>-0.150184</td>\n",
       "      <td>-0.139019</td>\n",
       "      <td>-0.134206</td>\n",
       "    </tr>\n",
       "    <tr>\n",
       "      <th>32</th>\n",
       "      <td>ory_2013</td>\n",
       "      <td>-0.183386</td>\n",
       "      <td>-0.183385</td>\n",
       "      <td>-0.183378</td>\n",
       "      <td>-0.182665</td>\n",
       "      <td>-0.180155</td>\n",
       "      <td>-0.177346</td>\n",
       "      <td>-0.172424</td>\n",
       "      <td>-0.164206</td>\n",
       "      <td>-0.151047</td>\n",
       "      <td>-0.145450</td>\n",
       "    </tr>\n",
       "  </tbody>\n",
       "</table>\n",
       "</div>"
      ],
      "text/plain": [
       "            Feature Name  Alpha = 0.000100  Alpha = 0.001000  \\\n",
       "0            loan_purp_N         -0.085317         -0.085316   \n",
       "1            loan_purp_P         -0.095386         -0.095384   \n",
       "2           prop_type_CO         -0.176026         -0.176021   \n",
       "3           prop_type_SF         -0.130314         -0.130309   \n",
       "4             occ_stat_O          0.763213          0.761745   \n",
       "5             occ_stat_S          0.864761          0.863291   \n",
       "6           dti_new_12.5          0.009154          0.009142   \n",
       "7           dti_new_17.5         -0.016086         -0.016099   \n",
       "8           dti_new_22.5          0.012974          0.012962   \n",
       "9           dti_new_27.5          0.019483          0.019471   \n",
       "10          dti_new_32.5          0.063261          0.063249   \n",
       "11          dti_new_37.5          0.101945          0.101933   \n",
       "12          dti_new_42.5          0.156139          0.156126   \n",
       "13          dti_new_47.5          0.178745          0.178733   \n",
       "14          dti_new_50.0         -0.072859         -0.072868   \n",
       "15          FICO_new_650         -0.044801         -0.044791   \n",
       "16          FICO_new_670         -0.091526         -0.091516   \n",
       "17          FICO_new_690         -0.223628         -0.223618   \n",
       "18          FICO_new_710         -0.284910         -0.284900   \n",
       "19          FICO_new_730         -0.384434         -0.384423   \n",
       "20          FICO_new_750         -0.456462         -0.456452   \n",
       "21          FICO_new_770         -0.550429         -0.550419   \n",
       "22          FICO_new_790         -0.621830         -0.621820   \n",
       "23          FICO_new_800         -0.651742         -0.651731   \n",
       "24            ltv_new_90          0.033761          0.033760   \n",
       "25            ltv_new_95          0.094784          0.094783   \n",
       "26            ltv_new_97          0.148305          0.148300   \n",
       "27            fhb_flag_Y         -0.028782         -0.028781   \n",
       "28  MI_chl_Non-Delegated          0.013246          0.013246   \n",
       "29              no_bor_2         -0.174274         -0.174273   \n",
       "30              ory_2011         -0.083643         -0.083643   \n",
       "31              ory_2012         -0.165201         -0.165201   \n",
       "32              ory_2013         -0.183386         -0.183385   \n",
       "\n",
       "    Alpha = 0.010000  Alpha = 1.000000  Alpha = 5.000000  Alpha = 10.000000  \\\n",
       "0          -0.085311         -0.084595         -0.081682          -0.078368   \n",
       "1          -0.095372         -0.094237         -0.090380          -0.086118   \n",
       "2          -0.175968         -0.170530         -0.152074          -0.134561   \n",
       "3          -0.130257         -0.124854         -0.106463          -0.089010   \n",
       "4           0.747347          0.219953          0.023612          -0.010881   \n",
       "5           0.848876          0.320685          0.123063           0.087335   \n",
       "6           0.009020         -0.001571         -0.020189          -0.028470   \n",
       "7          -0.016220         -0.026762         -0.045567          -0.054431   \n",
       "8           0.012840          0.002175         -0.017279          -0.026922   \n",
       "9           0.019350          0.008732         -0.010577          -0.020096   \n",
       "10          0.063128          0.052598          0.033544           0.024281   \n",
       "11          0.101813          0.091295          0.072294           0.063073   \n",
       "12          0.156003          0.145363          0.126281           0.117009   \n",
       "13          0.178607          0.167566          0.146860           0.135794   \n",
       "14         -0.072953         -0.079546         -0.082665          -0.075621   \n",
       "15         -0.044692         -0.034213          0.002199           0.037574   \n",
       "16         -0.091416         -0.080817         -0.043906          -0.007820   \n",
       "17         -0.223515         -0.212726         -0.175212          -0.138225   \n",
       "18         -0.284796         -0.273964         -0.236240          -0.198992   \n",
       "19         -0.384320         -0.373464         -0.335616          -0.298161   \n",
       "20         -0.456354         -0.445708         -0.407908          -0.370419   \n",
       "21         -0.550316         -0.539443         -0.501453          -0.463794   \n",
       "22         -0.621716         -0.610813         -0.572641          -0.534749   \n",
       "23         -0.651624         -0.640308         -0.600735          -0.561365   \n",
       "24          0.033756          0.033322          0.031828           0.030183   \n",
       "25          0.094776          0.094189          0.092374           0.090405   \n",
       "26          0.148251          0.145724          0.141058           0.136364   \n",
       "27         -0.028780         -0.028725         -0.028697          -0.028682   \n",
       "28          0.013244          0.013215          0.013273           0.013316   \n",
       "29         -0.174270         -0.174012         -0.173246          -0.172431   \n",
       "30         -0.083644         -0.083411         -0.081905          -0.080069   \n",
       "31         -0.165196         -0.164712         -0.162895          -0.160774   \n",
       "32         -0.183378         -0.182665         -0.180155          -0.177346   \n",
       "\n",
       "    Alpha = 20.000000  Alpha = 40.000000  Alpha = 80.000000  \\\n",
       "0           -0.072614          -0.063523          -0.051093   \n",
       "1           -0.078818          -0.067385          -0.051618   \n",
       "2           -0.110626          -0.084074          -0.060638   \n",
       "3           -0.065159          -0.038725          -0.015523   \n",
       "4           -0.028648          -0.036673          -0.038926   \n",
       "5            0.067485           0.056073           0.048492   \n",
       "6           -0.034339          -0.036394          -0.033863   \n",
       "7           -0.061725          -0.066545          -0.068015   \n",
       "8           -0.035597          -0.042727          -0.047928   \n",
       "9           -0.028628          -0.035670          -0.040998   \n",
       "10           0.016144           0.009635           0.004924   \n",
       "11           0.054972           0.048440           0.043547   \n",
       "12           0.108832           0.102195           0.097166   \n",
       "13           0.124469           0.112511           0.098912   \n",
       "14          -0.061195          -0.042965          -0.026375   \n",
       "15           0.086742           0.140508           0.181553   \n",
       "16           0.042915           0.099977           0.147289   \n",
       "17          -0.085333          -0.023357           0.034018   \n",
       "18          -0.145594          -0.082649          -0.023454   \n",
       "19          -0.244283          -0.180280          -0.118896   \n",
       "20          -0.316418          -0.252076          -0.189879   \n",
       "21          -0.409455          -0.344417          -0.280813   \n",
       "22          -0.479976          -0.414159          -0.349143   \n",
       "23          -0.504109          -0.434306          -0.363034   \n",
       "24           0.027372           0.022953           0.016739   \n",
       "25           0.087052           0.081768           0.074223   \n",
       "26           0.128447           0.115978           0.098087   \n",
       "27          -0.028656          -0.028601          -0.028435   \n",
       "28           0.013342           0.013292           0.013067   \n",
       "29          -0.171078          -0.168965          -0.165704   \n",
       "30          -0.076652          -0.070569          -0.060385   \n",
       "31          -0.156914          -0.150184          -0.139019   \n",
       "32          -0.172424          -0.164206          -0.151047   \n",
       "\n",
       "    Alpha = 100.000000  \n",
       "0            -0.046654  \n",
       "1            -0.045856  \n",
       "2            -0.054428  \n",
       "3            -0.009447  \n",
       "4            -0.038776  \n",
       "5             0.046377  \n",
       "6            -0.032145  \n",
       "7            -0.067622  \n",
       "8            -0.049143  \n",
       "9            -0.042334  \n",
       "10            0.003779  \n",
       "11            0.042288  \n",
       "12            0.095857  \n",
       "13            0.093982  \n",
       "14           -0.021994  \n",
       "15            0.189343  \n",
       "16            0.157911  \n",
       "17            0.049436  \n",
       "18           -0.007174  \n",
       "19           -0.101535  \n",
       "20           -0.172084  \n",
       "21           -0.262323  \n",
       "22           -0.329983  \n",
       "23           -0.341202  \n",
       "24            0.014410  \n",
       "25            0.071337  \n",
       "26            0.091224  \n",
       "27           -0.028327  \n",
       "28            0.012939  \n",
       "29           -0.164296  \n",
       "30           -0.056017  \n",
       "31           -0.134206  \n",
       "32           -0.145450  "
      ]
     },
     "execution_count": 63,
     "metadata": {},
     "output_type": "execute_result"
    }
   ],
   "source": [
    "# Run the function called, Ridge\n",
    "ridge([1e-4, 1e-3,1e-2, 1, 5, 10, 20,40,80,100])"
   ]
  },
  {
   "cell_type": "code",
   "execution_count": 64,
   "metadata": {
    "collapsed": true
   },
   "outputs": [],
   "source": [
    "# ElasticNet Regression Regularization\n",
    "from sklearn.linear_model import ElasticNet\n",
    "# Create a function called elasticnet,\n",
    "def elasticnet(alphas):\n",
    "    '''\n",
    "    Takes in a list of alphas. Outputs a dataframe containing the coefficients of lasso regressions from each alpha.\n",
    "    '''\n",
    "    # Create an empty data frame\n",
    "    df_reg3 = pd.DataFrame()\n",
    "\n",
    "    # Create a column of feature names\n",
    "    df_reg3['Feature Name'] = names\n",
    "\n",
    "    # For each alpha value in the list of alpha values,\n",
    "    for alpha in alphas:\n",
    "        # Create a lasso regression with that alpha value,\n",
    "        elasticnet = ElasticNet(alpha=alpha)\n",
    "\n",
    "        # Fit the lasso regression\n",
    "        elasticnet.fit(X_train, y_train)\n",
    "\n",
    "        # Create a column name for that alpha value\n",
    "        column_name = 'Alpha = %f' % alpha\n",
    "\n",
    "        # Create a column of coefficient values\n",
    "        df_reg3[column_name] = elasticnet.coef_\n",
    "\n",
    "    # Return the datafram    \n",
    "    return df_reg3\n",
    "\n"
   ]
  },
  {
   "cell_type": "code",
   "execution_count": 65,
   "metadata": {},
   "outputs": [
    {
     "name": "stderr",
     "output_type": "stream",
     "text": [
      "C:\\Users\\SunLix\\Anaconda3\\lib\\site-packages\\sklearn\\linear_model\\coordinate_descent.py:484: ConvergenceWarning: Objective did not converge. You might want to increase the number of iterations. Fitting data with very small alpha may cause precision problems.\n",
      "  ConvergenceWarning)\n"
     ]
    },
    {
     "data": {
      "text/html": [
       "<div>\n",
       "<style>\n",
       "    .dataframe thead tr:only-child th {\n",
       "        text-align: right;\n",
       "    }\n",
       "\n",
       "    .dataframe thead th {\n",
       "        text-align: left;\n",
       "    }\n",
       "\n",
       "    .dataframe tbody tr th {\n",
       "        vertical-align: top;\n",
       "    }\n",
       "</style>\n",
       "<table border=\"1\" class=\"dataframe\">\n",
       "  <thead>\n",
       "    <tr style=\"text-align: right;\">\n",
       "      <th></th>\n",
       "      <th>Feature Name</th>\n",
       "      <th>Alpha = 0.000000</th>\n",
       "      <th>Alpha = 0.000100</th>\n",
       "      <th>Alpha = 0.001000</th>\n",
       "      <th>Alpha = 0.010000</th>\n",
       "      <th>Alpha = 1.000000</th>\n",
       "      <th>Alpha = 5.000000</th>\n",
       "      <th>Alpha = 10.000000</th>\n",
       "      <th>Alpha = 20.000000</th>\n",
       "    </tr>\n",
       "  </thead>\n",
       "  <tbody>\n",
       "    <tr>\n",
       "      <th>0</th>\n",
       "      <td>loan_purp_N</td>\n",
       "      <td>-0.085337</td>\n",
       "      <td>-0.078487</td>\n",
       "      <td>-0.021766</td>\n",
       "      <td>-0.000000</td>\n",
       "      <td>-0.0</td>\n",
       "      <td>-0.0</td>\n",
       "      <td>-0.0</td>\n",
       "      <td>-0.0</td>\n",
       "    </tr>\n",
       "    <tr>\n",
       "      <th>1</th>\n",
       "      <td>loan_purp_P</td>\n",
       "      <td>-0.095358</td>\n",
       "      <td>-0.087285</td>\n",
       "      <td>-0.022365</td>\n",
       "      <td>0.000000</td>\n",
       "      <td>0.0</td>\n",
       "      <td>0.0</td>\n",
       "      <td>0.0</td>\n",
       "      <td>0.0</td>\n",
       "    </tr>\n",
       "    <tr>\n",
       "      <th>2</th>\n",
       "      <td>prop_type_CO</td>\n",
       "      <td>-0.176010</td>\n",
       "      <td>-0.142081</td>\n",
       "      <td>-0.041603</td>\n",
       "      <td>-0.000000</td>\n",
       "      <td>-0.0</td>\n",
       "      <td>-0.0</td>\n",
       "      <td>-0.0</td>\n",
       "      <td>-0.0</td>\n",
       "    </tr>\n",
       "    <tr>\n",
       "      <th>3</th>\n",
       "      <td>prop_type_SF</td>\n",
       "      <td>-0.130305</td>\n",
       "      <td>-0.096752</td>\n",
       "      <td>0.000000</td>\n",
       "      <td>0.000000</td>\n",
       "      <td>0.0</td>\n",
       "      <td>0.0</td>\n",
       "      <td>0.0</td>\n",
       "      <td>0.0</td>\n",
       "    </tr>\n",
       "    <tr>\n",
       "      <th>4</th>\n",
       "      <td>occ_stat_O</td>\n",
       "      <td>0.594752</td>\n",
       "      <td>-0.000000</td>\n",
       "      <td>-0.000000</td>\n",
       "      <td>-0.000000</td>\n",
       "      <td>-0.0</td>\n",
       "      <td>-0.0</td>\n",
       "      <td>-0.0</td>\n",
       "      <td>-0.0</td>\n",
       "    </tr>\n",
       "    <tr>\n",
       "      <th>5</th>\n",
       "      <td>occ_stat_S</td>\n",
       "      <td>0.696290</td>\n",
       "      <td>0.099128</td>\n",
       "      <td>0.080396</td>\n",
       "      <td>0.000000</td>\n",
       "      <td>0.0</td>\n",
       "      <td>0.0</td>\n",
       "      <td>0.0</td>\n",
       "      <td>0.0</td>\n",
       "    </tr>\n",
       "    <tr>\n",
       "      <th>6</th>\n",
       "      <td>dti_new_12.5</td>\n",
       "      <td>0.008460</td>\n",
       "      <td>-0.004247</td>\n",
       "      <td>-0.000000</td>\n",
       "      <td>-0.000000</td>\n",
       "      <td>-0.0</td>\n",
       "      <td>-0.0</td>\n",
       "      <td>-0.0</td>\n",
       "      <td>-0.0</td>\n",
       "    </tr>\n",
       "    <tr>\n",
       "      <th>7</th>\n",
       "      <td>dti_new_17.5</td>\n",
       "      <td>-0.016786</td>\n",
       "      <td>-0.033490</td>\n",
       "      <td>-0.047374</td>\n",
       "      <td>-0.000000</td>\n",
       "      <td>-0.0</td>\n",
       "      <td>-0.0</td>\n",
       "      <td>-0.0</td>\n",
       "      <td>-0.0</td>\n",
       "    </tr>\n",
       "    <tr>\n",
       "      <th>8</th>\n",
       "      <td>dti_new_22.5</td>\n",
       "      <td>0.012283</td>\n",
       "      <td>-0.005812</td>\n",
       "      <td>-0.029542</td>\n",
       "      <td>-0.004831</td>\n",
       "      <td>-0.0</td>\n",
       "      <td>-0.0</td>\n",
       "      <td>-0.0</td>\n",
       "      <td>-0.0</td>\n",
       "    </tr>\n",
       "    <tr>\n",
       "      <th>9</th>\n",
       "      <td>dti_new_27.5</td>\n",
       "      <td>0.018793</td>\n",
       "      <td>0.000000</td>\n",
       "      <td>-0.024874</td>\n",
       "      <td>-0.016616</td>\n",
       "      <td>-0.0</td>\n",
       "      <td>-0.0</td>\n",
       "      <td>-0.0</td>\n",
       "      <td>-0.0</td>\n",
       "    </tr>\n",
       "    <tr>\n",
       "      <th>10</th>\n",
       "      <td>dti_new_32.5</td>\n",
       "      <td>0.062575</td>\n",
       "      <td>0.043986</td>\n",
       "      <td>0.014847</td>\n",
       "      <td>0.000000</td>\n",
       "      <td>-0.0</td>\n",
       "      <td>-0.0</td>\n",
       "      <td>-0.0</td>\n",
       "      <td>-0.0</td>\n",
       "    </tr>\n",
       "    <tr>\n",
       "      <th>11</th>\n",
       "      <td>dti_new_37.5</td>\n",
       "      <td>0.101259</td>\n",
       "      <td>0.082787</td>\n",
       "      <td>0.054256</td>\n",
       "      <td>0.023391</td>\n",
       "      <td>0.0</td>\n",
       "      <td>0.0</td>\n",
       "      <td>0.0</td>\n",
       "      <td>0.0</td>\n",
       "    </tr>\n",
       "    <tr>\n",
       "      <th>12</th>\n",
       "      <td>dti_new_42.5</td>\n",
       "      <td>0.155417</td>\n",
       "      <td>0.136781</td>\n",
       "      <td>0.108442</td>\n",
       "      <td>0.084790</td>\n",
       "      <td>0.0</td>\n",
       "      <td>0.0</td>\n",
       "      <td>0.0</td>\n",
       "      <td>0.0</td>\n",
       "    </tr>\n",
       "    <tr>\n",
       "      <th>13</th>\n",
       "      <td>dti_new_47.5</td>\n",
       "      <td>0.178049</td>\n",
       "      <td>0.157001</td>\n",
       "      <td>0.108998</td>\n",
       "      <td>0.000000</td>\n",
       "      <td>0.0</td>\n",
       "      <td>0.0</td>\n",
       "      <td>0.0</td>\n",
       "      <td>0.0</td>\n",
       "    </tr>\n",
       "    <tr>\n",
       "      <th>14</th>\n",
       "      <td>dti_new_50.0</td>\n",
       "      <td>-0.073515</td>\n",
       "      <td>-0.055822</td>\n",
       "      <td>-0.000000</td>\n",
       "      <td>-0.000000</td>\n",
       "      <td>-0.0</td>\n",
       "      <td>-0.0</td>\n",
       "      <td>-0.0</td>\n",
       "      <td>-0.0</td>\n",
       "    </tr>\n",
       "    <tr>\n",
       "      <th>15</th>\n",
       "      <td>FICO_new_650</td>\n",
       "      <td>-0.044795</td>\n",
       "      <td>-0.011756</td>\n",
       "      <td>0.115806</td>\n",
       "      <td>0.118890</td>\n",
       "      <td>0.0</td>\n",
       "      <td>0.0</td>\n",
       "      <td>0.0</td>\n",
       "      <td>0.0</td>\n",
       "    </tr>\n",
       "    <tr>\n",
       "      <th>16</th>\n",
       "      <td>FICO_new_670</td>\n",
       "      <td>-0.091516</td>\n",
       "      <td>-0.058463</td>\n",
       "      <td>0.075149</td>\n",
       "      <td>0.121395</td>\n",
       "      <td>0.0</td>\n",
       "      <td>0.0</td>\n",
       "      <td>0.0</td>\n",
       "      <td>0.0</td>\n",
       "    </tr>\n",
       "    <tr>\n",
       "      <th>17</th>\n",
       "      <td>FICO_new_690</td>\n",
       "      <td>-0.223594</td>\n",
       "      <td>-0.190660</td>\n",
       "      <td>-0.036522</td>\n",
       "      <td>0.074083</td>\n",
       "      <td>0.0</td>\n",
       "      <td>0.0</td>\n",
       "      <td>0.0</td>\n",
       "      <td>0.0</td>\n",
       "    </tr>\n",
       "    <tr>\n",
       "      <th>18</th>\n",
       "      <td>FICO_new_710</td>\n",
       "      <td>-0.284879</td>\n",
       "      <td>-0.251790</td>\n",
       "      <td>-0.096894</td>\n",
       "      <td>0.022246</td>\n",
       "      <td>0.0</td>\n",
       "      <td>0.0</td>\n",
       "      <td>0.0</td>\n",
       "      <td>0.0</td>\n",
       "    </tr>\n",
       "    <tr>\n",
       "      <th>19</th>\n",
       "      <td>FICO_new_730</td>\n",
       "      <td>-0.384402</td>\n",
       "      <td>-0.351333</td>\n",
       "      <td>-0.196427</td>\n",
       "      <td>-0.000000</td>\n",
       "      <td>0.0</td>\n",
       "      <td>0.0</td>\n",
       "      <td>0.0</td>\n",
       "      <td>0.0</td>\n",
       "    </tr>\n",
       "    <tr>\n",
       "      <th>20</th>\n",
       "      <td>FICO_new_750</td>\n",
       "      <td>-0.456499</td>\n",
       "      <td>-0.423785</td>\n",
       "      <td>-0.269623</td>\n",
       "      <td>-0.072370</td>\n",
       "      <td>-0.0</td>\n",
       "      <td>-0.0</td>\n",
       "      <td>-0.0</td>\n",
       "      <td>-0.0</td>\n",
       "    </tr>\n",
       "    <tr>\n",
       "      <th>21</th>\n",
       "      <td>FICO_new_770</td>\n",
       "      <td>-0.550403</td>\n",
       "      <td>-0.517575</td>\n",
       "      <td>-0.363762</td>\n",
       "      <td>-0.165842</td>\n",
       "      <td>-0.0</td>\n",
       "      <td>-0.0</td>\n",
       "      <td>-0.0</td>\n",
       "      <td>-0.0</td>\n",
       "    </tr>\n",
       "    <tr>\n",
       "      <th>22</th>\n",
       "      <td>FICO_new_790</td>\n",
       "      <td>-0.621809</td>\n",
       "      <td>-0.588985</td>\n",
       "      <td>-0.435330</td>\n",
       "      <td>-0.233312</td>\n",
       "      <td>-0.0</td>\n",
       "      <td>-0.0</td>\n",
       "      <td>-0.0</td>\n",
       "      <td>-0.0</td>\n",
       "    </tr>\n",
       "    <tr>\n",
       "      <th>23</th>\n",
       "      <td>FICO_new_800</td>\n",
       "      <td>-0.651715</td>\n",
       "      <td>-0.618218</td>\n",
       "      <td>-0.459473</td>\n",
       "      <td>-0.214371</td>\n",
       "      <td>-0.0</td>\n",
       "      <td>-0.0</td>\n",
       "      <td>-0.0</td>\n",
       "      <td>-0.0</td>\n",
       "    </tr>\n",
       "    <tr>\n",
       "      <th>24</th>\n",
       "      <td>ltv_new_90</td>\n",
       "      <td>0.033743</td>\n",
       "      <td>0.030697</td>\n",
       "      <td>0.006158</td>\n",
       "      <td>-0.000000</td>\n",
       "      <td>-0.0</td>\n",
       "      <td>-0.0</td>\n",
       "      <td>-0.0</td>\n",
       "      <td>-0.0</td>\n",
       "    </tr>\n",
       "    <tr>\n",
       "      <th>25</th>\n",
       "      <td>ltv_new_95</td>\n",
       "      <td>0.094758</td>\n",
       "      <td>0.091207</td>\n",
       "      <td>0.063377</td>\n",
       "      <td>0.028895</td>\n",
       "      <td>0.0</td>\n",
       "      <td>0.0</td>\n",
       "      <td>0.0</td>\n",
       "      <td>0.0</td>\n",
       "    </tr>\n",
       "    <tr>\n",
       "      <th>26</th>\n",
       "      <td>ltv_new_97</td>\n",
       "      <td>0.147860</td>\n",
       "      <td>0.139764</td>\n",
       "      <td>0.087150</td>\n",
       "      <td>0.000000</td>\n",
       "      <td>0.0</td>\n",
       "      <td>0.0</td>\n",
       "      <td>0.0</td>\n",
       "      <td>0.0</td>\n",
       "    </tr>\n",
       "    <tr>\n",
       "      <th>27</th>\n",
       "      <td>fhb_flag_Y</td>\n",
       "      <td>-0.028760</td>\n",
       "      <td>-0.028492</td>\n",
       "      <td>-0.027397</td>\n",
       "      <td>-0.000000</td>\n",
       "      <td>-0.0</td>\n",
       "      <td>-0.0</td>\n",
       "      <td>-0.0</td>\n",
       "      <td>-0.0</td>\n",
       "    </tr>\n",
       "    <tr>\n",
       "      <th>28</th>\n",
       "      <td>MI_chl_Non-Delegated</td>\n",
       "      <td>0.013224</td>\n",
       "      <td>0.012934</td>\n",
       "      <td>0.010720</td>\n",
       "      <td>0.000000</td>\n",
       "      <td>0.0</td>\n",
       "      <td>0.0</td>\n",
       "      <td>0.0</td>\n",
       "      <td>0.0</td>\n",
       "    </tr>\n",
       "    <tr>\n",
       "      <th>29</th>\n",
       "      <td>no_bor_2</td>\n",
       "      <td>-0.174257</td>\n",
       "      <td>-0.173468</td>\n",
       "      <td>-0.168228</td>\n",
       "      <td>-0.137916</td>\n",
       "      <td>-0.0</td>\n",
       "      <td>-0.0</td>\n",
       "      <td>-0.0</td>\n",
       "      <td>-0.0</td>\n",
       "    </tr>\n",
       "    <tr>\n",
       "      <th>30</th>\n",
       "      <td>ory_2011</td>\n",
       "      <td>-0.083702</td>\n",
       "      <td>-0.081501</td>\n",
       "      <td>-0.060226</td>\n",
       "      <td>0.000000</td>\n",
       "      <td>0.0</td>\n",
       "      <td>0.0</td>\n",
       "      <td>0.0</td>\n",
       "      <td>0.0</td>\n",
       "    </tr>\n",
       "    <tr>\n",
       "      <th>31</th>\n",
       "      <td>ory_2012</td>\n",
       "      <td>-0.165198</td>\n",
       "      <td>-0.162788</td>\n",
       "      <td>-0.141963</td>\n",
       "      <td>-0.045707</td>\n",
       "      <td>-0.0</td>\n",
       "      <td>-0.0</td>\n",
       "      <td>-0.0</td>\n",
       "      <td>-0.0</td>\n",
       "    </tr>\n",
       "    <tr>\n",
       "      <th>32</th>\n",
       "      <td>ory_2013</td>\n",
       "      <td>-0.183370</td>\n",
       "      <td>-0.180284</td>\n",
       "      <td>-0.155788</td>\n",
       "      <td>-0.035044</td>\n",
       "      <td>0.0</td>\n",
       "      <td>0.0</td>\n",
       "      <td>0.0</td>\n",
       "      <td>0.0</td>\n",
       "    </tr>\n",
       "  </tbody>\n",
       "</table>\n",
       "</div>"
      ],
      "text/plain": [
       "            Feature Name  Alpha = 0.000000  Alpha = 0.000100  \\\n",
       "0            loan_purp_N         -0.085337         -0.078487   \n",
       "1            loan_purp_P         -0.095358         -0.087285   \n",
       "2           prop_type_CO         -0.176010         -0.142081   \n",
       "3           prop_type_SF         -0.130305         -0.096752   \n",
       "4             occ_stat_O          0.594752         -0.000000   \n",
       "5             occ_stat_S          0.696290          0.099128   \n",
       "6           dti_new_12.5          0.008460         -0.004247   \n",
       "7           dti_new_17.5         -0.016786         -0.033490   \n",
       "8           dti_new_22.5          0.012283         -0.005812   \n",
       "9           dti_new_27.5          0.018793          0.000000   \n",
       "10          dti_new_32.5          0.062575          0.043986   \n",
       "11          dti_new_37.5          0.101259          0.082787   \n",
       "12          dti_new_42.5          0.155417          0.136781   \n",
       "13          dti_new_47.5          0.178049          0.157001   \n",
       "14          dti_new_50.0         -0.073515         -0.055822   \n",
       "15          FICO_new_650         -0.044795         -0.011756   \n",
       "16          FICO_new_670         -0.091516         -0.058463   \n",
       "17          FICO_new_690         -0.223594         -0.190660   \n",
       "18          FICO_new_710         -0.284879         -0.251790   \n",
       "19          FICO_new_730         -0.384402         -0.351333   \n",
       "20          FICO_new_750         -0.456499         -0.423785   \n",
       "21          FICO_new_770         -0.550403         -0.517575   \n",
       "22          FICO_new_790         -0.621809         -0.588985   \n",
       "23          FICO_new_800         -0.651715         -0.618218   \n",
       "24            ltv_new_90          0.033743          0.030697   \n",
       "25            ltv_new_95          0.094758          0.091207   \n",
       "26            ltv_new_97          0.147860          0.139764   \n",
       "27            fhb_flag_Y         -0.028760         -0.028492   \n",
       "28  MI_chl_Non-Delegated          0.013224          0.012934   \n",
       "29              no_bor_2         -0.174257         -0.173468   \n",
       "30              ory_2011         -0.083702         -0.081501   \n",
       "31              ory_2012         -0.165198         -0.162788   \n",
       "32              ory_2013         -0.183370         -0.180284   \n",
       "\n",
       "    Alpha = 0.001000  Alpha = 0.010000  Alpha = 1.000000  Alpha = 5.000000  \\\n",
       "0          -0.021766         -0.000000              -0.0              -0.0   \n",
       "1          -0.022365          0.000000               0.0               0.0   \n",
       "2          -0.041603         -0.000000              -0.0              -0.0   \n",
       "3           0.000000          0.000000               0.0               0.0   \n",
       "4          -0.000000         -0.000000              -0.0              -0.0   \n",
       "5           0.080396          0.000000               0.0               0.0   \n",
       "6          -0.000000         -0.000000              -0.0              -0.0   \n",
       "7          -0.047374         -0.000000              -0.0              -0.0   \n",
       "8          -0.029542         -0.004831              -0.0              -0.0   \n",
       "9          -0.024874         -0.016616              -0.0              -0.0   \n",
       "10          0.014847          0.000000              -0.0              -0.0   \n",
       "11          0.054256          0.023391               0.0               0.0   \n",
       "12          0.108442          0.084790               0.0               0.0   \n",
       "13          0.108998          0.000000               0.0               0.0   \n",
       "14         -0.000000         -0.000000              -0.0              -0.0   \n",
       "15          0.115806          0.118890               0.0               0.0   \n",
       "16          0.075149          0.121395               0.0               0.0   \n",
       "17         -0.036522          0.074083               0.0               0.0   \n",
       "18         -0.096894          0.022246               0.0               0.0   \n",
       "19         -0.196427         -0.000000               0.0               0.0   \n",
       "20         -0.269623         -0.072370              -0.0              -0.0   \n",
       "21         -0.363762         -0.165842              -0.0              -0.0   \n",
       "22         -0.435330         -0.233312              -0.0              -0.0   \n",
       "23         -0.459473         -0.214371              -0.0              -0.0   \n",
       "24          0.006158         -0.000000              -0.0              -0.0   \n",
       "25          0.063377          0.028895               0.0               0.0   \n",
       "26          0.087150          0.000000               0.0               0.0   \n",
       "27         -0.027397         -0.000000              -0.0              -0.0   \n",
       "28          0.010720          0.000000               0.0               0.0   \n",
       "29         -0.168228         -0.137916              -0.0              -0.0   \n",
       "30         -0.060226          0.000000               0.0               0.0   \n",
       "31         -0.141963         -0.045707              -0.0              -0.0   \n",
       "32         -0.155788         -0.035044               0.0               0.0   \n",
       "\n",
       "    Alpha = 10.000000  Alpha = 20.000000  \n",
       "0                -0.0               -0.0  \n",
       "1                 0.0                0.0  \n",
       "2                -0.0               -0.0  \n",
       "3                 0.0                0.0  \n",
       "4                -0.0               -0.0  \n",
       "5                 0.0                0.0  \n",
       "6                -0.0               -0.0  \n",
       "7                -0.0               -0.0  \n",
       "8                -0.0               -0.0  \n",
       "9                -0.0               -0.0  \n",
       "10               -0.0               -0.0  \n",
       "11                0.0                0.0  \n",
       "12                0.0                0.0  \n",
       "13                0.0                0.0  \n",
       "14               -0.0               -0.0  \n",
       "15                0.0                0.0  \n",
       "16                0.0                0.0  \n",
       "17                0.0                0.0  \n",
       "18                0.0                0.0  \n",
       "19                0.0                0.0  \n",
       "20               -0.0               -0.0  \n",
       "21               -0.0               -0.0  \n",
       "22               -0.0               -0.0  \n",
       "23               -0.0               -0.0  \n",
       "24               -0.0               -0.0  \n",
       "25                0.0                0.0  \n",
       "26                0.0                0.0  \n",
       "27               -0.0               -0.0  \n",
       "28                0.0                0.0  \n",
       "29               -0.0               -0.0  \n",
       "30                0.0                0.0  \n",
       "31               -0.0               -0.0  \n",
       "32                0.0                0.0  "
      ]
     },
     "execution_count": 65,
     "metadata": {},
     "output_type": "execute_result"
    }
   ],
   "source": [
    "# Run the function called, ElasticNet\n",
    "elasticnet([1e-15, 1e-10, 1e-8, 1e-4, 1e-3,1e-2, 1, 5, 10, 20])"
   ]
  },
  {
   "cell_type": "code",
   "execution_count": null,
   "metadata": {
    "collapsed": true
   },
   "outputs": [],
   "source": []
  },
  {
   "cell_type": "code",
   "execution_count": 66,
   "metadata": {},
   "outputs": [
    {
     "data": {
      "text/plain": [
       "array([ 0.85776661,  0.2879734 ,  0.77087824, ...,  0.19782975,\n",
       "        0.47722564,  0.2570081 ])"
      ]
     },
     "execution_count": 66,
     "metadata": {},
     "output_type": "execute_result"
    }
   ],
   "source": [
    "# Return the possibility of \"1\" class\n",
    "classifier.predict_proba(X_test)[:,1]"
   ]
  },
  {
   "cell_type": "code",
   "execution_count": 67,
   "metadata": {},
   "outputs": [
    {
     "data": {
      "text/plain": [
       "array([ 0.14223339,  0.7120266 ,  0.22912176, ...,  0.80217025,\n",
       "        0.52277436,  0.7429919 ])"
      ]
     },
     "execution_count": 67,
     "metadata": {},
     "output_type": "execute_result"
    }
   ],
   "source": [
    "# Return the possibility of \"0\" class\n",
    "classifier.predict_proba(X_test)[:,0]"
   ]
  },
  {
   "cell_type": "code",
   "execution_count": 68,
   "metadata": {},
   "outputs": [
    {
     "data": {
      "text/plain": [
       "array([1, 0, 1, ..., 0, 0, 0], dtype=int64)"
      ]
     },
     "execution_count": 68,
     "metadata": {},
     "output_type": "execute_result"
    }
   ],
   "source": [
    "y_pred"
   ]
  },
  {
   "cell_type": "code",
   "execution_count": 89,
   "metadata": {},
   "outputs": [
    {
     "name": "stderr",
     "output_type": "stream",
     "text": [
      "C:\\Users\\SunLix\\Anaconda3\\lib\\site-packages\\pandas\\core\\indexing.py:517: SettingWithCopyWarning: \n",
      "A value is trying to be set on a copy of a slice from a DataFrame.\n",
      "Try using .loc[row_indexer,col_indexer] = value instead\n",
      "\n",
      "See the caveats in the documentation: http://pandas.pydata.org/pandas-docs/stable/indexing.html#indexing-view-versus-copy\n",
      "  self.obj[item] = s\n"
     ]
    }
   ],
   "source": [
    "# Return the possibility of \"1\" class to original dataset\n",
    "y_hats = classifier.predict(X)\n",
    "delinquent_proba = classifier.predict_proba(X)[:,1]\n",
    "df1.loc[:,'y_hats'] = y_hats\n",
    "df1.loc[:,'dlq_proba'] = delinquent_proba"
   ]
  },
  {
   "cell_type": "code",
   "execution_count": 70,
   "metadata": {},
   "outputs": [
    {
     "data": {
      "text/html": [
       "<div>\n",
       "<style>\n",
       "    .dataframe thead tr:only-child th {\n",
       "        text-align: right;\n",
       "    }\n",
       "\n",
       "    .dataframe thead th {\n",
       "        text-align: left;\n",
       "    }\n",
       "\n",
       "    .dataframe tbody tr th {\n",
       "        vertical-align: top;\n",
       "    }\n",
       "</style>\n",
       "<table border=\"1\" class=\"dataframe\">\n",
       "  <thead>\n",
       "    <tr style=\"text-align: right;\">\n",
       "      <th></th>\n",
       "      <th>loan_purp</th>\n",
       "      <th>prop_type</th>\n",
       "      <th>occ_stat</th>\n",
       "      <th>dti_new</th>\n",
       "      <th>FICO_new</th>\n",
       "      <th>ltv_new</th>\n",
       "      <th>fhb_flag</th>\n",
       "      <th>MI_chl</th>\n",
       "      <th>no_bor</th>\n",
       "      <th>ory</th>\n",
       "      <th>Ever_Delinquent</th>\n",
       "      <th>y_hats</th>\n",
       "      <th>dlq_proba</th>\n",
       "    </tr>\n",
       "  </thead>\n",
       "  <tbody>\n",
       "    <tr>\n",
       "      <th>0</th>\n",
       "      <td>P</td>\n",
       "      <td>SF</td>\n",
       "      <td>O</td>\n",
       "      <td>22.5</td>\n",
       "      <td>750</td>\n",
       "      <td>90</td>\n",
       "      <td>N</td>\n",
       "      <td>Delegated</td>\n",
       "      <td>2</td>\n",
       "      <td>2012</td>\n",
       "      <td>0</td>\n",
       "      <td>0</td>\n",
       "      <td>0.214426</td>\n",
       "    </tr>\n",
       "    <tr>\n",
       "      <th>1</th>\n",
       "      <td>P</td>\n",
       "      <td>SF</td>\n",
       "      <td>O</td>\n",
       "      <td>42.5</td>\n",
       "      <td>690</td>\n",
       "      <td>97</td>\n",
       "      <td>Y</td>\n",
       "      <td>Delegated</td>\n",
       "      <td>1</td>\n",
       "      <td>2013</td>\n",
       "      <td>0</td>\n",
       "      <td>1</td>\n",
       "      <td>0.827566</td>\n",
       "    </tr>\n",
       "    <tr>\n",
       "      <th>2</th>\n",
       "      <td>P</td>\n",
       "      <td>SF</td>\n",
       "      <td>O</td>\n",
       "      <td>17.5</td>\n",
       "      <td>710</td>\n",
       "      <td>90</td>\n",
       "      <td>N</td>\n",
       "      <td>Delegated</td>\n",
       "      <td>2</td>\n",
       "      <td>2013</td>\n",
       "      <td>0</td>\n",
       "      <td>0</td>\n",
       "      <td>0.309533</td>\n",
       "    </tr>\n",
       "    <tr>\n",
       "      <th>3</th>\n",
       "      <td>P</td>\n",
       "      <td>SF</td>\n",
       "      <td>O</td>\n",
       "      <td>42.5</td>\n",
       "      <td>770</td>\n",
       "      <td>95</td>\n",
       "      <td>N</td>\n",
       "      <td>Delegated</td>\n",
       "      <td>2</td>\n",
       "      <td>2013</td>\n",
       "      <td>0</td>\n",
       "      <td>0</td>\n",
       "      <td>0.306703</td>\n",
       "    </tr>\n",
       "    <tr>\n",
       "      <th>4</th>\n",
       "      <td>P</td>\n",
       "      <td>SF</td>\n",
       "      <td>O</td>\n",
       "      <td>37.5</td>\n",
       "      <td>730</td>\n",
       "      <td>90</td>\n",
       "      <td>N</td>\n",
       "      <td>Delegated</td>\n",
       "      <td>2</td>\n",
       "      <td>2012</td>\n",
       "      <td>0</td>\n",
       "      <td>0</td>\n",
       "      <td>0.365892</td>\n",
       "    </tr>\n",
       "  </tbody>\n",
       "</table>\n",
       "</div>"
      ],
      "text/plain": [
       "  loan_purp prop_type occ_stat  dti_new  FICO_new  ltv_new fhb_flag  \\\n",
       "0         P        SF        O     22.5       750       90        N   \n",
       "1         P        SF        O     42.5       690       97        Y   \n",
       "2         P        SF        O     17.5       710       90        N   \n",
       "3         P        SF        O     42.5       770       95        N   \n",
       "4         P        SF        O     37.5       730       90        N   \n",
       "\n",
       "      MI_chl  no_bor   ory  Ever_Delinquent  y_hats  dlq_proba  \n",
       "0  Delegated       2  2012                0       0   0.214426  \n",
       "1  Delegated       1  2013                0       1   0.827566  \n",
       "2  Delegated       2  2013                0       0   0.309533  \n",
       "3  Delegated       2  2013                0       0   0.306703  \n",
       "4  Delegated       2  2012                0       0   0.365892  "
      ]
     },
     "execution_count": 70,
     "metadata": {},
     "output_type": "execute_result"
    }
   ],
   "source": [
    "df1.head()"
   ]
  },
  {
   "cell_type": "markdown",
   "metadata": {},
   "source": [
    "** Algorithm 2 - SVM **"
   ]
  },
  {
   "cell_type": "code",
   "execution_count": 71,
   "metadata": {},
   "outputs": [
    {
     "data": {
      "text/plain": [
       "SVC(C=1.0, cache_size=200, class_weight=None, coef0=0.0,\n",
       "  decision_function_shape=None, degree=3, gamma='auto', kernel='linear',\n",
       "  max_iter=-1, probability=False, random_state=0, shrinking=True,\n",
       "  tol=0.001, verbose=False)"
      ]
     },
     "execution_count": 71,
     "metadata": {},
     "output_type": "execute_result"
    }
   ],
   "source": [
    "from sklearn.svm import SVC\n",
    "classifier2 = SVC(kernel = \"linear\", random_state = 0)\n",
    "classifier2.fit(X_train, y_train)"
   ]
  },
  {
   "cell_type": "code",
   "execution_count": 72,
   "metadata": {
    "collapsed": true
   },
   "outputs": [],
   "source": [
    "y_pred2 = classifier2.predict(X_test)"
   ]
  },
  {
   "cell_type": "code",
   "execution_count": 73,
   "metadata": {},
   "outputs": [
    {
     "data": {
      "image/png": "[encoded data removed]",
      "text/plain": [
       "<matplotlib.figure.Figure at 0x2d0b32a59e8>"
      ]
     },
     "metadata": {},
     "output_type": "display_data"
    },
    {
     "data": {
      "text/plain": [
       "<ggplot: (-9223371843393327314)>"
      ]
     },
     "execution_count": 73,
     "metadata": {},
     "output_type": "execute_result"
    }
   ],
   "source": [
    "fpr2, tpr2, thresholds2 = roc_curve(y_test, y_pred2)\n",
    "df_eval2 = pd.DataFrame(dict(fpr=fpr2, tpr=tpr2))\n",
    "ggplot(df_eval2, aes(x='fpr', y='tpr')) +\\\n",
    "      geom_line() +\\\n",
    "      geom_abline(linetype='dashed')"
   ]
  },
  {
   "cell_type": "code",
   "execution_count": 74,
   "metadata": {
    "scrolled": true
   },
   "outputs": [
    {
     "name": "stdout",
     "output_type": "stream",
     "text": [
      "0.646152815375\n",
      "0.646152815375\n"
     ]
    }
   ],
   "source": [
    "print(auc(fpr2, tpr2))\n",
    "print(roc_auc_score(y_test, y_pred2))"
   ]
  },
  {
   "cell_type": "code",
   "execution_count": 75,
   "metadata": {},
   "outputs": [
    {
     "name": "stdout",
     "output_type": "stream",
     "text": [
      "0.653062704443\n",
      "0.00999413963387\n"
     ]
    }
   ],
   "source": [
    "# Applying K-Fold Cross Validation\n",
    "accuracies2 = cross_val_score(estimator = classifier2, X = X_train, y = y_train, cv = 10)\n",
    "print(accuracies2.mean())\n",
    "print(accuracies2.std())"
   ]
  },
  {
   "cell_type": "markdown",
   "metadata": {},
   "source": [
    "**Algorithm 3 - Kernel SVM**"
   ]
  },
  {
   "cell_type": "code",
   "execution_count": 76,
   "metadata": {},
   "outputs": [
    {
     "name": "stdout",
     "output_type": "stream",
     "text": [
      "0.668123263109\n",
      "0.668123263109\n"
     ]
    }
   ],
   "source": [
    "classifier3 = SVC(kernel = \"poly\", random_state = 0)\n",
    "classifier3.fit(X_train, y_train)\n",
    "y_pred3 = classifier3.predict(X_test)\n",
    "fpr3, tpr3, thresholds3 = roc_curve(y_test, y_pred3)\n",
    "print(auc(fpr3, tpr3))\n",
    "print(roc_auc_score(y_test, y_pred3))"
   ]
  },
  {
   "cell_type": "code",
   "execution_count": 77,
   "metadata": {},
   "outputs": [
    {
     "name": "stdout",
     "output_type": "stream",
     "text": [
      "0.672811734985\n",
      "0.0138928590244\n"
     ]
    }
   ],
   "source": [
    "# Applying K-Fold Cross Validation\n",
    "accuracies3 = cross_val_score(estimator = classifier3, X = X_train, y = y_train, cv = 10)\n",
    "print(accuracies3.mean())\n",
    "print(accuracies3.std())"
   ]
  },
  {
   "cell_type": "code",
   "execution_count": 78,
   "metadata": {},
   "outputs": [
    {
     "name": "stdout",
     "output_type": "stream",
     "text": [
      "0.667015003135\n",
      "0.667015003135\n"
     ]
    }
   ],
   "source": [
    "classifier4 = SVC(kernel = \"rbf\", random_state = 0)\n",
    "classifier4.fit(X_train, y_train)\n",
    "y_pred4 = classifier4.predict(X_test)\n",
    "fpr4, tpr4, thresholds4 = roc_curve(y_test, y_pred4)\n",
    "print(auc(fpr4, tpr4))\n",
    "print(roc_auc_score(y_test, y_pred4))"
   ]
  },
  {
   "cell_type": "code",
   "execution_count": 79,
   "metadata": {},
   "outputs": [
    {
     "name": "stdout",
     "output_type": "stream",
     "text": [
      "0.668437240625\n",
      "0.00917324869475\n"
     ]
    }
   ],
   "source": [
    "accuracies4 = cross_val_score(estimator = classifier4, X = X_train, y = y_train, cv = 10)\n",
    "print(accuracies4.mean())\n",
    "print(accuracies4.std())"
   ]
  },
  {
   "cell_type": "markdown",
   "metadata": {},
   "source": [
    "**Algorithm 4 - Random Forest**"
   ]
  },
  {
   "cell_type": "code",
   "execution_count": 80,
   "metadata": {},
   "outputs": [
    {
     "name": "stdout",
     "output_type": "stream",
     "text": [
      "0.61847556628\n",
      "0.61847556628\n"
     ]
    }
   ],
   "source": [
    "from sklearn.ensemble import RandomForestClassifier\n",
    "classifier5 = RandomForestClassifier(n_estimators = 10, criterion = 'entropy', random_state = 0)\n",
    "classifier5.fit(X_train, y_train)\n",
    "y_pred5 = classifier5.predict(X_test)\n",
    "fpr5, tpr5, thresholds5 = roc_curve(y_test, y_pred5)\n",
    "print(auc(fpr5, tpr5))\n",
    "print(roc_auc_score(y_test, y_pred5))"
   ]
  },
  {
   "cell_type": "code",
   "execution_count": 81,
   "metadata": {},
   "outputs": [
    {
     "name": "stdout",
     "output_type": "stream",
     "text": [
      "0.634936136572\n",
      "0.00941296457722\n"
     ]
    }
   ],
   "source": [
    "accuracies5 = cross_val_score(estimator = classifier5, X = X_train, y = y_train, cv = 10)\n",
    "print(accuracies5.mean())\n",
    "print(accuracies5.std())"
   ]
  },
  {
   "cell_type": "markdown",
   "metadata": {},
   "source": [
    "**Algorithm 5 - Decision Tree**"
   ]
  },
  {
   "cell_type": "code",
   "execution_count": 82,
   "metadata": {},
   "outputs": [
    {
     "name": "stdout",
     "output_type": "stream",
     "text": [
      "0.62109108982\n",
      "0.62109108982\n"
     ]
    }
   ],
   "source": [
    "from sklearn.tree import DecisionTreeClassifier\n",
    "classifier6 = DecisionTreeClassifier(criterion = 'entropy', random_state = 0)\n",
    "classifier6.fit(X_train, y_train)\n",
    "y_pred6 = classifier6.predict(X_test)\n",
    "fpr6, tpr6, thresholds6 = roc_curve(y_test, y_pred6)\n",
    "print(auc(fpr6, tpr6))\n",
    "print(roc_auc_score(y_test, y_pred6))"
   ]
  },
  {
   "cell_type": "code",
   "execution_count": 83,
   "metadata": {},
   "outputs": [
    {
     "name": "stdout",
     "output_type": "stream",
     "text": [
      "0.623998007763\n",
      "0.0102934859503\n"
     ]
    }
   ],
   "source": [
    "accuracies6 = cross_val_score(estimator = classifier6, X = X_train, y = y_train, cv = 10)\n",
    "print(accuracies6.mean())\n",
    "print(accuracies6.std())"
   ]
  },
  {
   "cell_type": "markdown",
   "metadata": {},
   "source": [
    "**Algorithm 6 - K-NN**"
   ]
  },
  {
   "cell_type": "code",
   "execution_count": 84,
   "metadata": {},
   "outputs": [
    {
     "name": "stdout",
     "output_type": "stream",
     "text": [
      "0.619959079632\n",
      "0.619959079632\n"
     ]
    }
   ],
   "source": [
    "from sklearn.neighbors import KNeighborsClassifier\n",
    "classifier7 = KNeighborsClassifier(n_neighbors = 5, metric = 'minkowski', p=2)\n",
    "classifier7.fit(X_train, y_train)\n",
    "y_pred7 = classifier7.predict(X_test)\n",
    "fpr7, tpr7, thresholds7 = roc_curve(y_test, y_pred7)\n",
    "print(auc(fpr7, tpr7))\n",
    "print(roc_auc_score(y_test, y_pred7))"
   ]
  },
  {
   "cell_type": "code",
   "execution_count": 85,
   "metadata": {},
   "outputs": [
    {
     "name": "stdout",
     "output_type": "stream",
     "text": [
      "0.631311487378\n",
      "0.0117967246502\n"
     ]
    }
   ],
   "source": [
    "accuracies7 = cross_val_score(estimator = classifier7, X = X_train, y = y_train, cv = 10)\n",
    "print(accuracies7.mean())\n",
    "print(accuracies7.std())"
   ]
  },
  {
   "cell_type": "code",
   "execution_count": null,
   "metadata": {
    "collapsed": true
   },
   "outputs": [],
   "source": []
  },
  {
   "cell_type": "markdown",
   "metadata": {
    "collapsed": true
   },
   "source": [
    "### Find out the possibility of loan in claim with the ever deliquent status"
   ]
  },
  {
   "cell_type": "code",
   "execution_count": 86,
   "metadata": {
    "collapsed": true
   },
   "outputs": [],
   "source": [
    "df2 = df[['loan_id','Ever_Delinquent', 'claim_flag']]"
   ]
  },
  {
   "cell_type": "code",
   "execution_count": 87,
   "metadata": {},
   "outputs": [
    {
     "data": {
      "text/plain": [
       "Ever_Delinquent\n",
       "0    nan%\n",
       "1    8.4%\n",
       "Name: loan_id, dtype: object"
      ]
     },
     "execution_count": 87,
     "metadata": {},
     "output_type": "execute_result"
    }
   ],
   "source": [
    "((df2[df2['claim_flag']==1].groupby('Ever_Delinquent').loan_id.nunique())/df2.groupby('Ever_Delinquent').loan_id.nunique())\\\n",
    ".mul(100).round(1).astype(str) + '%'"
   ]
  },
  {
   "cell_type": "markdown",
   "metadata": {},
   "source": [
    "### Including Regularization to the Logistic Regression"
   ]
  },
  {
   "cell_type": "code",
   "execution_count": 97,
   "metadata": {},
   "outputs": [
    {
     "data": {
      "text/plain": [
       "0.6853116602779924"
      ]
     },
     "execution_count": 97,
     "metadata": {},
     "output_type": "execute_result"
    }
   ],
   "source": [
    "# Fitting Logistic Regression with Regularization to the Training Set\n",
    "from sklearn.linear_model import LogisticRegression\n",
    "classifier = LogisticRegression(penalty = 'l1', C = 100,random_state = 0)\n",
    "classifier.fit(X_train, y_train)\n",
    "# Applying K-Fold Cross Validation\n",
    "from sklearn.model_selection import cross_val_score\n",
    "accuracies1 = cross_val_score(estimator = classifier, X = X_train, y = y_train, cv = 10)\n",
    "accuracies1.mean()"
   ]
  },
  {
   "cell_type": "code",
   "execution_count": 98,
   "metadata": {},
   "outputs": [
    {
     "data": {
      "text/plain": [
       "0.68518646494100188"
      ]
     },
     "execution_count": 98,
     "metadata": {},
     "output_type": "execute_result"
    }
   ],
   "source": [
    "# Fitting Logistic Regression with Regularization to the Training Set\n",
    "from sklearn.linear_model import LogisticRegression\n",
    "classifier = LogisticRegression(penalty = 'l1', C = 10,random_state = 0)\n",
    "classifier.fit(X_train, y_train)\n",
    "# Applying K-Fold Cross Validation\n",
    "from sklearn.model_selection import cross_val_score\n",
    "accuracies1 = cross_val_score(estimator = classifier, X = X_train, y = y_train, cv = 10)\n",
    "accuracies1.mean()"
   ]
  },
  {
   "cell_type": "code",
   "execution_count": 99,
   "metadata": {},
   "outputs": [
    {
     "data": {
      "text/plain": [
       "0.68531158215296184"
      ]
     },
     "execution_count": 99,
     "metadata": {},
     "output_type": "execute_result"
    }
   ],
   "source": [
    "# Fitting Logistic Regression with Regularization to the Training Set\n",
    "from sklearn.linear_model import LogisticRegression\n",
    "classifier = LogisticRegression(penalty = 'l2', C =10,random_state = 0)\n",
    "classifier.fit(X_train, y_train)\n",
    "# Applying K-Fold Cross Validation\n",
    "from sklearn.model_selection import cross_val_score\n",
    "accuracies1 = cross_val_score(estimator = classifier, X = X_train, y = y_train, cv = 10)\n",
    "accuracies1.mean()"
   ]
  },
  {
   "cell_type": "code",
   "execution_count": 102,
   "metadata": {},
   "outputs": [
    {
     "data": {
      "text/plain": [
       "0.68537408215296181"
      ]
     },
     "execution_count": 102,
     "metadata": {},
     "output_type": "execute_result"
    }
   ],
   "source": [
    "# Fitting Logistic Regression with Regularization to the Training Set\n",
    "from sklearn.linear_model import LogisticRegression\n",
    "classifier = LogisticRegression(penalty = 'l2', C =100,random_state = 0)\n",
    "classifier.fit(X_train, y_train)\n",
    "# Applying K-Fold Cross Validation\n",
    "from sklearn.model_selection import cross_val_score\n",
    "accuracies1 = cross_val_score(estimator = classifier, X = X_train, y = y_train, cv = 10)\n",
    "accuracies1.mean()"
   ]
  },
  {
   "cell_type": "code",
   "execution_count": 103,
   "metadata": {},
   "outputs": [
    {
     "data": {
      "text/plain": [
       "array([1, 0, 1, ..., 0, 0, 0], dtype=int64)"
      ]
     },
     "execution_count": 103,
     "metadata": {},
     "output_type": "execute_result"
    }
   ],
   "source": [
    "# Predicting the Test set results\n",
    "y_pred = classifier.predict(X_test)\n",
    "y_pred"
   ]
  },
  {
   "cell_type": "code",
   "execution_count": 115,
   "metadata": {},
   "outputs": [],
   "source": [
    "# Return the possibility of \"1\" class to training set and test set\n",
    "y_hats_train = classifier.predict(X_train)\n",
    "delinquent_proba_train = classifier.predict_proba(X_train)[:,1]\n",
    "df_train = pd.DataFrame(X_train)\n",
    "df_train.loc[:,'y_actual'] = y_train\n",
    "df_train.loc[:,'y_hats'] = y_hats_train\n",
    "df_train.loc[:,'delinquent_proba'] = delinquent_proba_train"
   ]
  },
  {
   "cell_type": "code",
   "execution_count": 116,
   "metadata": {},
   "outputs": [],
   "source": [
    "y_hats_test = classifier.predict(X_test)\n",
    "delinquent_proba_test = classifier.predict_proba(X_test)[:,1]\n",
    "df_test = pd.DataFrame(X_test)\n",
    "df_test.loc[:,'y_actual'] = y_test\n",
    "df_test.loc[:,'y_hats'] = y_hats_test\n",
    "df_test.loc[:,'delinquent_proba'] = delinquent_proba_test"
   ]
  },
  {
   "cell_type": "code",
   "execution_count": 117,
   "metadata": {},
   "outputs": [
    {
     "data": {
      "text/html": [
       "<div>\n",
       "<style>\n",
       "    .dataframe thead tr:only-child th {\n",
       "        text-align: right;\n",
       "    }\n",
       "\n",
       "    .dataframe thead th {\n",
       "        text-align: left;\n",
       "    }\n",
       "\n",
       "    .dataframe tbody tr th {\n",
       "        vertical-align: top;\n",
       "    }\n",
       "</style>\n",
       "<table border=\"1\" class=\"dataframe\">\n",
       "  <thead>\n",
       "    <tr style=\"text-align: right;\">\n",
       "      <th></th>\n",
       "      <th>0</th>\n",
       "      <th>1</th>\n",
       "      <th>2</th>\n",
       "      <th>3</th>\n",
       "      <th>4</th>\n",
       "      <th>5</th>\n",
       "      <th>6</th>\n",
       "      <th>7</th>\n",
       "      <th>8</th>\n",
       "      <th>9</th>\n",
       "      <th>...</th>\n",
       "      <th>26</th>\n",
       "      <th>27</th>\n",
       "      <th>28</th>\n",
       "      <th>29</th>\n",
       "      <th>30</th>\n",
       "      <th>31</th>\n",
       "      <th>32</th>\n",
       "      <th>y_actual</th>\n",
       "      <th>y_hats</th>\n",
       "      <th>delinquent_proba</th>\n",
       "    </tr>\n",
       "  </thead>\n",
       "  <tbody>\n",
       "    <tr>\n",
       "      <th>0</th>\n",
       "      <td>0</td>\n",
       "      <td>1</td>\n",
       "      <td>0</td>\n",
       "      <td>1</td>\n",
       "      <td>1</td>\n",
       "      <td>0</td>\n",
       "      <td>0</td>\n",
       "      <td>0</td>\n",
       "      <td>0</td>\n",
       "      <td>0</td>\n",
       "      <td>...</td>\n",
       "      <td>0</td>\n",
       "      <td>0</td>\n",
       "      <td>0</td>\n",
       "      <td>1</td>\n",
       "      <td>0</td>\n",
       "      <td>1</td>\n",
       "      <td>0</td>\n",
       "      <td>1</td>\n",
       "      <td>0</td>\n",
       "      <td>0.420291</td>\n",
       "    </tr>\n",
       "    <tr>\n",
       "      <th>1</th>\n",
       "      <td>0</td>\n",
       "      <td>1</td>\n",
       "      <td>0</td>\n",
       "      <td>1</td>\n",
       "      <td>1</td>\n",
       "      <td>0</td>\n",
       "      <td>0</td>\n",
       "      <td>0</td>\n",
       "      <td>0</td>\n",
       "      <td>0</td>\n",
       "      <td>...</td>\n",
       "      <td>0</td>\n",
       "      <td>1</td>\n",
       "      <td>1</td>\n",
       "      <td>0</td>\n",
       "      <td>0</td>\n",
       "      <td>0</td>\n",
       "      <td>1</td>\n",
       "      <td>1</td>\n",
       "      <td>1</td>\n",
       "      <td>0.661609</td>\n",
       "    </tr>\n",
       "    <tr>\n",
       "      <th>2</th>\n",
       "      <td>0</td>\n",
       "      <td>1</td>\n",
       "      <td>0</td>\n",
       "      <td>1</td>\n",
       "      <td>1</td>\n",
       "      <td>0</td>\n",
       "      <td>0</td>\n",
       "      <td>0</td>\n",
       "      <td>0</td>\n",
       "      <td>0</td>\n",
       "      <td>...</td>\n",
       "      <td>0</td>\n",
       "      <td>1</td>\n",
       "      <td>1</td>\n",
       "      <td>0</td>\n",
       "      <td>0</td>\n",
       "      <td>0</td>\n",
       "      <td>1</td>\n",
       "      <td>0</td>\n",
       "      <td>1</td>\n",
       "      <td>0.701390</td>\n",
       "    </tr>\n",
       "    <tr>\n",
       "      <th>3</th>\n",
       "      <td>0</td>\n",
       "      <td>1</td>\n",
       "      <td>0</td>\n",
       "      <td>1</td>\n",
       "      <td>1</td>\n",
       "      <td>0</td>\n",
       "      <td>0</td>\n",
       "      <td>0</td>\n",
       "      <td>0</td>\n",
       "      <td>0</td>\n",
       "      <td>...</td>\n",
       "      <td>1</td>\n",
       "      <td>0</td>\n",
       "      <td>1</td>\n",
       "      <td>0</td>\n",
       "      <td>0</td>\n",
       "      <td>1</td>\n",
       "      <td>0</td>\n",
       "      <td>1</td>\n",
       "      <td>1</td>\n",
       "      <td>0.829892</td>\n",
       "    </tr>\n",
       "    <tr>\n",
       "      <th>4</th>\n",
       "      <td>0</td>\n",
       "      <td>1</td>\n",
       "      <td>0</td>\n",
       "      <td>1</td>\n",
       "      <td>0</td>\n",
       "      <td>1</td>\n",
       "      <td>0</td>\n",
       "      <td>0</td>\n",
       "      <td>0</td>\n",
       "      <td>0</td>\n",
       "      <td>...</td>\n",
       "      <td>0</td>\n",
       "      <td>0</td>\n",
       "      <td>1</td>\n",
       "      <td>1</td>\n",
       "      <td>0</td>\n",
       "      <td>1</td>\n",
       "      <td>0</td>\n",
       "      <td>0</td>\n",
       "      <td>0</td>\n",
       "      <td>0.303886</td>\n",
       "    </tr>\n",
       "  </tbody>\n",
       "</table>\n",
       "<p>5 rows × 36 columns</p>\n",
       "</div>"
      ],
      "text/plain": [
       "   0  1  2  3  4  5  6  7  8  9        ...         26  27  28  29  30  31  32  \\\n",
       "0  0  1  0  1  1  0  0  0  0  0        ...          0   0   0   1   0   1   0   \n",
       "1  0  1  0  1  1  0  0  0  0  0        ...          0   1   1   0   0   0   1   \n",
       "2  0  1  0  1  1  0  0  0  0  0        ...          0   1   1   0   0   0   1   \n",
       "3  0  1  0  1  1  0  0  0  0  0        ...          1   0   1   0   0   1   0   \n",
       "4  0  1  0  1  0  1  0  0  0  0        ...          0   0   1   1   0   1   0   \n",
       "\n",
       "   y_actual  y_hats  delinquent_proba  \n",
       "0         1       0          0.420291  \n",
       "1         1       1          0.661609  \n",
       "2         0       1          0.701390  \n",
       "3         1       1          0.829892  \n",
       "4         0       0          0.303886  \n",
       "\n",
       "[5 rows x 36 columns]"
      ]
     },
     "execution_count": 117,
     "metadata": {},
     "output_type": "execute_result"
    }
   ],
   "source": [
    "df_train.head()"
   ]
  },
  {
   "cell_type": "code",
   "execution_count": 121,
   "metadata": {},
   "outputs": [
    {
     "data": {
      "text/plain": [
       "y_hats\n",
       "0    Axes(0.125,0.125;0.775x0.755)\n",
       "1    Axes(0.125,0.125;0.775x0.755)\n",
       "Name: delinquent_proba, dtype: object"
      ]
     },
     "execution_count": 121,
     "metadata": {},
     "output_type": "execute_result"
    },
    {
     "data": {
      "image/png": "[encoded data removed]",
      "text/plain": [
       "<matplotlib.figure.Figure at 0x2d0b44acda0>"
      ]
     },
     "metadata": {},
     "output_type": "display_data"
    }
   ],
   "source": [
    "df_train.groupby(\"y_hats\").delinquent_proba.hist(alpha=0.4)"
   ]
  },
  {
   "cell_type": "code",
   "execution_count": 122,
   "metadata": {},
   "outputs": [
    {
     "data": {
      "text/plain": [
       "y_hats\n",
       "0    Axes(0.125,0.125;0.775x0.755)\n",
       "1    Axes(0.125,0.125;0.775x0.755)\n",
       "Name: delinquent_proba, dtype: object"
      ]
     },
     "execution_count": 122,
     "metadata": {},
     "output_type": "execute_result"
    },
    {
     "data": {
      "image/png": "[encoded data removed]",
      "text/plain": [
       "<matplotlib.figure.Figure at 0x2d0b4b92fd0>"
      ]
     },
     "metadata": {},
     "output_type": "display_data"
    }
   ],
   "source": [
    "df_test.groupby(\"y_hats\").delinquent_proba.hist(alpha=0.4)"
   ]
  },
  {
   "cell_type": "code",
   "execution_count": 123,
   "metadata": {},
   "outputs": [
    {
     "data": {
      "text/plain": [
       "y_actual\n",
       "0    Axes(0.125,0.125;0.775x0.755)\n",
       "1    Axes(0.125,0.125;0.775x0.755)\n",
       "Name: delinquent_proba, dtype: object"
      ]
     },
     "execution_count": 123,
     "metadata": {},
     "output_type": "execute_result"
    },
    {
     "data": {
      "image/png": "[encoded data removed]",
      "text/plain": [
       "<matplotlib.figure.Figure at 0x2d0b5089320>"
      ]
     },
     "metadata": {},
     "output_type": "display_data"
    }
   ],
   "source": [
    "df_train.groupby(\"y_actual\").delinquent_proba.hist(alpha=0.4)"
   ]
  },
  {
   "cell_type": "code",
   "execution_count": 124,
   "metadata": {},
   "outputs": [
    {
     "data": {
      "text/plain": [
       "y_actual\n",
       "0    Axes(0.125,0.125;0.775x0.755)\n",
       "1    Axes(0.125,0.125;0.775x0.755)\n",
       "Name: delinquent_proba, dtype: object"
      ]
     },
     "execution_count": 124,
     "metadata": {},
     "output_type": "execute_result"
    },
    {
     "data": {
      "image/png": "[encoded data removed]",
      "text/plain": [
       "<matplotlib.figure.Figure at 0x2d0b50b1c88>"
      ]
     },
     "metadata": {},
     "output_type": "display_data"
    }
   ],
   "source": [
    "df_test.groupby(\"y_actual\").delinquent_proba.hist(alpha=0.4)"
   ]
  },
  {
   "cell_type": "code",
   "execution_count": null,
   "metadata": {
    "collapsed": true
   },
   "outputs": [],
   "source": []
  }
 ],
 "metadata": {
  "kernelspec": {
   "display_name": "Python 3",
   "language": "python",
   "name": "python3"
  },
  "language_info": {
   "codemirror_mode": {
    "name": "ipython",
    "version": 3
   },
   "file_extension": ".py",
   "mimetype": "text/x-python",
   "name": "python",
   "nbconvert_exporter": "python",
   "pygments_lexer": "ipython3",
   "version": "3.6.1"
  }
 },
 "nbformat": 4,
 "nbformat_minor": 2
}
