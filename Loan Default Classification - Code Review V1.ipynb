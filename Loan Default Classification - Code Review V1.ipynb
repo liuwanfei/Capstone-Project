{
 "cells": [
  {
   "cell_type": "markdown",
   "metadata": {},
   "source": [
    "# Predict Loan's Ever Delinquent Probability\n",
    "#### Code updated on 11/9/17"
   ]
  },
  {
   "cell_type": "code",
   "execution_count": 1,
   "metadata": {
    "collapsed": true
   },
   "outputs": [],
   "source": [
    "get_ipython().magic(u'matplotlib inline')"
   ]
  },
  {
   "cell_type": "code",
   "execution_count": 2,
   "metadata": {
    "collapsed": true
   },
   "outputs": [],
   "source": [
    "import pandas as pd\n",
    "import numpy as np\n",
    "\n",
    "from scipy import stats, integrate\n",
    "\n",
    "import matplotlib.pyplot as plt\n",
    "import matplotlib.mlab as mlab\n",
    "\n",
    "from IPython.core import display as ICD"
   ]
  },
  {
   "cell_type": "code",
   "execution_count": 3,
   "metadata": {
    "collapsed": true
   },
   "outputs": [],
   "source": [
    "def read_loan(path, filename):\n",
    "    df = pd.read_csv(path + \"\\\\\" + filename, sep='\\t', header=0)\n",
    "    df.columns = col_names\n",
    "    '''\n",
    "    Args: \n",
    "        path: Location of the import file\n",
    "        filename: Name of the import file\n",
    "    Returns:\n",
    "        df: Imported loan level details data frame\n",
    "    '''\n",
    "    return df\n",
    "\n",
    "def agg_column(df, col_name):\n",
    "    '''\n",
    "    Args: \n",
    "        df: Data frame the aggregation calculation is based on \n",
    "        col_name: Name of aggregated column\n",
    "    Returns:\n",
    "        agg_series: The return is a data series. All calcuated values <=1\n",
    "    '''\n",
    "    agg_series = df.groupby(col_name).loan_id.nunique() / df.loan_id.nunique()\n",
    "    return agg_series\n",
    "\n",
    "def percent_format(float_series, rename_col_index):\n",
    "    '''\n",
    "    Args: \n",
    "        float_series: Data series with float value\n",
    "        rename_col_index: The index of column which needs \n",
    "                          to be renamed for clarification\n",
    "    Returns:\n",
    "        percent_df: The return is a data frame with float formated as %\n",
    "    '''\n",
    "    percent = float_series.mul(100).round(1).astype(str) + '%'\n",
    "    percent_df = pd.DataFrame(percent).reset_index()\n",
    "    percent_df.rename(columns={percent_df.columns[rename_col_index]: \"percent\" }, inplace=True)\n",
    "    #percent_df.rename(columns = {'loan_id':'percent'}, inplace=True)  # Alt: rename a column by name\n",
    "    return percent_df\n",
    "\n",
    "# Create histogram method\n",
    "def histogram(df, title_name):\n",
    "    '''\n",
    "    Args: \n",
    "        df: Data frame or data series for plotting histogram on feature value distribution \n",
    "        title_name: Name of histogram\n",
    "    Returns:\n",
    "        Histogram plot using matplotlib\n",
    "    '''\n",
    "    return df.plot(kind='bar', title=title_name).set(xlabel='\\n' + title_name, ylabel='% to Total')\n",
    "\n",
    "# Alternative way to create histogram method using feature as parameter\n",
    "def histogram_alt(feature):\n",
    "    df = distr_dict[feature]\n",
    "    title_name = feature.split('_', 1)[0].upper()\n",
    "    return df.plot(kind='bar', title=title_name).set(xlabel=title_name, ylabel='% to Total')"
   ]
  },
  {
   "cell_type": "code",
   "execution_count": 4,
   "metadata": {
    "collapsed": true
   },
   "outputs": [],
   "source": [
    "# rename columns if needed\n",
    "col_names = ['loan_id','ory','orig_upb','loan_purp','prop_type',\n",
    "             'multi_unit','orig_chn','occ_stat','dti_new',\n",
    "             'FICO_new', 'ltv_new', 'fhb_flag', 'no_bor', \n",
    "             'prop_type_eligible', 'MI_chl', 'dr_time_default',\n",
    "             'Ever_Delinquent', 'current_status', 'claim_flag']\n",
    "\n",
    "features = ['ory', 'loan_purp', 'prop_type', 'multi_unit', 'orig_chn', \n",
    "            'occ_stat', 'dti_new', 'FICO_new', 'ltv_new', 'fhb_flag',\n",
    "            'no_bor', 'prop_type_eligible', 'MI_chl', 'Ever_Delinquent',\n",
    "            'claim_flag']\n",
    "\n",
    "#filepath = \"C:\\\\Users\\\\SunLix\\\\Data\\\\Project\\\\Default Classification\"\n",
    "#filename = \"Loan_Orig_2010_2013.txt\"\n",
    "\n",
    "filepath = \"C:\\\\Users\\\\wliu\\\\Desktop\"\n",
    "filename = \"population list.txt\""
   ]
  },
  {
   "cell_type": "markdown",
   "metadata": {},
   "source": [
    "# I. Exploratory Data Analysis (EDA)"
   ]
  },
  {
   "cell_type": "code",
   "execution_count": 5,
   "metadata": {
    "collapsed": true
   },
   "outputs": [],
   "source": [
    "df = read_loan(filepath, filename)"
   ]
  },
  {
   "cell_type": "code",
   "execution_count": 6,
   "metadata": {
    "collapsed": false
   },
   "outputs": [
    {
     "data": {
      "text/html": [
       "<div>\n",
       "<table border=\"1\" class=\"dataframe\">\n",
       "  <thead>\n",
       "    <tr style=\"text-align: right;\">\n",
       "      <th></th>\n",
       "      <th>loan_id</th>\n",
       "      <th>ory</th>\n",
       "      <th>orig_upb</th>\n",
       "      <th>loan_purp</th>\n",
       "      <th>prop_type</th>\n",
       "      <th>multi_unit</th>\n",
       "      <th>orig_chn</th>\n",
       "      <th>occ_stat</th>\n",
       "      <th>dti_new</th>\n",
       "      <th>FICO_new</th>\n",
       "      <th>ltv_new</th>\n",
       "      <th>fhb_flag</th>\n",
       "      <th>no_bor</th>\n",
       "      <th>prop_type_eligible</th>\n",
       "      <th>MI_chl</th>\n",
       "      <th>dr_time_default</th>\n",
       "      <th>Ever_Delinquent</th>\n",
       "      <th>current_status</th>\n",
       "      <th>claim_flag</th>\n",
       "    </tr>\n",
       "  </thead>\n",
       "  <tbody>\n",
       "    <tr>\n",
       "      <th>0</th>\n",
       "      <td>8092146</td>\n",
       "      <td>2010</td>\n",
       "      <td>142200</td>\n",
       "      <td>P</td>\n",
       "      <td>SF</td>\n",
       "      <td>0</td>\n",
       "      <td>R</td>\n",
       "      <td>O</td>\n",
       "      <td>22.5</td>\n",
       "      <td>800</td>\n",
       "      <td>90</td>\n",
       "      <td>Y</td>\n",
       "      <td>2</td>\n",
       "      <td>1</td>\n",
       "      <td>Non-Delegated</td>\n",
       "      <td>NaN</td>\n",
       "      <td>0</td>\n",
       "      <td>17.Cancel</td>\n",
       "      <td>0</td>\n",
       "    </tr>\n",
       "    <tr>\n",
       "      <th>1</th>\n",
       "      <td>8092147</td>\n",
       "      <td>2010</td>\n",
       "      <td>160550</td>\n",
       "      <td>P</td>\n",
       "      <td>SF</td>\n",
       "      <td>0</td>\n",
       "      <td>R</td>\n",
       "      <td>O</td>\n",
       "      <td>32.5</td>\n",
       "      <td>730</td>\n",
       "      <td>95</td>\n",
       "      <td>Y</td>\n",
       "      <td>1</td>\n",
       "      <td>1</td>\n",
       "      <td>Non-Delegated</td>\n",
       "      <td>NaN</td>\n",
       "      <td>0</td>\n",
       "      <td>17.Cancel</td>\n",
       "      <td>0</td>\n",
       "    </tr>\n",
       "    <tr>\n",
       "      <th>2</th>\n",
       "      <td>8092148</td>\n",
       "      <td>2010</td>\n",
       "      <td>224639</td>\n",
       "      <td>P</td>\n",
       "      <td>SF</td>\n",
       "      <td>0</td>\n",
       "      <td>R</td>\n",
       "      <td>O</td>\n",
       "      <td>27.5</td>\n",
       "      <td>800</td>\n",
       "      <td>97</td>\n",
       "      <td>Y</td>\n",
       "      <td>2</td>\n",
       "      <td>1</td>\n",
       "      <td>Non-Delegated</td>\n",
       "      <td>NaN</td>\n",
       "      <td>0</td>\n",
       "      <td>01.Current</td>\n",
       "      <td>0</td>\n",
       "    </tr>\n",
       "    <tr>\n",
       "      <th>3</th>\n",
       "      <td>8092150</td>\n",
       "      <td>2010</td>\n",
       "      <td>340425</td>\n",
       "      <td>P</td>\n",
       "      <td>SF</td>\n",
       "      <td>0</td>\n",
       "      <td>R</td>\n",
       "      <td>O</td>\n",
       "      <td>22.5</td>\n",
       "      <td>730</td>\n",
       "      <td>90</td>\n",
       "      <td>Y</td>\n",
       "      <td>2</td>\n",
       "      <td>1</td>\n",
       "      <td>Non-Delegated</td>\n",
       "      <td>NaN</td>\n",
       "      <td>0</td>\n",
       "      <td>17.Cancel</td>\n",
       "      <td>0</td>\n",
       "    </tr>\n",
       "    <tr>\n",
       "      <th>4</th>\n",
       "      <td>8092152</td>\n",
       "      <td>2010</td>\n",
       "      <td>270750</td>\n",
       "      <td>P</td>\n",
       "      <td>SF</td>\n",
       "      <td>0</td>\n",
       "      <td>R</td>\n",
       "      <td>O</td>\n",
       "      <td>32.5</td>\n",
       "      <td>730</td>\n",
       "      <td>95</td>\n",
       "      <td>Y</td>\n",
       "      <td>2</td>\n",
       "      <td>1</td>\n",
       "      <td>Non-Delegated</td>\n",
       "      <td>NaN</td>\n",
       "      <td>0</td>\n",
       "      <td>17.Cancel</td>\n",
       "      <td>0</td>\n",
       "    </tr>\n",
       "  </tbody>\n",
       "</table>\n",
       "</div>"
      ],
      "text/plain": [
       "   loan_id   ory  orig_upb loan_purp prop_type  multi_unit orig_chn occ_stat  \\\n",
       "0  8092146  2010    142200         P        SF           0        R        O   \n",
       "1  8092147  2010    160550         P        SF           0        R        O   \n",
       "2  8092148  2010    224639         P        SF           0        R        O   \n",
       "3  8092150  2010    340425         P        SF           0        R        O   \n",
       "4  8092152  2010    270750         P        SF           0        R        O   \n",
       "\n",
       "   dti_new  FICO_new  ltv_new fhb_flag  no_bor  prop_type_eligible  \\\n",
       "0     22.5       800       90        Y       2                   1   \n",
       "1     32.5       730       95        Y       1                   1   \n",
       "2     27.5       800       97        Y       2                   1   \n",
       "3     22.5       730       90        Y       2                   1   \n",
       "4     32.5       730       95        Y       2                   1   \n",
       "\n",
       "          MI_chl  dr_time_default  Ever_Delinquent current_status  claim_flag  \n",
       "0  Non-Delegated              NaN                0      17.Cancel           0  \n",
       "1  Non-Delegated              NaN                0      17.Cancel           0  \n",
       "2  Non-Delegated              NaN                0     01.Current           0  \n",
       "3  Non-Delegated              NaN                0      17.Cancel           0  \n",
       "4  Non-Delegated              NaN                0      17.Cancel           0  "
      ]
     },
     "execution_count": 6,
     "metadata": {},
     "output_type": "execute_result"
    }
   ],
   "source": [
    "df.head()"
   ]
  },
  {
   "cell_type": "code",
   "execution_count": 7,
   "metadata": {
    "collapsed": false,
    "scrolled": true
   },
   "outputs": [
    {
     "data": {
      "text/plain": [
       "(481218, 19)"
      ]
     },
     "execution_count": 7,
     "metadata": {},
     "output_type": "execute_result"
    }
   ],
   "source": [
    "# Get size of data\n",
    "df.shape"
   ]
  },
  {
   "cell_type": "code",
   "execution_count": 8,
   "metadata": {
    "collapsed": false
   },
   "outputs": [
    {
     "data": {
      "text/plain": [
       "481218"
      ]
     },
     "execution_count": 8,
     "metadata": {},
     "output_type": "execute_result"
    }
   ],
   "source": [
    "# unique number of loans\n",
    "df.loan_id.nunique()"
   ]
  },
  {
   "cell_type": "code",
   "execution_count": 9,
   "metadata": {
    "collapsed": false
   },
   "outputs": [
    {
     "data": {
      "text/plain": [
       "loan_id                 int64\n",
       "ory                     int64\n",
       "orig_upb                int64\n",
       "loan_purp              object\n",
       "prop_type              object\n",
       "multi_unit              int64\n",
       "orig_chn               object\n",
       "occ_stat               object\n",
       "dti_new               float64\n",
       "FICO_new                int64\n",
       "ltv_new                 int64\n",
       "fhb_flag               object\n",
       "no_bor                  int64\n",
       "prop_type_eligible      int64\n",
       "MI_chl                 object\n",
       "dr_time_default       float64\n",
       "Ever_Delinquent         int64\n",
       "current_status         object\n",
       "claim_flag              int64\n",
       "dtype: object"
      ]
     },
     "execution_count": 9,
     "metadata": {},
     "output_type": "execute_result"
    }
   ],
   "source": [
    "# Get the list of columns along with dtypes\n",
    "df.dtypes"
   ]
  },
  {
   "cell_type": "code",
   "execution_count": 10,
   "metadata": {
    "collapsed": false
   },
   "outputs": [
    {
     "data": {
      "text/plain": [
       "loan_id               False\n",
       "ory                   False\n",
       "orig_upb              False\n",
       "loan_purp             False\n",
       "prop_type             False\n",
       "multi_unit            False\n",
       "orig_chn              False\n",
       "occ_stat              False\n",
       "dti_new               False\n",
       "FICO_new              False\n",
       "ltv_new               False\n",
       "fhb_flag              False\n",
       "no_bor                False\n",
       "prop_type_eligible    False\n",
       "MI_chl                False\n",
       "dr_time_default        True\n",
       "Ever_Delinquent       False\n",
       "current_status        False\n",
       "claim_flag            False\n",
       "dtype: bool"
      ]
     },
     "execution_count": 10,
     "metadata": {},
     "output_type": "execute_result"
    }
   ],
   "source": [
    "#check any column with NAN value\n",
    "df.isnull().any()"
   ]
  },
  {
   "cell_type": "markdown",
   "metadata": {},
   "source": [
    "### Features and Target used for Modeling\n",
    "- **Loan Origination Year**\n",
    "- **Loan Purpose**: Purchase(P), Refinance with Cash-Out(C), Refinance Pay-off Existing Lien(N)\n",
    "- **Property Type**: Single-Family and PUD(SF), Condo and Co-Op(CO), Manufactured Housing(MH)\n",
    "- **Number of Units** \n",
    "- **Origination Channel:** Retail(R), Broker(B), Correspondent(C)\n",
    "- **Occupancy Status:** Prim Resident or Unknown(O), Second(S), Investor(I)\n",
    "- **DTI**: Debt to Income Ratio\n",
    "- **FICO**: Borrower combined FICO score\n",
    "- **LTV**: Loan to property Value Ratio\n",
    "- **First Time Home Buyer Flag**\n",
    "- **Number of Borrowers**\n",
    "- **Property Type Eligible for MI**\n",
    "- **MI Channel**\n",
    "- **Ever Delinquenty Flag**\n",
    "- **Claim Flag**"
   ]
  },
  {
   "cell_type": "code",
   "execution_count": 11,
   "metadata": {
    "collapsed": false
   },
   "outputs": [
    {
     "data": {
      "text/html": [
       "<div>\n",
       "<table border=\"1\" class=\"dataframe\">\n",
       "  <thead>\n",
       "    <tr style=\"text-align: right;\">\n",
       "      <th></th>\n",
       "      <th>ory</th>\n",
       "      <th>percent</th>\n",
       "    </tr>\n",
       "  </thead>\n",
       "  <tbody>\n",
       "    <tr>\n",
       "      <th>0</th>\n",
       "      <td>2010</td>\n",
       "      <td>10.6%</td>\n",
       "    </tr>\n",
       "    <tr>\n",
       "      <th>1</th>\n",
       "      <td>2011</td>\n",
       "      <td>15.0%</td>\n",
       "    </tr>\n",
       "    <tr>\n",
       "      <th>2</th>\n",
       "      <td>2012</td>\n",
       "      <td>34.5%</td>\n",
       "    </tr>\n",
       "    <tr>\n",
       "      <th>3</th>\n",
       "      <td>2013</td>\n",
       "      <td>40.0%</td>\n",
       "    </tr>\n",
       "  </tbody>\n",
       "</table>\n",
       "</div>"
      ],
      "text/plain": [
       "    ory percent\n",
       "0  2010   10.6%\n",
       "1  2011   15.0%\n",
       "2  2012   34.5%\n",
       "3  2013   40.0%"
      ]
     },
     "metadata": {},
     "output_type": "display_data"
    },
    {
     "data": {
      "text/html": [
       "<div>\n",
       "<table border=\"1\" class=\"dataframe\">\n",
       "  <thead>\n",
       "    <tr style=\"text-align: right;\">\n",
       "      <th></th>\n",
       "      <th>loan_purp</th>\n",
       "      <th>percent</th>\n",
       "    </tr>\n",
       "  </thead>\n",
       "  <tbody>\n",
       "    <tr>\n",
       "      <th>0</th>\n",
       "      <td>C</td>\n",
       "      <td>2.6%</td>\n",
       "    </tr>\n",
       "    <tr>\n",
       "      <th>1</th>\n",
       "      <td>N</td>\n",
       "      <td>32.4%</td>\n",
       "    </tr>\n",
       "    <tr>\n",
       "      <th>2</th>\n",
       "      <td>P</td>\n",
       "      <td>65.1%</td>\n",
       "    </tr>\n",
       "  </tbody>\n",
       "</table>\n",
       "</div>"
      ],
      "text/plain": [
       "  loan_purp percent\n",
       "0         C    2.6%\n",
       "1         N   32.4%\n",
       "2         P   65.1%"
      ]
     },
     "metadata": {},
     "output_type": "display_data"
    },
    {
     "data": {
      "text/html": [
       "<div>\n",
       "<table border=\"1\" class=\"dataframe\">\n",
       "  <thead>\n",
       "    <tr style=\"text-align: right;\">\n",
       "      <th></th>\n",
       "      <th>prop_type</th>\n",
       "      <th>percent</th>\n",
       "    </tr>\n",
       "  </thead>\n",
       "  <tbody>\n",
       "    <tr>\n",
       "      <th>0</th>\n",
       "      <td>CO</td>\n",
       "      <td>9.8%</td>\n",
       "    </tr>\n",
       "    <tr>\n",
       "      <th>1</th>\n",
       "      <td>MH</td>\n",
       "      <td>0.3%</td>\n",
       "    </tr>\n",
       "    <tr>\n",
       "      <th>2</th>\n",
       "      <td>SF</td>\n",
       "      <td>89.9%</td>\n",
       "    </tr>\n",
       "  </tbody>\n",
       "</table>\n",
       "</div>"
      ],
      "text/plain": [
       "  prop_type percent\n",
       "0        CO    9.8%\n",
       "1        MH    0.3%\n",
       "2        SF   89.9%"
      ]
     },
     "metadata": {},
     "output_type": "display_data"
    },
    {
     "data": {
      "text/html": [
       "<div>\n",
       "<table border=\"1\" class=\"dataframe\">\n",
       "  <thead>\n",
       "    <tr style=\"text-align: right;\">\n",
       "      <th></th>\n",
       "      <th>multi_unit</th>\n",
       "      <th>percent</th>\n",
       "    </tr>\n",
       "  </thead>\n",
       "  <tbody>\n",
       "    <tr>\n",
       "      <th>0</th>\n",
       "      <td>0</td>\n",
       "      <td>99.9%</td>\n",
       "    </tr>\n",
       "    <tr>\n",
       "      <th>1</th>\n",
       "      <td>1</td>\n",
       "      <td>0.1%</td>\n",
       "    </tr>\n",
       "  </tbody>\n",
       "</table>\n",
       "</div>"
      ],
      "text/plain": [
       "   multi_unit percent\n",
       "0           0   99.9%\n",
       "1           1    0.1%"
      ]
     },
     "metadata": {},
     "output_type": "display_data"
    },
    {
     "data": {
      "text/html": [
       "<div>\n",
       "<table border=\"1\" class=\"dataframe\">\n",
       "  <thead>\n",
       "    <tr style=\"text-align: right;\">\n",
       "      <th></th>\n",
       "      <th>orig_chn</th>\n",
       "      <th>percent</th>\n",
       "    </tr>\n",
       "  </thead>\n",
       "  <tbody>\n",
       "    <tr>\n",
       "      <th>0</th>\n",
       "      <td>R</td>\n",
       "      <td>100.0%</td>\n",
       "    </tr>\n",
       "  </tbody>\n",
       "</table>\n",
       "</div>"
      ],
      "text/plain": [
       "  orig_chn percent\n",
       "0        R  100.0%"
      ]
     },
     "metadata": {},
     "output_type": "display_data"
    },
    {
     "data": {
      "text/html": [
       "<div>\n",
       "<table border=\"1\" class=\"dataframe\">\n",
       "  <thead>\n",
       "    <tr style=\"text-align: right;\">\n",
       "      <th></th>\n",
       "      <th>occ_stat</th>\n",
       "      <th>percent</th>\n",
       "    </tr>\n",
       "  </thead>\n",
       "  <tbody>\n",
       "    <tr>\n",
       "      <th>0</th>\n",
       "      <td>I</td>\n",
       "      <td>0.0%</td>\n",
       "    </tr>\n",
       "    <tr>\n",
       "      <th>1</th>\n",
       "      <td>O</td>\n",
       "      <td>96.5%</td>\n",
       "    </tr>\n",
       "    <tr>\n",
       "      <th>2</th>\n",
       "      <td>S</td>\n",
       "      <td>3.5%</td>\n",
       "    </tr>\n",
       "  </tbody>\n",
       "</table>\n",
       "</div>"
      ],
      "text/plain": [
       "  occ_stat percent\n",
       "0        I    0.0%\n",
       "1        O   96.5%\n",
       "2        S    3.5%"
      ]
     },
     "metadata": {},
     "output_type": "display_data"
    },
    {
     "data": {
      "text/html": [
       "<div>\n",
       "<table border=\"1\" class=\"dataframe\">\n",
       "  <thead>\n",
       "    <tr style=\"text-align: right;\">\n",
       "      <th></th>\n",
       "      <th>dti_new</th>\n",
       "      <th>percent</th>\n",
       "    </tr>\n",
       "  </thead>\n",
       "  <tbody>\n",
       "    <tr>\n",
       "      <th>0</th>\n",
       "      <td>5.0</td>\n",
       "      <td>0.2%</td>\n",
       "    </tr>\n",
       "    <tr>\n",
       "      <th>1</th>\n",
       "      <td>12.5</td>\n",
       "      <td>1.2%</td>\n",
       "    </tr>\n",
       "    <tr>\n",
       "      <th>2</th>\n",
       "      <td>17.5</td>\n",
       "      <td>4.6%</td>\n",
       "    </tr>\n",
       "    <tr>\n",
       "      <th>3</th>\n",
       "      <td>22.5</td>\n",
       "      <td>10.2%</td>\n",
       "    </tr>\n",
       "    <tr>\n",
       "      <th>4</th>\n",
       "      <td>27.5</td>\n",
       "      <td>15.5%</td>\n",
       "    </tr>\n",
       "    <tr>\n",
       "      <th>5</th>\n",
       "      <td>32.5</td>\n",
       "      <td>18.9%</td>\n",
       "    </tr>\n",
       "    <tr>\n",
       "      <th>6</th>\n",
       "      <td>37.5</td>\n",
       "      <td>21.4%</td>\n",
       "    </tr>\n",
       "    <tr>\n",
       "      <th>7</th>\n",
       "      <td>42.5</td>\n",
       "      <td>25.3%</td>\n",
       "    </tr>\n",
       "    <tr>\n",
       "      <th>8</th>\n",
       "      <td>47.5</td>\n",
       "      <td>2.5%</td>\n",
       "    </tr>\n",
       "    <tr>\n",
       "      <th>9</th>\n",
       "      <td>50.0</td>\n",
       "      <td>0.2%</td>\n",
       "    </tr>\n",
       "  </tbody>\n",
       "</table>\n",
       "</div>"
      ],
      "text/plain": [
       "   dti_new percent\n",
       "0      5.0    0.2%\n",
       "1     12.5    1.2%\n",
       "2     17.5    4.6%\n",
       "3     22.5   10.2%\n",
       "4     27.5   15.5%\n",
       "5     32.5   18.9%\n",
       "6     37.5   21.4%\n",
       "7     42.5   25.3%\n",
       "8     47.5    2.5%\n",
       "9     50.0    0.2%"
      ]
     },
     "metadata": {},
     "output_type": "display_data"
    },
    {
     "data": {
      "text/html": [
       "<div>\n",
       "<table border=\"1\" class=\"dataframe\">\n",
       "  <thead>\n",
       "    <tr style=\"text-align: right;\">\n",
       "      <th></th>\n",
       "      <th>FICO_new</th>\n",
       "      <th>percent</th>\n",
       "    </tr>\n",
       "  </thead>\n",
       "  <tbody>\n",
       "    <tr>\n",
       "      <th>0</th>\n",
       "      <td>630</td>\n",
       "      <td>0.5%</td>\n",
       "    </tr>\n",
       "    <tr>\n",
       "      <th>1</th>\n",
       "      <td>650</td>\n",
       "      <td>1.2%</td>\n",
       "    </tr>\n",
       "    <tr>\n",
       "      <th>2</th>\n",
       "      <td>670</td>\n",
       "      <td>2.2%</td>\n",
       "    </tr>\n",
       "    <tr>\n",
       "      <th>3</th>\n",
       "      <td>690</td>\n",
       "      <td>6.1%</td>\n",
       "    </tr>\n",
       "    <tr>\n",
       "      <th>4</th>\n",
       "      <td>710</td>\n",
       "      <td>8.3%</td>\n",
       "    </tr>\n",
       "    <tr>\n",
       "      <th>5</th>\n",
       "      <td>730</td>\n",
       "      <td>13.0%</td>\n",
       "    </tr>\n",
       "    <tr>\n",
       "      <th>6</th>\n",
       "      <td>750</td>\n",
       "      <td>17.2%</td>\n",
       "    </tr>\n",
       "    <tr>\n",
       "      <th>7</th>\n",
       "      <td>770</td>\n",
       "      <td>20.6%</td>\n",
       "    </tr>\n",
       "    <tr>\n",
       "      <th>8</th>\n",
       "      <td>790</td>\n",
       "      <td>20.9%</td>\n",
       "    </tr>\n",
       "    <tr>\n",
       "      <th>9</th>\n",
       "      <td>800</td>\n",
       "      <td>9.9%</td>\n",
       "    </tr>\n",
       "  </tbody>\n",
       "</table>\n",
       "</div>"
      ],
      "text/plain": [
       "   FICO_new percent\n",
       "0       630    0.5%\n",
       "1       650    1.2%\n",
       "2       670    2.2%\n",
       "3       690    6.1%\n",
       "4       710    8.3%\n",
       "5       730   13.0%\n",
       "6       750   17.2%\n",
       "7       770   20.6%\n",
       "8       790   20.9%\n",
       "9       800    9.9%"
      ]
     },
     "metadata": {},
     "output_type": "display_data"
    },
    {
     "data": {
      "text/html": [
       "<div>\n",
       "<table border=\"1\" class=\"dataframe\">\n",
       "  <thead>\n",
       "    <tr style=\"text-align: right;\">\n",
       "      <th></th>\n",
       "      <th>ltv_new</th>\n",
       "      <th>percent</th>\n",
       "    </tr>\n",
       "  </thead>\n",
       "  <tbody>\n",
       "    <tr>\n",
       "      <th>0</th>\n",
       "      <td>85</td>\n",
       "      <td>15.6%</td>\n",
       "    </tr>\n",
       "    <tr>\n",
       "      <th>1</th>\n",
       "      <td>90</td>\n",
       "      <td>38.7%</td>\n",
       "    </tr>\n",
       "    <tr>\n",
       "      <th>2</th>\n",
       "      <td>95</td>\n",
       "      <td>43.5%</td>\n",
       "    </tr>\n",
       "    <tr>\n",
       "      <th>3</th>\n",
       "      <td>97</td>\n",
       "      <td>2.3%</td>\n",
       "    </tr>\n",
       "  </tbody>\n",
       "</table>\n",
       "</div>"
      ],
      "text/plain": [
       "   ltv_new percent\n",
       "0       85   15.6%\n",
       "1       90   38.7%\n",
       "2       95   43.5%\n",
       "3       97    2.3%"
      ]
     },
     "metadata": {},
     "output_type": "display_data"
    },
    {
     "data": {
      "text/html": [
       "<div>\n",
       "<table border=\"1\" class=\"dataframe\">\n",
       "  <thead>\n",
       "    <tr style=\"text-align: right;\">\n",
       "      <th></th>\n",
       "      <th>fhb_flag</th>\n",
       "      <th>percent</th>\n",
       "    </tr>\n",
       "  </thead>\n",
       "  <tbody>\n",
       "    <tr>\n",
       "      <th>0</th>\n",
       "      <td>N</td>\n",
       "      <td>68.3%</td>\n",
       "    </tr>\n",
       "    <tr>\n",
       "      <th>1</th>\n",
       "      <td>Y</td>\n",
       "      <td>31.7%</td>\n",
       "    </tr>\n",
       "  </tbody>\n",
       "</table>\n",
       "</div>"
      ],
      "text/plain": [
       "  fhb_flag percent\n",
       "0        N   68.3%\n",
       "1        Y   31.7%"
      ]
     },
     "metadata": {},
     "output_type": "display_data"
    },
    {
     "data": {
      "text/html": [
       "<div>\n",
       "<table border=\"1\" class=\"dataframe\">\n",
       "  <thead>\n",
       "    <tr style=\"text-align: right;\">\n",
       "      <th></th>\n",
       "      <th>no_bor</th>\n",
       "      <th>percent</th>\n",
       "    </tr>\n",
       "  </thead>\n",
       "  <tbody>\n",
       "    <tr>\n",
       "      <th>0</th>\n",
       "      <td>1</td>\n",
       "      <td>50.8%</td>\n",
       "    </tr>\n",
       "    <tr>\n",
       "      <th>1</th>\n",
       "      <td>2</td>\n",
       "      <td>49.2%</td>\n",
       "    </tr>\n",
       "  </tbody>\n",
       "</table>\n",
       "</div>"
      ],
      "text/plain": [
       "   no_bor percent\n",
       "0       1   50.8%\n",
       "1       2   49.2%"
      ]
     },
     "metadata": {},
     "output_type": "display_data"
    },
    {
     "data": {
      "text/html": [
       "<div>\n",
       "<table border=\"1\" class=\"dataframe\">\n",
       "  <thead>\n",
       "    <tr style=\"text-align: right;\">\n",
       "      <th></th>\n",
       "      <th>prop_type_eligible</th>\n",
       "      <th>percent</th>\n",
       "    </tr>\n",
       "  </thead>\n",
       "  <tbody>\n",
       "    <tr>\n",
       "      <th>0</th>\n",
       "      <td>0</td>\n",
       "      <td>0.3%</td>\n",
       "    </tr>\n",
       "    <tr>\n",
       "      <th>1</th>\n",
       "      <td>1</td>\n",
       "      <td>99.7%</td>\n",
       "    </tr>\n",
       "  </tbody>\n",
       "</table>\n",
       "</div>"
      ],
      "text/plain": [
       "   prop_type_eligible percent\n",
       "0                   0    0.3%\n",
       "1                   1   99.7%"
      ]
     },
     "metadata": {},
     "output_type": "display_data"
    },
    {
     "data": {
      "text/html": [
       "<div>\n",
       "<table border=\"1\" class=\"dataframe\">\n",
       "  <thead>\n",
       "    <tr style=\"text-align: right;\">\n",
       "      <th></th>\n",
       "      <th>MI_chl</th>\n",
       "      <th>percent</th>\n",
       "    </tr>\n",
       "  </thead>\n",
       "  <tbody>\n",
       "    <tr>\n",
       "      <th>0</th>\n",
       "      <td>Delegated</td>\n",
       "      <td>66.7%</td>\n",
       "    </tr>\n",
       "    <tr>\n",
       "      <th>1</th>\n",
       "      <td>Non-Delegated</td>\n",
       "      <td>33.3%</td>\n",
       "    </tr>\n",
       "  </tbody>\n",
       "</table>\n",
       "</div>"
      ],
      "text/plain": [
       "          MI_chl percent\n",
       "0      Delegated   66.7%\n",
       "1  Non-Delegated   33.3%"
      ]
     },
     "metadata": {},
     "output_type": "display_data"
    },
    {
     "data": {
      "text/html": [
       "<div>\n",
       "<table border=\"1\" class=\"dataframe\">\n",
       "  <thead>\n",
       "    <tr style=\"text-align: right;\">\n",
       "      <th></th>\n",
       "      <th>Ever_Delinquent</th>\n",
       "      <th>percent</th>\n",
       "    </tr>\n",
       "  </thead>\n",
       "  <tbody>\n",
       "    <tr>\n",
       "      <th>0</th>\n",
       "      <td>0</td>\n",
       "      <td>97.5%</td>\n",
       "    </tr>\n",
       "    <tr>\n",
       "      <th>1</th>\n",
       "      <td>1</td>\n",
       "      <td>2.5%</td>\n",
       "    </tr>\n",
       "  </tbody>\n",
       "</table>\n",
       "</div>"
      ],
      "text/plain": [
       "   Ever_Delinquent percent\n",
       "0                0   97.5%\n",
       "1                1    2.5%"
      ]
     },
     "metadata": {},
     "output_type": "display_data"
    },
    {
     "data": {
      "text/html": [
       "<div>\n",
       "<table border=\"1\" class=\"dataframe\">\n",
       "  <thead>\n",
       "    <tr style=\"text-align: right;\">\n",
       "      <th></th>\n",
       "      <th>claim_flag</th>\n",
       "      <th>percent</th>\n",
       "    </tr>\n",
       "  </thead>\n",
       "  <tbody>\n",
       "    <tr>\n",
       "      <th>0</th>\n",
       "      <td>0</td>\n",
       "      <td>99.8%</td>\n",
       "    </tr>\n",
       "    <tr>\n",
       "      <th>1</th>\n",
       "      <td>1</td>\n",
       "      <td>0.2%</td>\n",
       "    </tr>\n",
       "  </tbody>\n",
       "</table>\n",
       "</div>"
      ],
      "text/plain": [
       "   claim_flag percent\n",
       "0           0   99.8%\n",
       "1           1    0.2%"
      ]
     },
     "metadata": {},
     "output_type": "display_data"
    }
   ],
   "source": [
    "for feature in features:\n",
    "    ICD.display(percent_format(agg_column(df, feature), 1))"
   ]
  },
  {
   "cell_type": "code",
   "execution_count": 12,
   "metadata": {
    "collapsed": false
   },
   "outputs": [
    {
     "data": {
      "text/plain": [
       "ory\n",
       "2010    0.6%\n",
       "2011    0.3%\n",
       "2012    0.1%\n",
       "2013    0.1%\n",
       "Name: loan_id, dtype: object"
      ]
     },
     "execution_count": 12,
     "metadata": {},
     "output_type": "execute_result"
    }
   ],
   "source": [
    "# Claim Rate by Vintage Year\n",
    "(df[df['claim_flag']==1]\n",
    " .groupby('ory')\n",
    " .loan_id.nunique()/df.groupby('ory').loan_id.nunique()\n",
    ").mul(100).round(1).astype(str) + '%'"
   ]
  },
  {
   "cell_type": "markdown",
   "metadata": {},
   "source": [
    "### Distribution on Features Values"
   ]
  },
  {
   "cell_type": "code",
   "execution_count": 13,
   "metadata": {
    "collapsed": true
   },
   "outputs": [],
   "source": [
    "# Create dictionary to map feature's distribution\n",
    "distr_dict = {}\n",
    "for feature in features:\n",
    "    distr_series = agg_column(df, feature)\n",
    "    distr_dict[feature] = distr_series"
   ]
  },
  {
   "cell_type": "code",
   "execution_count": 14,
   "metadata": {
    "collapsed": false
   },
   "outputs": [
    {
     "data": {
      "text/plain": [
       "[<matplotlib.text.Text at 0xa05d128>, <matplotlib.text.Text at 0xa0286a0>]"
      ]
     },
     "execution_count": 14,
     "metadata": {},
     "output_type": "execute_result"
    },
    {
     "data": {
      "image/png": "[encoded data removed]",
      "text/plain": [
       "<matplotlib.figure.Figure at 0x79280b8>"
      ]
     },
     "metadata": {},
     "output_type": "display_data"
    }
   ],
   "source": [
    "histogram(distr_dict['ory'], 'Origination Year')"
   ]
  },
  {
   "cell_type": "code",
   "execution_count": 15,
   "metadata": {
    "collapsed": false,
    "scrolled": true
   },
   "outputs": [
    {
     "data": {
      "text/plain": [
       "[<matplotlib.text.Text at 0xa059780>, <matplotlib.text.Text at 0xa7d7588>]"
      ]
     },
     "execution_count": 15,
     "metadata": {},
     "output_type": "execute_result"
    },
    {
     "data": {
      "image/png": "[encoded data removed]",
      "text/plain": [
       "<matplotlib.figure.Figure at 0xa804b38>"
      ]
     },
     "metadata": {},
     "output_type": "display_data"
    }
   ],
   "source": [
    "histogram(distr_dict['loan_purp'], 'Loan Purpose')"
   ]
  },
  {
   "cell_type": "code",
   "execution_count": 16,
   "metadata": {
    "collapsed": false,
    "scrolled": true
   },
   "outputs": [
    {
     "data": {
      "text/plain": [
       "[<matplotlib.text.Text at 0xa8d5c88>, <matplotlib.text.Text at 0xa8a85c0>]"
      ]
     },
     "execution_count": 16,
     "metadata": {},
     "output_type": "execute_result"
    },
    {
     "data": {
      "image/png": "[encoded data removed]",
      "text/plain": [
       "<matplotlib.figure.Figure at 0xa884c88>"
      ]
     },
     "metadata": {},
     "output_type": "display_data"
    }
   ],
   "source": [
    "histogram(distr_dict['fhb_flag'], 'First Time Homebuyer')"
   ]
  },
  {
   "cell_type": "code",
   "execution_count": 17,
   "metadata": {
    "collapsed": false
   },
   "outputs": [
    {
     "data": {
      "text/plain": [
       "[<matplotlib.text.Text at 0xa82acc0>, <matplotlib.text.Text at 0xa9374a8>]"
      ]
     },
     "execution_count": 17,
     "metadata": {},
     "output_type": "execute_result"
    },
    {
     "data": {
      "image/png": "[encoded data removed]",
      "text/plain": [
       "<matplotlib.figure.Figure at 0xa8edf28>"
      ]
     },
     "metadata": {},
     "output_type": "display_data"
    }
   ],
   "source": [
    "histogram(distr_dict['Ever_Delinquent'], 'Ever Delinquent')"
   ]
  },
  {
   "cell_type": "code",
   "execution_count": 18,
   "metadata": {
    "collapsed": false
   },
   "outputs": [
    {
     "data": {
      "text/plain": [
       "[<matplotlib.text.Text at 0xa8d5748>, <matplotlib.text.Text at 0xa9525f8>]"
      ]
     },
     "execution_count": 18,
     "metadata": {},
     "output_type": "execute_result"
    },
    {
     "data": {
      "image/png": "[encoded data removed]",
      "text/plain": [
       "<matplotlib.figure.Figure at 0xa9ed8d0>"
      ]
     },
     "metadata": {},
     "output_type": "display_data"
    }
   ],
   "source": [
    "histogram_alt('ltv_new')"
   ]
  },
  {
   "cell_type": "code",
   "execution_count": 19,
   "metadata": {
    "collapsed": false
   },
   "outputs": [
    {
     "data": {
      "text/plain": [
       "[<matplotlib.text.Text at 0xaa9d7b8>, <matplotlib.text.Text at 0xaa87828>]"
      ]
     },
     "execution_count": 19,
     "metadata": {},
     "output_type": "execute_result"
    },
    {
     "data": {
      "image/png": "[encoded data removed]",
      "text/plain": [
       "<matplotlib.figure.Figure at 0xaa73128>"
      ]
     },
     "metadata": {},
     "output_type": "display_data"
    }
   ],
   "source": [
    "histogram_alt('FICO_new')"
   ]
  },
  {
   "cell_type": "code",
   "execution_count": 20,
   "metadata": {
    "collapsed": false
   },
   "outputs": [
    {
     "data": {
      "text/plain": [
       "[<matplotlib.text.Text at 0xab61a90>, <matplotlib.text.Text at 0xaab82b0>]"
      ]
     },
     "execution_count": 20,
     "metadata": {},
     "output_type": "execute_result"
    },
    {
     "data": {
      "image/png": "[encoded data removed]",
      "text/plain": [
       "<matplotlib.figure.Figure at 0xa8f7320>"
      ]
     },
     "metadata": {},
     "output_type": "display_data"
    }
   ],
   "source": [
    "histogram_alt('dti_new')"
   ]
  },
  {
   "cell_type": "markdown",
   "metadata": {},
   "source": [
    "# II. Modeling"
   ]
  },
  {
   "cell_type": "code",
   "execution_count": 21,
   "metadata": {
    "collapsed": true
   },
   "outputs": [],
   "source": [
    "from sklearn.metrics import auc\n",
    "from sklearn.metrics import roc_auc_score\n",
    "from sklearn import model_selection\n",
    "from sklearn.linear_model import LogisticRegression\n",
    "from sklearn.svm import SVC\n",
    "from sklearn.ensemble import RandomForestClassifier\n",
    "from sklearn.tree import DecisionTreeClassifier\n",
    "from sklearn.neighbors import KNeighborsClassifier\n",
    "from sklearn.discriminant_analysis import LinearDiscriminantAnalysis\n",
    "from sklearn.naive_bayes import GaussianNB\n",
    "from sklearn.model_selection import GridSearchCV"
   ]
  },
  {
   "cell_type": "markdown",
   "metadata": {},
   "source": [
    "**Due to unbalanced target data, we will need to upsample or downsample one of the class. Here I chose to downsample never delinquent (class 0) loans** \n",
    "** >> Select 10,000 per class **"
   ]
  },
  {
   "cell_type": "code",
   "execution_count": 22,
   "metadata": {
    "collapsed": true
   },
   "outputs": [],
   "source": [
    "target_col_name = 'Ever_Delinquent'\n",
    "sample_size = 10000\n",
    "df_new =df.groupby(target_col_name,as_index=False).apply(lambda x: x.sample(sample_size)).reset_index()"
   ]
  },
  {
   "cell_type": "code",
   "execution_count": 23,
   "metadata": {
    "collapsed": false
   },
   "outputs": [
    {
     "data": {
      "text/plain": [
       "Ever_Delinquent\n",
       "0    10000\n",
       "1    10000\n",
       "Name: loan_id, dtype: int64"
      ]
     },
     "execution_count": 23,
     "metadata": {},
     "output_type": "execute_result"
    }
   ],
   "source": [
    "df_new.groupby(target_col_name).loan_id.nunique()"
   ]
  },
  {
   "cell_type": "markdown",
   "metadata": {},
   "source": [
    "### Selected Features to Fit the Model\n",
    "- **Loan Purpose**: loan_purp \n",
    "- **Property Type**: prop_type\n",
    "- **Occupancy Status**: occ_stat\n",
    "- **DTI**: dti_new\n",
    "- **FICO**: FICO_new\n",
    "- **LTV**: ltv_new\n",
    "- **First Time Home Buyer Indicator**: fhb_flag\n",
    "- **MI Channel**: MI_chl\n",
    "- **Number of Borrower**: no_bor\n",
    "- **Origination Year**: ory\n",
    "\n",
    "### Target : Ever Delinquent (Y/N -- 1/0)"
   ]
  },
  {
   "cell_type": "code",
   "execution_count": 24,
   "metadata": {
    "collapsed": true
   },
   "outputs": [],
   "source": [
    "# Create a new DataFrame to just include selected features and target\n",
    "selected_col_name = ['loan_purp', 'prop_type', 'occ_stat', 'dti_new',\n",
    "                     'FICO_new', 'ltv_new', 'fhb_flag', 'MI_chl',\n",
    "                     'no_bor','ory','Ever_Delinquent']\n",
    "\n",
    "df_model = df_new[selected_col_name]"
   ]
  },
  {
   "cell_type": "code",
   "execution_count": 25,
   "metadata": {
    "collapsed": false,
    "scrolled": true
   },
   "outputs": [
    {
     "data": {
      "text/html": [
       "<div>\n",
       "<table border=\"1\" class=\"dataframe\">\n",
       "  <thead>\n",
       "    <tr style=\"text-align: right;\">\n",
       "      <th></th>\n",
       "      <th>loan_purp</th>\n",
       "      <th>prop_type</th>\n",
       "      <th>occ_stat</th>\n",
       "      <th>dti_new</th>\n",
       "      <th>FICO_new</th>\n",
       "      <th>ltv_new</th>\n",
       "      <th>fhb_flag</th>\n",
       "      <th>MI_chl</th>\n",
       "      <th>no_bor</th>\n",
       "      <th>ory</th>\n",
       "      <th>Ever_Delinquent</th>\n",
       "    </tr>\n",
       "  </thead>\n",
       "  <tbody>\n",
       "    <tr>\n",
       "      <th>0</th>\n",
       "      <td>N</td>\n",
       "      <td>SF</td>\n",
       "      <td>O</td>\n",
       "      <td>27.5</td>\n",
       "      <td>690</td>\n",
       "      <td>85</td>\n",
       "      <td>N</td>\n",
       "      <td>Non-Delegated</td>\n",
       "      <td>2</td>\n",
       "      <td>2012</td>\n",
       "      <td>0</td>\n",
       "    </tr>\n",
       "    <tr>\n",
       "      <th>1</th>\n",
       "      <td>P</td>\n",
       "      <td>SF</td>\n",
       "      <td>O</td>\n",
       "      <td>42.5</td>\n",
       "      <td>790</td>\n",
       "      <td>90</td>\n",
       "      <td>N</td>\n",
       "      <td>Non-Delegated</td>\n",
       "      <td>1</td>\n",
       "      <td>2012</td>\n",
       "      <td>0</td>\n",
       "    </tr>\n",
       "    <tr>\n",
       "      <th>2</th>\n",
       "      <td>N</td>\n",
       "      <td>SF</td>\n",
       "      <td>O</td>\n",
       "      <td>42.5</td>\n",
       "      <td>750</td>\n",
       "      <td>95</td>\n",
       "      <td>N</td>\n",
       "      <td>Delegated</td>\n",
       "      <td>2</td>\n",
       "      <td>2013</td>\n",
       "      <td>0</td>\n",
       "    </tr>\n",
       "    <tr>\n",
       "      <th>3</th>\n",
       "      <td>N</td>\n",
       "      <td>SF</td>\n",
       "      <td>O</td>\n",
       "      <td>37.5</td>\n",
       "      <td>690</td>\n",
       "      <td>90</td>\n",
       "      <td>N</td>\n",
       "      <td>Delegated</td>\n",
       "      <td>1</td>\n",
       "      <td>2013</td>\n",
       "      <td>0</td>\n",
       "    </tr>\n",
       "    <tr>\n",
       "      <th>4</th>\n",
       "      <td>N</td>\n",
       "      <td>SF</td>\n",
       "      <td>O</td>\n",
       "      <td>27.5</td>\n",
       "      <td>750</td>\n",
       "      <td>95</td>\n",
       "      <td>N</td>\n",
       "      <td>Delegated</td>\n",
       "      <td>2</td>\n",
       "      <td>2012</td>\n",
       "      <td>0</td>\n",
       "    </tr>\n",
       "  </tbody>\n",
       "</table>\n",
       "</div>"
      ],
      "text/plain": [
       "  loan_purp prop_type occ_stat  dti_new  FICO_new  ltv_new fhb_flag  \\\n",
       "0         N        SF        O     27.5       690       85        N   \n",
       "1         P        SF        O     42.5       790       90        N   \n",
       "2         N        SF        O     42.5       750       95        N   \n",
       "3         N        SF        O     37.5       690       90        N   \n",
       "4         N        SF        O     27.5       750       95        N   \n",
       "\n",
       "          MI_chl  no_bor   ory  Ever_Delinquent  \n",
       "0  Non-Delegated       2  2012                0  \n",
       "1  Non-Delegated       1  2012                0  \n",
       "2      Delegated       2  2013                0  \n",
       "3      Delegated       1  2013                0  \n",
       "4      Delegated       2  2012                0  "
      ]
     },
     "execution_count": 25,
     "metadata": {},
     "output_type": "execute_result"
    }
   ],
   "source": [
    "df_model.head()"
   ]
  },
  {
   "cell_type": "code",
   "execution_count": 26,
   "metadata": {
    "collapsed": true
   },
   "outputs": [],
   "source": [
    "# Split table into \"target\" vs. \"features\"\n",
    "X = df_model.iloc[:,0:-1].values\n",
    "y = df_model.iloc[:,-1].values"
   ]
  },
  {
   "cell_type": "code",
   "execution_count": 27,
   "metadata": {
    "collapsed": true
   },
   "outputs": [],
   "source": [
    "# Encode Categorical Columns to Dummy Variable\n",
    "feature_ls = ['loan_purp', 'prop_type', 'occ_stat', 'dti_new', 'FICO_new', \n",
    "              'ltv_new', 'fhb_flag', 'MI_chl', 'no_bor','ory']\n",
    "              \n",
    "df_X = pd.DataFrame(X, columns=feature_ls)\n",
    "\n",
    "# Create dummy variable and drop one value for each feature\n",
    "df_X_dummy = pd.get_dummies(df_X, drop_first=True).astype(np.float64)"
   ]
  },
  {
   "cell_type": "code",
   "execution_count": 28,
   "metadata": {
    "collapsed": false
   },
   "outputs": [
    {
     "data": {
      "text/plain": [
       "(20000, 32)"
      ]
     },
     "execution_count": 28,
     "metadata": {},
     "output_type": "execute_result"
    }
   ],
   "source": [
    "df_X_dummy.shape"
   ]
  },
  {
   "cell_type": "code",
   "execution_count": 29,
   "metadata": {
    "collapsed": false
   },
   "outputs": [
    {
     "data": {
      "text/html": [
       "<div>\n",
       "<table border=\"1\" class=\"dataframe\">\n",
       "  <thead>\n",
       "    <tr style=\"text-align: right;\">\n",
       "      <th></th>\n",
       "      <th>loan_purp_N</th>\n",
       "      <th>loan_purp_P</th>\n",
       "      <th>prop_type_MH</th>\n",
       "      <th>prop_type_SF</th>\n",
       "      <th>occ_stat_S</th>\n",
       "      <th>dti_new_12.5</th>\n",
       "      <th>dti_new_17.5</th>\n",
       "      <th>dti_new_22.5</th>\n",
       "      <th>dti_new_27.5</th>\n",
       "      <th>dti_new_32.5</th>\n",
       "      <th>...</th>\n",
       "      <th>FICO_new_800</th>\n",
       "      <th>ltv_new_90</th>\n",
       "      <th>ltv_new_95</th>\n",
       "      <th>ltv_new_97</th>\n",
       "      <th>fhb_flag_Y</th>\n",
       "      <th>MI_chl_Non-Delegated</th>\n",
       "      <th>no_bor_2</th>\n",
       "      <th>ory_2011</th>\n",
       "      <th>ory_2012</th>\n",
       "      <th>ory_2013</th>\n",
       "    </tr>\n",
       "  </thead>\n",
       "  <tbody>\n",
       "    <tr>\n",
       "      <th>0</th>\n",
       "      <td>1.0</td>\n",
       "      <td>0.0</td>\n",
       "      <td>0.0</td>\n",
       "      <td>1.0</td>\n",
       "      <td>0.0</td>\n",
       "      <td>0.0</td>\n",
       "      <td>0.0</td>\n",
       "      <td>0.0</td>\n",
       "      <td>1.0</td>\n",
       "      <td>0.0</td>\n",
       "      <td>...</td>\n",
       "      <td>0.0</td>\n",
       "      <td>0.0</td>\n",
       "      <td>0.0</td>\n",
       "      <td>0.0</td>\n",
       "      <td>0.0</td>\n",
       "      <td>1.0</td>\n",
       "      <td>1.0</td>\n",
       "      <td>0.0</td>\n",
       "      <td>1.0</td>\n",
       "      <td>0.0</td>\n",
       "    </tr>\n",
       "    <tr>\n",
       "      <th>1</th>\n",
       "      <td>0.0</td>\n",
       "      <td>1.0</td>\n",
       "      <td>0.0</td>\n",
       "      <td>1.0</td>\n",
       "      <td>0.0</td>\n",
       "      <td>0.0</td>\n",
       "      <td>0.0</td>\n",
       "      <td>0.0</td>\n",
       "      <td>0.0</td>\n",
       "      <td>0.0</td>\n",
       "      <td>...</td>\n",
       "      <td>0.0</td>\n",
       "      <td>1.0</td>\n",
       "      <td>0.0</td>\n",
       "      <td>0.0</td>\n",
       "      <td>0.0</td>\n",
       "      <td>1.0</td>\n",
       "      <td>0.0</td>\n",
       "      <td>0.0</td>\n",
       "      <td>1.0</td>\n",
       "      <td>0.0</td>\n",
       "    </tr>\n",
       "    <tr>\n",
       "      <th>2</th>\n",
       "      <td>1.0</td>\n",
       "      <td>0.0</td>\n",
       "      <td>0.0</td>\n",
       "      <td>1.0</td>\n",
       "      <td>0.0</td>\n",
       "      <td>0.0</td>\n",
       "      <td>0.0</td>\n",
       "      <td>0.0</td>\n",
       "      <td>0.0</td>\n",
       "      <td>0.0</td>\n",
       "      <td>...</td>\n",
       "      <td>0.0</td>\n",
       "      <td>0.0</td>\n",
       "      <td>1.0</td>\n",
       "      <td>0.0</td>\n",
       "      <td>0.0</td>\n",
       "      <td>0.0</td>\n",
       "      <td>1.0</td>\n",
       "      <td>0.0</td>\n",
       "      <td>0.0</td>\n",
       "      <td>1.0</td>\n",
       "    </tr>\n",
       "    <tr>\n",
       "      <th>3</th>\n",
       "      <td>1.0</td>\n",
       "      <td>0.0</td>\n",
       "      <td>0.0</td>\n",
       "      <td>1.0</td>\n",
       "      <td>0.0</td>\n",
       "      <td>0.0</td>\n",
       "      <td>0.0</td>\n",
       "      <td>0.0</td>\n",
       "      <td>0.0</td>\n",
       "      <td>0.0</td>\n",
       "      <td>...</td>\n",
       "      <td>0.0</td>\n",
       "      <td>1.0</td>\n",
       "      <td>0.0</td>\n",
       "      <td>0.0</td>\n",
       "      <td>0.0</td>\n",
       "      <td>0.0</td>\n",
       "      <td>0.0</td>\n",
       "      <td>0.0</td>\n",
       "      <td>0.0</td>\n",
       "      <td>1.0</td>\n",
       "    </tr>\n",
       "    <tr>\n",
       "      <th>4</th>\n",
       "      <td>1.0</td>\n",
       "      <td>0.0</td>\n",
       "      <td>0.0</td>\n",
       "      <td>1.0</td>\n",
       "      <td>0.0</td>\n",
       "      <td>0.0</td>\n",
       "      <td>0.0</td>\n",
       "      <td>0.0</td>\n",
       "      <td>1.0</td>\n",
       "      <td>0.0</td>\n",
       "      <td>...</td>\n",
       "      <td>0.0</td>\n",
       "      <td>0.0</td>\n",
       "      <td>1.0</td>\n",
       "      <td>0.0</td>\n",
       "      <td>0.0</td>\n",
       "      <td>0.0</td>\n",
       "      <td>1.0</td>\n",
       "      <td>0.0</td>\n",
       "      <td>1.0</td>\n",
       "      <td>0.0</td>\n",
       "    </tr>\n",
       "  </tbody>\n",
       "</table>\n",
       "<p>5 rows × 32 columns</p>\n",
       "</div>"
      ],
      "text/plain": [
       "   loan_purp_N  loan_purp_P  prop_type_MH  prop_type_SF  occ_stat_S  \\\n",
       "0          1.0          0.0           0.0           1.0         0.0   \n",
       "1          0.0          1.0           0.0           1.0         0.0   \n",
       "2          1.0          0.0           0.0           1.0         0.0   \n",
       "3          1.0          0.0           0.0           1.0         0.0   \n",
       "4          1.0          0.0           0.0           1.0         0.0   \n",
       "\n",
       "   dti_new_12.5  dti_new_17.5  dti_new_22.5  dti_new_27.5  dti_new_32.5  \\\n",
       "0           0.0           0.0           0.0           1.0           0.0   \n",
       "1           0.0           0.0           0.0           0.0           0.0   \n",
       "2           0.0           0.0           0.0           0.0           0.0   \n",
       "3           0.0           0.0           0.0           0.0           0.0   \n",
       "4           0.0           0.0           0.0           1.0           0.0   \n",
       "\n",
       "     ...     FICO_new_800  ltv_new_90  ltv_new_95  ltv_new_97  fhb_flag_Y  \\\n",
       "0    ...              0.0         0.0         0.0         0.0         0.0   \n",
       "1    ...              0.0         1.0         0.0         0.0         0.0   \n",
       "2    ...              0.0         0.0         1.0         0.0         0.0   \n",
       "3    ...              0.0         1.0         0.0         0.0         0.0   \n",
       "4    ...              0.0         0.0         1.0         0.0         0.0   \n",
       "\n",
       "   MI_chl_Non-Delegated  no_bor_2  ory_2011  ory_2012  ory_2013  \n",
       "0                   1.0       1.0       0.0       1.0       0.0  \n",
       "1                   1.0       0.0       0.0       1.0       0.0  \n",
       "2                   0.0       1.0       0.0       0.0       1.0  \n",
       "3                   0.0       0.0       0.0       0.0       1.0  \n",
       "4                   0.0       1.0       0.0       1.0       0.0  \n",
       "\n",
       "[5 rows x 32 columns]"
      ]
     },
     "execution_count": 29,
     "metadata": {},
     "output_type": "execute_result"
    }
   ],
   "source": [
    "df_X_dummy.head()"
   ]
  },
  {
   "cell_type": "code",
   "execution_count": 30,
   "metadata": {
    "collapsed": true
   },
   "outputs": [],
   "source": [
    "# FICO related fields list - used to create model threshold\n",
    "df_X_FICO = df_X_dummy[['FICO_new_650', 'FICO_new_670', 'FICO_new_690',\n",
    "                        'FICO_new_710', 'FICO_new_730', 'FICO_new_750',\n",
    "                        'FICO_new_770', 'FICO_new_790', 'FICO_new_800'\n",
    "                       ]]\n",
    "\n",
    "# Change the transformed dataframe to array\n",
    "X = df_X_dummy.as_matrix()\n",
    "X_FICO = df_X_FICO.as_matrix()"
   ]
  },
  {
   "cell_type": "code",
   "execution_count": 31,
   "metadata": {
    "collapsed": true
   },
   "outputs": [],
   "source": [
    "# Splitting the dataset into the Training set and Test set\n",
    "from sklearn.model_selection import train_test_split\n",
    "X_train, X_test, y_train, y_test = train_test_split(X, y, test_size = 0.2, random_state = 0)\n",
    "X_FICO_train, X_FICO_test, y_FICO_train, y_FICO_test = train_test_split(X_FICO, y, test_size = 0.2, random_state = 0)"
   ]
  },
  {
   "cell_type": "markdown",
   "metadata": {},
   "source": [
    "### Threshold Creation - Based on FICO Only Prediction"
   ]
  },
  {
   "cell_type": "code",
   "execution_count": 32,
   "metadata": {
    "collapsed": false
   },
   "outputs": [
    {
     "name": "stdout",
     "output_type": "stream",
     "text": [
      "ROC AUC Score Threshold is 0.65337663039\n"
     ]
    }
   ],
   "source": [
    "clf_thresh = LogisticRegression()\n",
    "clf_thresh.fit(X_FICO_train, y_FICO_train)\n",
    "y_FICO_pred = clf_thresh.predict(X_FICO_test)\n",
    "print('ROC AUC Score Threshold is %s' % (roc_auc_score(y_FICO_test, y_FICO_pred)))"
   ]
  },
  {
   "cell_type": "markdown",
   "metadata": {},
   "source": [
    "### Fitting - Applying Different Classifiers on Training Set"
   ]
  },
  {
   "cell_type": "code",
   "execution_count": 33,
   "metadata": {
    "collapsed": true
   },
   "outputs": [],
   "source": [
    "# prepare models\n",
    "models = []\n",
    "models.append(('LR', LogisticRegression(random_state=0)))\n",
    "models.append(('LDA', LinearDiscriminantAnalysis(solver='eigen', shrinkage='auto')))\n",
    "models.append(('KNN', KNeighborsClassifier(n_neighbors=5, metric='minkowski', p=2)))\n",
    "models.append(('CART', DecisionTreeClassifier(criterion='entropy', random_state=0)))\n",
    "models.append(('NB', GaussianNB()))\n",
    "models.append(('SVM', SVC(kernel=\"linear\", random_state=0)))\n",
    "models.append(('SVMKernel', SVC(kernel=\"poly\", random_state=0)))\n",
    "models.append(('RF', RandomForestClassifier(n_estimators=100, criterion='entropy', random_state=0)))"
   ]
  },
  {
   "cell_type": "code",
   "execution_count": 34,
   "metadata": {
    "collapsed": false
   },
   "outputs": [
    {
     "name": "stdout",
     "output_type": "stream",
     "text": [
      "LR: 0.744760 (0.012631)\n",
      "LDA: 0.736719 (0.013177)\n",
      "KNN: 0.658715 (0.013613)\n",
      "CART: 0.621853 (0.011793)\n",
      "NB: 0.700488 (0.014715)\n",
      "SVM: 0.730283 (0.013550)\n",
      "SVMKernel: 0.718058 (0.013510)\n",
      "RF: 0.667313 (0.010522)\n"
     ]
    },
    {
     "data": {
      "image/png": "[encoded data removed]",
      "text/plain": [
       "<matplotlib.figure.Figure at 0xb5b6630>"
      ]
     },
     "metadata": {},
     "output_type": "display_data"
    }
   ],
   "source": [
    "# prepare configuration for cross validation test harness\n",
    "seed = 7\n",
    "\n",
    "# Compare AUC score among different models\n",
    "results = []\n",
    "names = []\n",
    "scoring = 'roc_auc'\n",
    "for name, model in models:\n",
    "\tkfold = model_selection.KFold(n_splits=10, random_state=seed)\n",
    "\tcv_results = model_selection.cross_val_score(model, X_train, y_train, cv=kfold, scoring=scoring)\n",
    "\tresults.append(cv_results)\n",
    "\tnames.append(name)\n",
    "\tmsg = \"%s: %f (%f)\" % (name, cv_results.mean(), cv_results.std())\n",
    "\tprint(msg)\n",
    "    \n",
    "# boxplot algorithm comparison\n",
    "fig = plt.figure()\n",
    "fig.suptitle('Algorithm ROC AUC Score Comparison')\n",
    "ax = fig.add_subplot(111)\n",
    "plt.boxplot(results)\n",
    "ax.set_xticklabels(names)\n",
    "plt.show()"
   ]
  },
  {
   "cell_type": "code",
   "execution_count": 35,
   "metadata": {
    "collapsed": false
   },
   "outputs": [
    {
     "data": {
      "text/plain": [
       "Ever_Delinquent\n",
       "0    nan%\n",
       "1    8.4%\n",
       "Name: loan_id, dtype: object"
      ]
     },
     "execution_count": 35,
     "metadata": {},
     "output_type": "execute_result"
    }
   ],
   "source": [
    "# Find out the probablity of loan in claim with the ever deliquent status\n",
    "(df[df['claim_flag'] == 1]\n",
    "  .groupby('Ever_Delinquent')\n",
    "  .loan_id.nunique()/df.groupby('Ever_Delinquent').loan_id.nunique()\n",
    ").mul(100).round(1).astype(str) + '%'"
   ]
  },
  {
   "cell_type": "markdown",
   "metadata": {},
   "source": [
    "### Perform Regularization and Hyperparameter Tuning on Best Performed Model"
   ]
  },
  {
   "cell_type": "code",
   "execution_count": 36,
   "metadata": {
    "collapsed": true
   },
   "outputs": [],
   "source": [
    "# Create logistic regression\n",
    "lr = LogisticRegression(random_state=0)\n",
    "\n",
    "# Create regularization penalty space\n",
    "penalty = ['l1', 'l2']\n",
    "\n",
    "# Create regularization hyperparameter space\n",
    "C = np.logspace(0, 4, 10)\n",
    "\n",
    "# Create hyperparameter options\n",
    "hyperparameters = dict(C=C, penalty=penalty)\n",
    "\n",
    "# Create grid search using 10-fold cross validation\n",
    "clf = GridSearchCV(lr, hyperparameters, cv=10, verbose=0)"
   ]
  },
  {
   "cell_type": "code",
   "execution_count": 37,
   "metadata": {
    "collapsed": true
   },
   "outputs": [],
   "source": [
    "# Fit grid search\n",
    "best_model = clf.fit(X_train, y_train)"
   ]
  },
  {
   "cell_type": "code",
   "execution_count": 38,
   "metadata": {
    "collapsed": false
   },
   "outputs": [
    {
     "name": "stdout",
     "output_type": "stream",
     "text": [
      "Best Penalty: l1\n",
      "Best C: 2.78255940221\n"
     ]
    }
   ],
   "source": [
    "# View best hyperparameters\n",
    "print('Best Penalty:', best_model.best_estimator_.get_params()['penalty'])\n",
    "print('Best C:', best_model.best_estimator_.get_params()['C'])"
   ]
  },
  {
   "cell_type": "code",
   "execution_count": 39,
   "metadata": {
    "collapsed": true
   },
   "outputs": [],
   "source": [
    "penalty = best_model.best_estimator_.get_params()['penalty']\n",
    "c = best_model.best_estimator_.get_params()['C']"
   ]
  },
  {
   "cell_type": "markdown",
   "metadata": {},
   "source": [
    "# Model Evaluation"
   ]
  },
  {
   "cell_type": "code",
   "execution_count": 40,
   "metadata": {
    "collapsed": true
   },
   "outputs": [],
   "source": [
    "# Use the best hyperparameter to finalize the model\n",
    "clf_final = LogisticRegression(penalty=penalty, C=c, random_state=0)\n",
    "clf_final.fit(X_train, y_train)\n",
    "\n",
    "# Predicting the Test set results\n",
    "y_pred = clf_final.predict(X_test)"
   ]
  },
  {
   "cell_type": "code",
   "execution_count": 41,
   "metadata": {
    "collapsed": false
   },
   "outputs": [
    {
     "data": {
      "text/plain": [
       "array([[-0.5243971 , -0.53795576,  0.1899796 ,  0.12638764,  0.41550965,\n",
       "         0.41649698,  0.17096906,  0.29899111,  0.35107525,  0.51688347,\n",
       "         0.75624854,  0.99210571,  1.07531195, -0.16469046, -0.25462722,\n",
       "        -0.67792806, -1.18033671, -1.54357996, -1.92353705, -2.35250751,\n",
       "        -2.66013889, -3.00673774, -3.06484303,  0.11770887,  0.37429827,\n",
       "         0.45756852, -0.04862289,  0.08429143, -0.84973561, -0.42337267,\n",
       "        -0.72048468, -0.78828488]])"
      ]
     },
     "execution_count": 41,
     "metadata": {},
     "output_type": "execute_result"
    }
   ],
   "source": [
    "clf_final.coef_"
   ]
  },
  {
   "cell_type": "code",
   "execution_count": 42,
   "metadata": {
    "collapsed": false
   },
   "outputs": [
    {
     "data": {
      "text/plain": [
       "array(['loan_purp_N', 'loan_purp_P', 'prop_type_MH', 'prop_type_SF',\n",
       "       'occ_stat_S', 'dti_new_12.5', 'dti_new_17.5', 'dti_new_22.5',\n",
       "       'dti_new_27.5', 'dti_new_32.5', 'dti_new_37.5', 'dti_new_42.5',\n",
       "       'dti_new_47.5', 'dti_new_50.0', 'FICO_new_650', 'FICO_new_670',\n",
       "       'FICO_new_690', 'FICO_new_710', 'FICO_new_730', 'FICO_new_750',\n",
       "       'FICO_new_770', 'FICO_new_790', 'FICO_new_800', 'ltv_new_90',\n",
       "       'ltv_new_95', 'ltv_new_97', 'fhb_flag_Y', 'MI_chl_Non-Delegated',\n",
       "       'no_bor_2', 'ory_2011', 'ory_2012', 'ory_2013'], dtype=object)"
      ]
     },
     "execution_count": 42,
     "metadata": {},
     "output_type": "execute_result"
    }
   ],
   "source": [
    "df_X_dummy.columns.values"
   ]
  },
  {
   "cell_type": "code",
   "execution_count": 43,
   "metadata": {
    "collapsed": false
   },
   "outputs": [
    {
     "data": {
      "text/html": [
       "<div>\n",
       "<table border=\"1\" class=\"dataframe\">\n",
       "  <thead>\n",
       "    <tr style=\"text-align: right;\">\n",
       "      <th></th>\n",
       "      <th>Coefficients</th>\n",
       "      <th>Feature</th>\n",
       "    </tr>\n",
       "  </thead>\n",
       "  <tbody>\n",
       "    <tr>\n",
       "      <th>0</th>\n",
       "      <td>-0.524397</td>\n",
       "      <td>loan_purp_N</td>\n",
       "    </tr>\n",
       "    <tr>\n",
       "      <th>1</th>\n",
       "      <td>-0.537956</td>\n",
       "      <td>loan_purp_P</td>\n",
       "    </tr>\n",
       "    <tr>\n",
       "      <th>2</th>\n",
       "      <td>0.189980</td>\n",
       "      <td>prop_type_MH</td>\n",
       "    </tr>\n",
       "    <tr>\n",
       "      <th>3</th>\n",
       "      <td>0.126388</td>\n",
       "      <td>prop_type_SF</td>\n",
       "    </tr>\n",
       "    <tr>\n",
       "      <th>4</th>\n",
       "      <td>0.415510</td>\n",
       "      <td>occ_stat_S</td>\n",
       "    </tr>\n",
       "    <tr>\n",
       "      <th>5</th>\n",
       "      <td>0.416497</td>\n",
       "      <td>dti_new_12.5</td>\n",
       "    </tr>\n",
       "    <tr>\n",
       "      <th>6</th>\n",
       "      <td>0.170969</td>\n",
       "      <td>dti_new_17.5</td>\n",
       "    </tr>\n",
       "    <tr>\n",
       "      <th>7</th>\n",
       "      <td>0.298991</td>\n",
       "      <td>dti_new_22.5</td>\n",
       "    </tr>\n",
       "    <tr>\n",
       "      <th>8</th>\n",
       "      <td>0.351075</td>\n",
       "      <td>dti_new_27.5</td>\n",
       "    </tr>\n",
       "    <tr>\n",
       "      <th>9</th>\n",
       "      <td>0.516883</td>\n",
       "      <td>dti_new_32.5</td>\n",
       "    </tr>\n",
       "    <tr>\n",
       "      <th>10</th>\n",
       "      <td>0.756249</td>\n",
       "      <td>dti_new_37.5</td>\n",
       "    </tr>\n",
       "    <tr>\n",
       "      <th>11</th>\n",
       "      <td>0.992106</td>\n",
       "      <td>dti_new_42.5</td>\n",
       "    </tr>\n",
       "    <tr>\n",
       "      <th>12</th>\n",
       "      <td>1.075312</td>\n",
       "      <td>dti_new_47.5</td>\n",
       "    </tr>\n",
       "    <tr>\n",
       "      <th>13</th>\n",
       "      <td>-0.164690</td>\n",
       "      <td>dti_new_50.0</td>\n",
       "    </tr>\n",
       "    <tr>\n",
       "      <th>14</th>\n",
       "      <td>-0.254627</td>\n",
       "      <td>FICO_new_650</td>\n",
       "    </tr>\n",
       "    <tr>\n",
       "      <th>15</th>\n",
       "      <td>-0.677928</td>\n",
       "      <td>FICO_new_670</td>\n",
       "    </tr>\n",
       "    <tr>\n",
       "      <th>16</th>\n",
       "      <td>-1.180337</td>\n",
       "      <td>FICO_new_690</td>\n",
       "    </tr>\n",
       "    <tr>\n",
       "      <th>17</th>\n",
       "      <td>-1.543580</td>\n",
       "      <td>FICO_new_710</td>\n",
       "    </tr>\n",
       "    <tr>\n",
       "      <th>18</th>\n",
       "      <td>-1.923537</td>\n",
       "      <td>FICO_new_730</td>\n",
       "    </tr>\n",
       "    <tr>\n",
       "      <th>19</th>\n",
       "      <td>-2.352508</td>\n",
       "      <td>FICO_new_750</td>\n",
       "    </tr>\n",
       "    <tr>\n",
       "      <th>20</th>\n",
       "      <td>-2.660139</td>\n",
       "      <td>FICO_new_770</td>\n",
       "    </tr>\n",
       "    <tr>\n",
       "      <th>21</th>\n",
       "      <td>-3.006738</td>\n",
       "      <td>FICO_new_790</td>\n",
       "    </tr>\n",
       "    <tr>\n",
       "      <th>22</th>\n",
       "      <td>-3.064843</td>\n",
       "      <td>FICO_new_800</td>\n",
       "    </tr>\n",
       "    <tr>\n",
       "      <th>23</th>\n",
       "      <td>0.117709</td>\n",
       "      <td>ltv_new_90</td>\n",
       "    </tr>\n",
       "    <tr>\n",
       "      <th>24</th>\n",
       "      <td>0.374298</td>\n",
       "      <td>ltv_new_95</td>\n",
       "    </tr>\n",
       "    <tr>\n",
       "      <th>25</th>\n",
       "      <td>0.457569</td>\n",
       "      <td>ltv_new_97</td>\n",
       "    </tr>\n",
       "    <tr>\n",
       "      <th>26</th>\n",
       "      <td>-0.048623</td>\n",
       "      <td>fhb_flag_Y</td>\n",
       "    </tr>\n",
       "    <tr>\n",
       "      <th>27</th>\n",
       "      <td>0.084291</td>\n",
       "      <td>MI_chl_Non-Delegated</td>\n",
       "    </tr>\n",
       "    <tr>\n",
       "      <th>28</th>\n",
       "      <td>-0.849736</td>\n",
       "      <td>no_bor_2</td>\n",
       "    </tr>\n",
       "    <tr>\n",
       "      <th>29</th>\n",
       "      <td>-0.423373</td>\n",
       "      <td>ory_2011</td>\n",
       "    </tr>\n",
       "    <tr>\n",
       "      <th>30</th>\n",
       "      <td>-0.720485</td>\n",
       "      <td>ory_2012</td>\n",
       "    </tr>\n",
       "    <tr>\n",
       "      <th>31</th>\n",
       "      <td>-0.788285</td>\n",
       "      <td>ory_2013</td>\n",
       "    </tr>\n",
       "  </tbody>\n",
       "</table>\n",
       "</div>"
      ],
      "text/plain": [
       "    Coefficients               Feature\n",
       "0      -0.524397           loan_purp_N\n",
       "1      -0.537956           loan_purp_P\n",
       "2       0.189980          prop_type_MH\n",
       "3       0.126388          prop_type_SF\n",
       "4       0.415510            occ_stat_S\n",
       "5       0.416497          dti_new_12.5\n",
       "6       0.170969          dti_new_17.5\n",
       "7       0.298991          dti_new_22.5\n",
       "8       0.351075          dti_new_27.5\n",
       "9       0.516883          dti_new_32.5\n",
       "10      0.756249          dti_new_37.5\n",
       "11      0.992106          dti_new_42.5\n",
       "12      1.075312          dti_new_47.5\n",
       "13     -0.164690          dti_new_50.0\n",
       "14     -0.254627          FICO_new_650\n",
       "15     -0.677928          FICO_new_670\n",
       "16     -1.180337          FICO_new_690\n",
       "17     -1.543580          FICO_new_710\n",
       "18     -1.923537          FICO_new_730\n",
       "19     -2.352508          FICO_new_750\n",
       "20     -2.660139          FICO_new_770\n",
       "21     -3.006738          FICO_new_790\n",
       "22     -3.064843          FICO_new_800\n",
       "23      0.117709            ltv_new_90\n",
       "24      0.374298            ltv_new_95\n",
       "25      0.457569            ltv_new_97\n",
       "26     -0.048623            fhb_flag_Y\n",
       "27      0.084291  MI_chl_Non-Delegated\n",
       "28     -0.849736              no_bor_2\n",
       "29     -0.423373              ory_2011\n",
       "30     -0.720485              ory_2012\n",
       "31     -0.788285              ory_2013"
      ]
     },
     "execution_count": 43,
     "metadata": {},
     "output_type": "execute_result"
    }
   ],
   "source": [
    "d = {\"Feature\":df_X_dummy.columns.values, \"Coefficients\":clf_final.coef_[0]}\n",
    "pd.DataFrame.from_dict(d)"
   ]
  },
  {
   "cell_type": "code",
   "execution_count": 44,
   "metadata": {
    "collapsed": false
   },
   "outputs": [
    {
     "data": {
      "text/plain": [
       "<matplotlib.legend.Legend at 0x11089cc0>"
      ]
     },
     "execution_count": 44,
     "metadata": {},
     "output_type": "execute_result"
    },
    {
     "data": {
      "image/png": "[encoded data removed]",
      "text/plain": [
       "<matplotlib.figure.Figure at 0xab21470>"
      ]
     },
     "metadata": {},
     "output_type": "display_data"
    }
   ],
   "source": [
    "# Plot the ROC of the training set vs. the test set\n",
    "\n",
    "from sklearn.metrics import roc_curve\n",
    "\n",
    "# For Training Dataset, plot roc curve\n",
    "fpr, tpr, thresholds = roc_curve(y_train, clf_final.predict_proba(X_train)[:,1])\n",
    "auc = roc_auc_score(y_train, clf_final.predict_proba(X_train)[:,1])\n",
    "plt.plot(fpr,tpr,label=\"Training Dataset, auc=\"+str(auc))\n",
    "\n",
    "# For Test Dataset, plot roc curve\n",
    "fpr, tpr, thresholds = roc_curve(y_test, clf_final.predict_proba(X_test)[:,1])\n",
    "auc = roc_auc_score(y_test, clf_final.predict_proba(X_test)[:,1])\n",
    "plt.plot(fpr,tpr,label=\"Test Dataset, auc=\"+str(auc))\n",
    "\n",
    "\n",
    "plt.legend(loc=0)"
   ]
  },
  {
   "cell_type": "code",
   "execution_count": 61,
   "metadata": {
    "collapsed": false
   },
   "outputs": [
    {
     "name": "stderr",
     "output_type": "stream",
     "text": [
      "C:\\Users\\wliu\\AppData\\Local\\Continuum\\Anaconda3\\lib\\site-packages\\statsmodels\\nonparametric\\kdetools.py:20: VisibleDeprecationWarning: using a non-integer number instead of an integer will result in an error in the future\n",
      "  y = X[:m/2+1] + np.r_[0,X[m/2+1:],0]*1j\n"
     ]
    },
    {
     "data": {
      "text/plain": [
       "<matplotlib.axes._subplots.AxesSubplot at 0x12622e10>"
      ]
     },
     "execution_count": 61,
     "metadata": {},
     "output_type": "execute_result"
    },
    {
     "data": {
      "image/png": "[encoded data removed]",
      "text/plain": [
       "<matplotlib.figure.Figure at 0x11ec1080>"
      ]
     },
     "metadata": {},
     "output_type": "display_data"
    }
   ],
   "source": []
  },
  {
   "cell_type": "code",
   "execution_count": null,
   "metadata": {
    "collapsed": true
   },
   "outputs": [],
   "source": []
  },
  {
   "cell_type": "code",
   "execution_count": null,
   "metadata": {
    "collapsed": true
   },
   "outputs": [],
   "source": []
  },
  {
   "cell_type": "code",
   "execution_count": 45,
   "metadata": {
    "collapsed": true
   },
   "outputs": [],
   "source": [
    "# Return the probablity of \"1\" class to training set and test set\n",
    "y_hats_train = clf_final.predict(X_train)\n",
    "class1_proba_train = clf_final.predict_proba(X_train)[:,1]\n",
    "class0_proba_train = clf_final.predict_proba(X_train)[:,0]\n",
    "df_train = pd.DataFrame(X_train, columns = df_X_dummy.columns)\n",
    "df_train.loc[:,'y_actual'] = y_train\n",
    "df_train.loc[:,'y_hats'] = y_hats_train\n",
    "df_train.loc[:,'class1_proba'] = class1_proba_train\n",
    "\n",
    "y_hats_test = clf_final.predict(X_test)\n",
    "class1_proba_test = clf_final.predict_proba(X_test)[:,1]\n",
    "class0_proba_test = clf_final.predict_proba(X_test)[:,0]\n",
    "df_test = pd.DataFrame(X_test)\n",
    "df_test.loc[:,'y_actual'] = y_test\n",
    "df_test.loc[:,'y_hats'] = y_hats_test\n",
    "df_test.loc[:,'class1_proba'] = class1_proba_test"
   ]
  },
  {
   "cell_type": "code",
   "execution_count": 46,
   "metadata": {
    "collapsed": false,
    "scrolled": true
   },
   "outputs": [
    {
     "data": {
      "text/plain": [
       "array([ 0.71885451,  0.60962581,  0.20659611, ...,  0.84483459,\n",
       "        0.52552383,  0.52313238])"
      ]
     },
     "execution_count": 46,
     "metadata": {},
     "output_type": "execute_result"
    }
   ],
   "source": [
    "import seaborn as sns\n",
    "y_hats_test = clf_final.predict_proba(X_test)\n",
    "test_eval = pd.DataFrame({'class':y_test, 'scores': list(zip(*y_hats_test))[0]})\n",
    "class1_scores = test_eval[test_eval['class'] == 1]['scores']\n",
    "class0_scores = test_eval[test_eval['class'] == 0]['scores']\n",
    "sns.distplot(class1_scores, label = \"class1_scores\")\n",
    "sns.distplot(class0_scores, label = \"class0_scores\")"
   ]
  },
  {
   "cell_type": "markdown",
   "metadata": {},
   "source": [
    "# Model Calibration"
   ]
  },
  {
   "cell_type": "code",
   "execution_count": 50,
   "metadata": {
    "collapsed": false
   },
   "outputs": [
    {
     "data": {
      "image/png": "[encoded data removed]",
      "text/plain": [
       "<matplotlib.figure.Figure at 0x12350f28>"
      ]
     },
     "metadata": {},
     "output_type": "display_data"
    }
   ],
   "source": [
    "from sklearn.calibration import CalibratedClassifierCV, calibration_curve\n",
    "\n",
    "plt.figure(figsize=(9, 9))\n",
    "ax1 = plt.subplot2grid((3, 1), (0, 0), rowspan=2)\n",
    "ax2 = plt.subplot2grid((3, 1), (2, 0))\n",
    "\n",
    "ax1.plot([0, 1], [0, 1], \"k:\", label=\"Perfectly calibrated\")\n",
    "for clf, name in [(lr, 'Logistic')\n",
    "                  ]:\n",
    "    clf.fit(X_test, y_test)\n",
    "    if hasattr(clf, \"predict_proba\"):\n",
    "        prob_pos = clf.predict_proba(X_test)[:, 1]\n",
    "    else:  # use decision function\n",
    "        prob_pos = clf.decision_function(X_test)\n",
    "        prob_pos = \\\n",
    "            (prob_pos - prob_pos.min()) / (prob_pos.max() - prob_pos.min())\n",
    "    fraction_of_positives, mean_predicted_value = \\\n",
    "        calibration_curve(y_test, prob_pos, n_bins=10)\n",
    "\n",
    "    ax1.plot(mean_predicted_value, fraction_of_positives, \"s-\",\n",
    "             label=\"%s\" % (name, ))\n",
    "\n",
    "    ax2.hist(prob_pos, range=(0, 1), bins=10, label=name,\n",
    "             histtype=\"step\", lw=2)\n",
    "\n",
    "ax1.set_ylabel(\"Fraction of positives\")\n",
    "ax1.set_ylim([-0.05, 1.05])\n",
    "ax1.legend(loc=\"lower right\")\n",
    "ax1.set_title('Calibration plot  (reliability curve)')\n",
    "\n",
    "ax2.set_xlabel(\"Mean predicted value\")\n",
    "ax2.set_ylabel(\"Count\")\n",
    "ax2.legend(loc=\"upper center\", ncol=2)\n",
    "\n",
    "plt.tight_layout()"
   ]
  },
  {
   "cell_type": "code",
   "execution_count": 51,
   "metadata": {
    "collapsed": false
   },
   "outputs": [
    {
     "data": {
      "image/png": "[encoded data removed]",
      "text/plain": [
       "<matplotlib.figure.Figure at 0x12293780>"
      ]
     },
     "metadata": {},
     "output_type": "display_data"
    }
   ],
   "source": [
    "plt.figure(figsize=(9, 9))\n",
    "ax1 = plt.subplot2grid((3, 1), (0, 0), rowspan=2)\n",
    "ax2 = plt.subplot2grid((3, 1), (2, 0))\n",
    "\n",
    "ax1.plot([0, 1], [0, 1], \"k:\", label=\"Perfectly calibrated\")\n",
    "for clf, name in [(lr, 'Logistic')\n",
    "                  ]:\n",
    "    clf.fit(X_train, y_train)\n",
    "    if hasattr(clf, \"predict_proba\"):\n",
    "        prob_pos = clf.predict_proba(X_test)[:, 1]\n",
    "    else:  # use decision function\n",
    "        prob_pos = clf.decision_function(X_test)\n",
    "        prob_pos = \\\n",
    "            (prob_pos - prob_pos.min()) / (prob_pos.max() - prob_pos.min())\n",
    "    fraction_of_positives, mean_predicted_value = \\\n",
    "        calibration_curve(y_test, prob_pos, n_bins=10)\n",
    "\n",
    "    ax1.plot(mean_predicted_value, fraction_of_positives, \"s-\",\n",
    "             label=\"%s\" % (name, ))\n",
    "\n",
    "    ax2.hist(prob_pos, range=(0, 1), bins=10, label=name,\n",
    "             histtype=\"step\", lw=2)\n",
    "\n",
    "ax1.set_ylabel(\"Fraction of positives\")\n",
    "ax1.set_ylim([-0.05, 1.05])\n",
    "ax1.legend(loc=\"lower right\")\n",
    "ax1.set_title('Calibration plot  (reliability curve)')\n",
    "\n",
    "ax2.set_xlabel(\"Mean predicted value\")\n",
    "ax2.set_ylabel(\"Count\")\n",
    "ax2.legend(loc=\"upper center\", ncol=2)\n",
    "\n",
    "plt.tight_layout()"
   ]
  },
  {
   "cell_type": "code",
   "execution_count": null,
   "metadata": {
    "collapsed": true
   },
   "outputs": [],
   "source": []
  },
  {
   "cell_type": "code",
   "execution_count": null,
   "metadata": {
    "collapsed": true
   },
   "outputs": [],
   "source": []
  },
  {
   "cell_type": "code",
   "execution_count": null,
   "metadata": {
    "collapsed": true
   },
   "outputs": [],
   "source": []
  },
  {
   "cell_type": "code",
   "execution_count": null,
   "metadata": {
    "collapsed": true
   },
   "outputs": [],
   "source": []
  },
  {
   "cell_type": "code",
   "execution_count": null,
   "metadata": {
    "collapsed": true
   },
   "outputs": [],
   "source": []
  }
 ],
 "metadata": {
  "kernelspec": {
   "display_name": "Python 3",
   "language": "python",
   "name": "python3"
  },
  "language_info": {
   "codemirror_mode": {
    "name": "ipython",
    "version": 3
   },
   "file_extension": ".py",
   "mimetype": "text/x-python",
   "name": "python",
   "nbconvert_exporter": "python",
   "pygments_lexer": "ipython3",
   "version": "3.6.0"
  }
 },
 "nbformat": 4,
 "nbformat_minor": 2
}
